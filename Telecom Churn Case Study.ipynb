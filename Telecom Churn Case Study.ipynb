{
 "cells": [
  {
   "cell_type": "code",
   "execution_count": null,
   "id": "442ffbf2",
   "metadata": {},
   "outputs": [],
   "source": []
  },
  {
   "cell_type": "markdown",
   "id": "5ac6bb6a",
   "metadata": {},
   "source": [
    "## Data Praparation"
   ]
  },
  {
   "cell_type": "code",
   "execution_count": 1,
   "id": "dae2eed0",
   "metadata": {},
   "outputs": [],
   "source": [
    "#importing libraries\n",
    "\n",
    "import numpy as np\n",
    "import pandas as pd\n",
    "import matplotlib.pyplot as plt\n",
    "import seaborn as sns\n",
    "\n",
    "import warnings\n",
    "warnings.filterwarnings('ignore')"
   ]
  },
  {
   "cell_type": "code",
   "execution_count": 2,
   "id": "fef36117",
   "metadata": {},
   "outputs": [],
   "source": [
    "#reading csv file\n",
    "churn_data = pd.read_csv(r\"D:\\Ashima\\PGDML\\ML-2\\Telecom Churn Case Study\\telecom_churn_data.csv\")"
   ]
  },
  {
   "cell_type": "code",
   "execution_count": 3,
   "id": "e5774ab6",
   "metadata": {},
   "outputs": [
    {
     "data": {
      "text/html": [
       "<div>\n",
       "<style scoped>\n",
       "    .dataframe tbody tr th:only-of-type {\n",
       "        vertical-align: middle;\n",
       "    }\n",
       "\n",
       "    .dataframe tbody tr th {\n",
       "        vertical-align: top;\n",
       "    }\n",
       "\n",
       "    .dataframe thead th {\n",
       "        text-align: right;\n",
       "    }\n",
       "</style>\n",
       "<table border=\"1\" class=\"dataframe\">\n",
       "  <thead>\n",
       "    <tr style=\"text-align: right;\">\n",
       "      <th></th>\n",
       "      <th>mobile_number</th>\n",
       "      <th>circle_id</th>\n",
       "      <th>loc_og_t2o_mou</th>\n",
       "      <th>std_og_t2o_mou</th>\n",
       "      <th>loc_ic_t2o_mou</th>\n",
       "      <th>last_date_of_month_6</th>\n",
       "      <th>last_date_of_month_7</th>\n",
       "      <th>last_date_of_month_8</th>\n",
       "      <th>last_date_of_month_9</th>\n",
       "      <th>arpu_6</th>\n",
       "      <th>...</th>\n",
       "      <th>sachet_3g_9</th>\n",
       "      <th>fb_user_6</th>\n",
       "      <th>fb_user_7</th>\n",
       "      <th>fb_user_8</th>\n",
       "      <th>fb_user_9</th>\n",
       "      <th>aon</th>\n",
       "      <th>aug_vbc_3g</th>\n",
       "      <th>jul_vbc_3g</th>\n",
       "      <th>jun_vbc_3g</th>\n",
       "      <th>sep_vbc_3g</th>\n",
       "    </tr>\n",
       "  </thead>\n",
       "  <tbody>\n",
       "    <tr>\n",
       "      <th>0</th>\n",
       "      <td>7000842753</td>\n",
       "      <td>109</td>\n",
       "      <td>0.0</td>\n",
       "      <td>0.0</td>\n",
       "      <td>0.0</td>\n",
       "      <td>6/30/2014</td>\n",
       "      <td>7/31/2014</td>\n",
       "      <td>8/31/2014</td>\n",
       "      <td>9/30/2014</td>\n",
       "      <td>197.385</td>\n",
       "      <td>...</td>\n",
       "      <td>0</td>\n",
       "      <td>1.0</td>\n",
       "      <td>1.0</td>\n",
       "      <td>1.0</td>\n",
       "      <td>NaN</td>\n",
       "      <td>968</td>\n",
       "      <td>30.4</td>\n",
       "      <td>0.0</td>\n",
       "      <td>101.20</td>\n",
       "      <td>3.58</td>\n",
       "    </tr>\n",
       "    <tr>\n",
       "      <th>1</th>\n",
       "      <td>7001865778</td>\n",
       "      <td>109</td>\n",
       "      <td>0.0</td>\n",
       "      <td>0.0</td>\n",
       "      <td>0.0</td>\n",
       "      <td>6/30/2014</td>\n",
       "      <td>7/31/2014</td>\n",
       "      <td>8/31/2014</td>\n",
       "      <td>9/30/2014</td>\n",
       "      <td>34.047</td>\n",
       "      <td>...</td>\n",
       "      <td>0</td>\n",
       "      <td>NaN</td>\n",
       "      <td>1.0</td>\n",
       "      <td>1.0</td>\n",
       "      <td>NaN</td>\n",
       "      <td>1006</td>\n",
       "      <td>0.0</td>\n",
       "      <td>0.0</td>\n",
       "      <td>0.00</td>\n",
       "      <td>0.00</td>\n",
       "    </tr>\n",
       "    <tr>\n",
       "      <th>2</th>\n",
       "      <td>7001625959</td>\n",
       "      <td>109</td>\n",
       "      <td>0.0</td>\n",
       "      <td>0.0</td>\n",
       "      <td>0.0</td>\n",
       "      <td>6/30/2014</td>\n",
       "      <td>7/31/2014</td>\n",
       "      <td>8/31/2014</td>\n",
       "      <td>9/30/2014</td>\n",
       "      <td>167.690</td>\n",
       "      <td>...</td>\n",
       "      <td>0</td>\n",
       "      <td>NaN</td>\n",
       "      <td>NaN</td>\n",
       "      <td>NaN</td>\n",
       "      <td>1.0</td>\n",
       "      <td>1103</td>\n",
       "      <td>0.0</td>\n",
       "      <td>0.0</td>\n",
       "      <td>4.17</td>\n",
       "      <td>0.00</td>\n",
       "    </tr>\n",
       "    <tr>\n",
       "      <th>3</th>\n",
       "      <td>7001204172</td>\n",
       "      <td>109</td>\n",
       "      <td>0.0</td>\n",
       "      <td>0.0</td>\n",
       "      <td>0.0</td>\n",
       "      <td>6/30/2014</td>\n",
       "      <td>7/31/2014</td>\n",
       "      <td>8/31/2014</td>\n",
       "      <td>9/30/2014</td>\n",
       "      <td>221.338</td>\n",
       "      <td>...</td>\n",
       "      <td>0</td>\n",
       "      <td>NaN</td>\n",
       "      <td>NaN</td>\n",
       "      <td>NaN</td>\n",
       "      <td>NaN</td>\n",
       "      <td>2491</td>\n",
       "      <td>0.0</td>\n",
       "      <td>0.0</td>\n",
       "      <td>0.00</td>\n",
       "      <td>0.00</td>\n",
       "    </tr>\n",
       "    <tr>\n",
       "      <th>4</th>\n",
       "      <td>7000142493</td>\n",
       "      <td>109</td>\n",
       "      <td>0.0</td>\n",
       "      <td>0.0</td>\n",
       "      <td>0.0</td>\n",
       "      <td>6/30/2014</td>\n",
       "      <td>7/31/2014</td>\n",
       "      <td>8/31/2014</td>\n",
       "      <td>9/30/2014</td>\n",
       "      <td>261.636</td>\n",
       "      <td>...</td>\n",
       "      <td>0</td>\n",
       "      <td>0.0</td>\n",
       "      <td>NaN</td>\n",
       "      <td>NaN</td>\n",
       "      <td>NaN</td>\n",
       "      <td>1526</td>\n",
       "      <td>0.0</td>\n",
       "      <td>0.0</td>\n",
       "      <td>0.00</td>\n",
       "      <td>0.00</td>\n",
       "    </tr>\n",
       "  </tbody>\n",
       "</table>\n",
       "<p>5 rows × 226 columns</p>\n",
       "</div>"
      ],
      "text/plain": [
       "   mobile_number  circle_id  loc_og_t2o_mou  std_og_t2o_mou  loc_ic_t2o_mou  \\\n",
       "0     7000842753        109             0.0             0.0             0.0   \n",
       "1     7001865778        109             0.0             0.0             0.0   \n",
       "2     7001625959        109             0.0             0.0             0.0   \n",
       "3     7001204172        109             0.0             0.0             0.0   \n",
       "4     7000142493        109             0.0             0.0             0.0   \n",
       "\n",
       "  last_date_of_month_6 last_date_of_month_7 last_date_of_month_8  \\\n",
       "0            6/30/2014            7/31/2014            8/31/2014   \n",
       "1            6/30/2014            7/31/2014            8/31/2014   \n",
       "2            6/30/2014            7/31/2014            8/31/2014   \n",
       "3            6/30/2014            7/31/2014            8/31/2014   \n",
       "4            6/30/2014            7/31/2014            8/31/2014   \n",
       "\n",
       "  last_date_of_month_9   arpu_6  ...  sachet_3g_9  fb_user_6  fb_user_7  \\\n",
       "0            9/30/2014  197.385  ...            0        1.0        1.0   \n",
       "1            9/30/2014   34.047  ...            0        NaN        1.0   \n",
       "2            9/30/2014  167.690  ...            0        NaN        NaN   \n",
       "3            9/30/2014  221.338  ...            0        NaN        NaN   \n",
       "4            9/30/2014  261.636  ...            0        0.0        NaN   \n",
       "\n",
       "   fb_user_8  fb_user_9   aon  aug_vbc_3g  jul_vbc_3g  jun_vbc_3g  sep_vbc_3g  \n",
       "0        1.0        NaN   968        30.4         0.0      101.20        3.58  \n",
       "1        1.0        NaN  1006         0.0         0.0        0.00        0.00  \n",
       "2        NaN        1.0  1103         0.0         0.0        4.17        0.00  \n",
       "3        NaN        NaN  2491         0.0         0.0        0.00        0.00  \n",
       "4        NaN        NaN  1526         0.0         0.0        0.00        0.00  \n",
       "\n",
       "[5 rows x 226 columns]"
      ]
     },
     "execution_count": 3,
     "metadata": {},
     "output_type": "execute_result"
    }
   ],
   "source": [
    "churn_data.head()"
   ]
  },
  {
   "cell_type": "code",
   "execution_count": 4,
   "id": "859e2dcb",
   "metadata": {},
   "outputs": [
    {
     "data": {
      "text/plain": [
       "(99999, 226)"
      ]
     },
     "execution_count": 4,
     "metadata": {},
     "output_type": "execute_result"
    }
   ],
   "source": [
    "churn_data.shape"
   ]
  },
  {
   "cell_type": "code",
   "execution_count": 5,
   "id": "4ee70a5c",
   "metadata": {},
   "outputs": [
    {
     "data": {
      "text/plain": [
       "Index(['total_rech_amt_6', 'total_rech_amt_7', 'total_rech_amt_8',\n",
       "       'total_rech_amt_9', 'max_rech_amt_6', 'max_rech_amt_7',\n",
       "       'max_rech_amt_8', 'max_rech_amt_9', 'date_of_last_rech_data_6',\n",
       "       'date_of_last_rech_data_7', 'date_of_last_rech_data_8',\n",
       "       'date_of_last_rech_data_9', 'total_rech_data_6', 'total_rech_data_7',\n",
       "       'total_rech_data_8', 'total_rech_data_9', 'max_rech_data_6',\n",
       "       'max_rech_data_7', 'max_rech_data_8', 'max_rech_data_9',\n",
       "       'av_rech_amt_data_6', 'av_rech_amt_data_7', 'av_rech_amt_data_8',\n",
       "       'av_rech_amt_data_9'],\n",
       "      dtype='object')"
      ]
     },
     "execution_count": 5,
     "metadata": {},
     "output_type": "execute_result"
    }
   ],
   "source": [
    "#Let us first extract the recharge amount columns\n",
    "recharge_amt_columns = churn_data.columns[churn_data.columns.str.contains('rech_amt|rech_data')]\n",
    "recharge_amt_columns"
   ]
  },
  {
   "cell_type": "code",
   "execution_count": 6,
   "id": "64effcc0",
   "metadata": {},
   "outputs": [
    {
     "data": {
      "text/plain": [
       "total_rech_amt_6             0.000000\n",
       "total_rech_amt_7             0.000000\n",
       "total_rech_amt_8             0.000000\n",
       "total_rech_amt_9             0.000000\n",
       "max_rech_amt_6               0.000000\n",
       "max_rech_amt_7               0.000000\n",
       "max_rech_amt_8               0.000000\n",
       "max_rech_amt_9               0.000000\n",
       "date_of_last_rech_data_6    74.846748\n",
       "date_of_last_rech_data_7    74.428744\n",
       "date_of_last_rech_data_8    73.660737\n",
       "date_of_last_rech_data_9    74.077741\n",
       "total_rech_data_6           74.846748\n",
       "total_rech_data_7           74.428744\n",
       "total_rech_data_8           73.660737\n",
       "total_rech_data_9           74.077741\n",
       "max_rech_data_6             74.846748\n",
       "max_rech_data_7             74.428744\n",
       "max_rech_data_8             73.660737\n",
       "max_rech_data_9             74.077741\n",
       "av_rech_amt_data_6          74.846748\n",
       "av_rech_amt_data_7          74.428744\n",
       "av_rech_amt_data_8          73.660737\n",
       "av_rech_amt_data_9          74.077741\n",
       "dtype: float64"
      ]
     },
     "execution_count": 6,
     "metadata": {},
     "output_type": "execute_result"
    }
   ],
   "source": [
    "null_values = 100*churn_data.loc[:,recharge_amt_columns].isnull().sum()/len(churn_data)\n",
    "null_values"
   ]
  },
  {
   "cell_type": "markdown",
   "id": "84d505f1",
   "metadata": {},
   "source": [
    "### We can see more that 74% values of recharge data is missing which shows no recharge has been done by the customer. This can be replaced by 0"
   ]
  },
  {
   "cell_type": "code",
   "execution_count": 7,
   "id": "adf0d265",
   "metadata": {},
   "outputs": [],
   "source": [
    "churn_data['total_rech_data_6'] = churn_data['total_rech_data_6'].replace(np.NaN,0.0)\n",
    "churn_data['total_rech_data_7'] = churn_data['total_rech_data_7'].replace(np.NaN,0.0)\n",
    "churn_data['total_rech_data_8'] = churn_data['total_rech_data_8'].replace(np.NaN,0.0)"
   ]
  },
  {
   "cell_type": "code",
   "execution_count": 8,
   "id": "b6d87c5e",
   "metadata": {},
   "outputs": [],
   "source": [
    "churn_data['av_rech_amt_data_6'] = churn_data['av_rech_amt_data_6'].replace(np.NaN,0.0)\n",
    "churn_data['av_rech_amt_data_7'] = churn_data['av_rech_amt_data_7'].replace(np.NaN,0.0)\n",
    "churn_data['av_rech_amt_data_8'] = churn_data['av_rech_amt_data_8'].replace(np.NaN,0.0)"
   ]
  },
  {
   "cell_type": "markdown",
   "id": "b141fee9",
   "metadata": {},
   "source": [
    "### 1. Derive new features\n"
   ]
  },
  {
   "cell_type": "markdown",
   "id": "effbf3cb",
   "metadata": {},
   "source": [
    "### We can create new feature as total_rech_amt_data using total_rech_data and av_rech_amt_data to capture amount utilized by customer for data."
   ]
  },
  {
   "cell_type": "code",
   "execution_count": 9,
   "id": "9dbd8571",
   "metadata": {},
   "outputs": [],
   "source": [
    "# let's add new column total recharge amount for data: total_rech_amt_data for calculating High Value customer process\n",
    "churn_data['total_rech_amt_data_6'] = churn_data.av_rech_amt_data_6 * churn_data.total_rech_data_6\n",
    "churn_data['total_rech_amt_data_7'] = churn_data.av_rech_amt_data_7 * churn_data.total_rech_data_7\n",
    "churn_data['total_rech_amt_data_8'] = churn_data.av_rech_amt_data_8 * churn_data.total_rech_data_8"
   ]
  },
  {
   "cell_type": "markdown",
   "id": "534e5948",
   "metadata": {},
   "source": [
    "### Defining total average recharge amount for good phase for months 6 and 7 (the good phase)"
   ]
  },
  {
   "cell_type": "code",
   "execution_count": 10,
   "id": "924935cb",
   "metadata": {},
   "outputs": [],
   "source": [
    "churn_data['total_avg_rech_amnt_6_7_GPhase'] = (churn_data.total_rech_amt_6 + churn_data.total_rech_amt_data_6\n",
    "                                               + churn_data.total_rech_amt_7+ churn_data.total_rech_amt_data_7)/2"
   ]
  },
  {
   "cell_type": "markdown",
   "id": "5364e54c",
   "metadata": {},
   "source": [
    "### 2. Filter high-value customers"
   ]
  },
  {
   "cell_type": "code",
   "execution_count": 11,
   "id": "689ff825",
   "metadata": {},
   "outputs": [
    {
     "data": {
      "text/html": [
       "<div>\n",
       "<style scoped>\n",
       "    .dataframe tbody tr th:only-of-type {\n",
       "        vertical-align: middle;\n",
       "    }\n",
       "\n",
       "    .dataframe tbody tr th {\n",
       "        vertical-align: top;\n",
       "    }\n",
       "\n",
       "    .dataframe thead th {\n",
       "        text-align: right;\n",
       "    }\n",
       "</style>\n",
       "<table border=\"1\" class=\"dataframe\">\n",
       "  <thead>\n",
       "    <tr style=\"text-align: right;\">\n",
       "      <th></th>\n",
       "      <th>mobile_number</th>\n",
       "      <th>circle_id</th>\n",
       "      <th>loc_og_t2o_mou</th>\n",
       "      <th>std_og_t2o_mou</th>\n",
       "      <th>loc_ic_t2o_mou</th>\n",
       "      <th>last_date_of_month_6</th>\n",
       "      <th>last_date_of_month_7</th>\n",
       "      <th>last_date_of_month_8</th>\n",
       "      <th>last_date_of_month_9</th>\n",
       "      <th>arpu_6</th>\n",
       "      <th>...</th>\n",
       "      <th>fb_user_9</th>\n",
       "      <th>aon</th>\n",
       "      <th>aug_vbc_3g</th>\n",
       "      <th>jul_vbc_3g</th>\n",
       "      <th>jun_vbc_3g</th>\n",
       "      <th>sep_vbc_3g</th>\n",
       "      <th>total_rech_amt_data_6</th>\n",
       "      <th>total_rech_amt_data_7</th>\n",
       "      <th>total_rech_amt_data_8</th>\n",
       "      <th>total_avg_rech_amnt_6_7_GPhase</th>\n",
       "    </tr>\n",
       "  </thead>\n",
       "  <tbody>\n",
       "    <tr>\n",
       "      <th>0</th>\n",
       "      <td>7000842753</td>\n",
       "      <td>109</td>\n",
       "      <td>0.0</td>\n",
       "      <td>0.0</td>\n",
       "      <td>0.0</td>\n",
       "      <td>6/30/2014</td>\n",
       "      <td>7/31/2014</td>\n",
       "      <td>8/31/2014</td>\n",
       "      <td>9/30/2014</td>\n",
       "      <td>197.385</td>\n",
       "      <td>...</td>\n",
       "      <td>NaN</td>\n",
       "      <td>968</td>\n",
       "      <td>30.40</td>\n",
       "      <td>0.00</td>\n",
       "      <td>101.20</td>\n",
       "      <td>3.58</td>\n",
       "      <td>252.0</td>\n",
       "      <td>252.0</td>\n",
       "      <td>252.0</td>\n",
       "      <td>559.0</td>\n",
       "    </tr>\n",
       "    <tr>\n",
       "      <th>7</th>\n",
       "      <td>7000701601</td>\n",
       "      <td>109</td>\n",
       "      <td>0.0</td>\n",
       "      <td>0.0</td>\n",
       "      <td>0.0</td>\n",
       "      <td>6/30/2014</td>\n",
       "      <td>7/31/2014</td>\n",
       "      <td>8/31/2014</td>\n",
       "      <td>9/30/2014</td>\n",
       "      <td>1069.180</td>\n",
       "      <td>...</td>\n",
       "      <td>NaN</td>\n",
       "      <td>802</td>\n",
       "      <td>57.74</td>\n",
       "      <td>19.38</td>\n",
       "      <td>18.74</td>\n",
       "      <td>0.00</td>\n",
       "      <td>0.0</td>\n",
       "      <td>0.0</td>\n",
       "      <td>0.0</td>\n",
       "      <td>1185.0</td>\n",
       "    </tr>\n",
       "    <tr>\n",
       "      <th>8</th>\n",
       "      <td>7001524846</td>\n",
       "      <td>109</td>\n",
       "      <td>0.0</td>\n",
       "      <td>0.0</td>\n",
       "      <td>0.0</td>\n",
       "      <td>6/30/2014</td>\n",
       "      <td>7/31/2014</td>\n",
       "      <td>8/31/2014</td>\n",
       "      <td>9/30/2014</td>\n",
       "      <td>378.721</td>\n",
       "      <td>...</td>\n",
       "      <td>NaN</td>\n",
       "      <td>315</td>\n",
       "      <td>21.03</td>\n",
       "      <td>910.65</td>\n",
       "      <td>122.16</td>\n",
       "      <td>0.00</td>\n",
       "      <td>0.0</td>\n",
       "      <td>354.0</td>\n",
       "      <td>207.0</td>\n",
       "      <td>696.0</td>\n",
       "    </tr>\n",
       "    <tr>\n",
       "      <th>21</th>\n",
       "      <td>7002124215</td>\n",
       "      <td>109</td>\n",
       "      <td>0.0</td>\n",
       "      <td>0.0</td>\n",
       "      <td>0.0</td>\n",
       "      <td>6/30/2014</td>\n",
       "      <td>7/31/2014</td>\n",
       "      <td>8/31/2014</td>\n",
       "      <td>9/30/2014</td>\n",
       "      <td>514.453</td>\n",
       "      <td>...</td>\n",
       "      <td>NaN</td>\n",
       "      <td>720</td>\n",
       "      <td>0.00</td>\n",
       "      <td>0.00</td>\n",
       "      <td>0.00</td>\n",
       "      <td>0.00</td>\n",
       "      <td>0.0</td>\n",
       "      <td>0.0</td>\n",
       "      <td>0.0</td>\n",
       "      <td>640.0</td>\n",
       "    </tr>\n",
       "    <tr>\n",
       "      <th>23</th>\n",
       "      <td>7000887461</td>\n",
       "      <td>109</td>\n",
       "      <td>0.0</td>\n",
       "      <td>0.0</td>\n",
       "      <td>0.0</td>\n",
       "      <td>6/30/2014</td>\n",
       "      <td>7/31/2014</td>\n",
       "      <td>8/31/2014</td>\n",
       "      <td>9/30/2014</td>\n",
       "      <td>74.350</td>\n",
       "      <td>...</td>\n",
       "      <td>1.0</td>\n",
       "      <td>604</td>\n",
       "      <td>40.45</td>\n",
       "      <td>51.86</td>\n",
       "      <td>0.00</td>\n",
       "      <td>0.00</td>\n",
       "      <td>0.0</td>\n",
       "      <td>712.0</td>\n",
       "      <td>540.0</td>\n",
       "      <td>583.0</td>\n",
       "    </tr>\n",
       "    <tr>\n",
       "      <th>...</th>\n",
       "      <td>...</td>\n",
       "      <td>...</td>\n",
       "      <td>...</td>\n",
       "      <td>...</td>\n",
       "      <td>...</td>\n",
       "      <td>...</td>\n",
       "      <td>...</td>\n",
       "      <td>...</td>\n",
       "      <td>...</td>\n",
       "      <td>...</td>\n",
       "      <td>...</td>\n",
       "      <td>...</td>\n",
       "      <td>...</td>\n",
       "      <td>...</td>\n",
       "      <td>...</td>\n",
       "      <td>...</td>\n",
       "      <td>...</td>\n",
       "      <td>...</td>\n",
       "      <td>...</td>\n",
       "      <td>...</td>\n",
       "      <td>...</td>\n",
       "    </tr>\n",
       "    <tr>\n",
       "      <th>99981</th>\n",
       "      <td>7000630859</td>\n",
       "      <td>109</td>\n",
       "      <td>0.0</td>\n",
       "      <td>0.0</td>\n",
       "      <td>0.0</td>\n",
       "      <td>6/30/2014</td>\n",
       "      <td>7/31/2014</td>\n",
       "      <td>8/31/2014</td>\n",
       "      <td>9/30/2014</td>\n",
       "      <td>384.316</td>\n",
       "      <td>...</td>\n",
       "      <td>NaN</td>\n",
       "      <td>473</td>\n",
       "      <td>1100.43</td>\n",
       "      <td>619.59</td>\n",
       "      <td>668.05</td>\n",
       "      <td>0.33</td>\n",
       "      <td>252.0</td>\n",
       "      <td>252.0</td>\n",
       "      <td>252.0</td>\n",
       "      <td>564.0</td>\n",
       "    </tr>\n",
       "    <tr>\n",
       "      <th>99984</th>\n",
       "      <td>7000661676</td>\n",
       "      <td>109</td>\n",
       "      <td>0.0</td>\n",
       "      <td>0.0</td>\n",
       "      <td>0.0</td>\n",
       "      <td>6/30/2014</td>\n",
       "      <td>7/31/2014</td>\n",
       "      <td>8/31/2014</td>\n",
       "      <td>9/30/2014</td>\n",
       "      <td>328.594</td>\n",
       "      <td>...</td>\n",
       "      <td>1.0</td>\n",
       "      <td>820</td>\n",
       "      <td>0.00</td>\n",
       "      <td>0.00</td>\n",
       "      <td>0.00</td>\n",
       "      <td>0.00</td>\n",
       "      <td>154.0</td>\n",
       "      <td>484.0</td>\n",
       "      <td>585.0</td>\n",
       "      <td>618.5</td>\n",
       "    </tr>\n",
       "    <tr>\n",
       "      <th>99986</th>\n",
       "      <td>7001729035</td>\n",
       "      <td>109</td>\n",
       "      <td>0.0</td>\n",
       "      <td>0.0</td>\n",
       "      <td>0.0</td>\n",
       "      <td>6/30/2014</td>\n",
       "      <td>7/31/2014</td>\n",
       "      <td>8/31/2014</td>\n",
       "      <td>9/30/2014</td>\n",
       "      <td>644.973</td>\n",
       "      <td>...</td>\n",
       "      <td>1.0</td>\n",
       "      <td>2696</td>\n",
       "      <td>497.45</td>\n",
       "      <td>598.67</td>\n",
       "      <td>604.08</td>\n",
       "      <td>0.00</td>\n",
       "      <td>17.0</td>\n",
       "      <td>14.0</td>\n",
       "      <td>25.0</td>\n",
       "      <td>864.0</td>\n",
       "    </tr>\n",
       "    <tr>\n",
       "      <th>99988</th>\n",
       "      <td>7002111859</td>\n",
       "      <td>109</td>\n",
       "      <td>0.0</td>\n",
       "      <td>0.0</td>\n",
       "      <td>0.0</td>\n",
       "      <td>6/30/2014</td>\n",
       "      <td>7/31/2014</td>\n",
       "      <td>8/31/2014</td>\n",
       "      <td>9/30/2014</td>\n",
       "      <td>312.558</td>\n",
       "      <td>...</td>\n",
       "      <td>1.0</td>\n",
       "      <td>328</td>\n",
       "      <td>104.73</td>\n",
       "      <td>0.00</td>\n",
       "      <td>0.00</td>\n",
       "      <td>0.00</td>\n",
       "      <td>0.0</td>\n",
       "      <td>154.0</td>\n",
       "      <td>154.0</td>\n",
       "      <td>544.0</td>\n",
       "    </tr>\n",
       "    <tr>\n",
       "      <th>99997</th>\n",
       "      <td>7000498689</td>\n",
       "      <td>109</td>\n",
       "      <td>0.0</td>\n",
       "      <td>0.0</td>\n",
       "      <td>0.0</td>\n",
       "      <td>6/30/2014</td>\n",
       "      <td>7/31/2014</td>\n",
       "      <td>8/31/2014</td>\n",
       "      <td>9/30/2014</td>\n",
       "      <td>322.991</td>\n",
       "      <td>...</td>\n",
       "      <td>1.0</td>\n",
       "      <td>478</td>\n",
       "      <td>1445.74</td>\n",
       "      <td>1151.03</td>\n",
       "      <td>1173.18</td>\n",
       "      <td>0.00</td>\n",
       "      <td>1749.0</td>\n",
       "      <td>716.0</td>\n",
       "      <td>2864.0</td>\n",
       "      <td>1602.0</td>\n",
       "    </tr>\n",
       "  </tbody>\n",
       "</table>\n",
       "<p>29953 rows × 230 columns</p>\n",
       "</div>"
      ],
      "text/plain": [
       "       mobile_number  circle_id  loc_og_t2o_mou  std_og_t2o_mou  \\\n",
       "0         7000842753        109             0.0             0.0   \n",
       "7         7000701601        109             0.0             0.0   \n",
       "8         7001524846        109             0.0             0.0   \n",
       "21        7002124215        109             0.0             0.0   \n",
       "23        7000887461        109             0.0             0.0   \n",
       "...              ...        ...             ...             ...   \n",
       "99981     7000630859        109             0.0             0.0   \n",
       "99984     7000661676        109             0.0             0.0   \n",
       "99986     7001729035        109             0.0             0.0   \n",
       "99988     7002111859        109             0.0             0.0   \n",
       "99997     7000498689        109             0.0             0.0   \n",
       "\n",
       "       loc_ic_t2o_mou last_date_of_month_6 last_date_of_month_7  \\\n",
       "0                 0.0            6/30/2014            7/31/2014   \n",
       "7                 0.0            6/30/2014            7/31/2014   \n",
       "8                 0.0            6/30/2014            7/31/2014   \n",
       "21                0.0            6/30/2014            7/31/2014   \n",
       "23                0.0            6/30/2014            7/31/2014   \n",
       "...               ...                  ...                  ...   \n",
       "99981             0.0            6/30/2014            7/31/2014   \n",
       "99984             0.0            6/30/2014            7/31/2014   \n",
       "99986             0.0            6/30/2014            7/31/2014   \n",
       "99988             0.0            6/30/2014            7/31/2014   \n",
       "99997             0.0            6/30/2014            7/31/2014   \n",
       "\n",
       "      last_date_of_month_8 last_date_of_month_9    arpu_6  ...  fb_user_9  \\\n",
       "0                8/31/2014            9/30/2014   197.385  ...        NaN   \n",
       "7                8/31/2014            9/30/2014  1069.180  ...        NaN   \n",
       "8                8/31/2014            9/30/2014   378.721  ...        NaN   \n",
       "21               8/31/2014            9/30/2014   514.453  ...        NaN   \n",
       "23               8/31/2014            9/30/2014    74.350  ...        1.0   \n",
       "...                    ...                  ...       ...  ...        ...   \n",
       "99981            8/31/2014            9/30/2014   384.316  ...        NaN   \n",
       "99984            8/31/2014            9/30/2014   328.594  ...        1.0   \n",
       "99986            8/31/2014            9/30/2014   644.973  ...        1.0   \n",
       "99988            8/31/2014            9/30/2014   312.558  ...        1.0   \n",
       "99997            8/31/2014            9/30/2014   322.991  ...        1.0   \n",
       "\n",
       "        aon  aug_vbc_3g  jul_vbc_3g  jun_vbc_3g  sep_vbc_3g  \\\n",
       "0       968       30.40        0.00      101.20        3.58   \n",
       "7       802       57.74       19.38       18.74        0.00   \n",
       "8       315       21.03      910.65      122.16        0.00   \n",
       "21      720        0.00        0.00        0.00        0.00   \n",
       "23      604       40.45       51.86        0.00        0.00   \n",
       "...     ...         ...         ...         ...         ...   \n",
       "99981   473     1100.43      619.59      668.05        0.33   \n",
       "99984   820        0.00        0.00        0.00        0.00   \n",
       "99986  2696      497.45      598.67      604.08        0.00   \n",
       "99988   328      104.73        0.00        0.00        0.00   \n",
       "99997   478     1445.74     1151.03     1173.18        0.00   \n",
       "\n",
       "       total_rech_amt_data_6  total_rech_amt_data_7  total_rech_amt_data_8  \\\n",
       "0                      252.0                  252.0                  252.0   \n",
       "7                        0.0                    0.0                    0.0   \n",
       "8                        0.0                  354.0                  207.0   \n",
       "21                       0.0                    0.0                    0.0   \n",
       "23                       0.0                  712.0                  540.0   \n",
       "...                      ...                    ...                    ...   \n",
       "99981                  252.0                  252.0                  252.0   \n",
       "99984                  154.0                  484.0                  585.0   \n",
       "99986                   17.0                   14.0                   25.0   \n",
       "99988                    0.0                  154.0                  154.0   \n",
       "99997                 1749.0                  716.0                 2864.0   \n",
       "\n",
       "       total_avg_rech_amnt_6_7_GPhase  \n",
       "0                               559.0  \n",
       "7                              1185.0  \n",
       "8                               696.0  \n",
       "21                              640.0  \n",
       "23                              583.0  \n",
       "...                               ...  \n",
       "99981                           564.0  \n",
       "99984                           618.5  \n",
       "99986                           864.0  \n",
       "99988                           544.0  \n",
       "99997                          1602.0  \n",
       "\n",
       "[29953 rows x 230 columns]"
      ]
     },
     "execution_count": 11,
     "metadata": {},
     "output_type": "execute_result"
    }
   ],
   "source": [
    "#Those who have recharged with an amount more than or equal to X, \n",
    "#where X is the 70th percentile of the average recharge amount in the first two months (the good phase).\n",
    "\n",
    "high_value_filter = churn_data.total_avg_rech_amnt_6_7_GPhase.quantile(0.7)\n",
    "high_value_filter\n",
    "\n",
    "high_val_cust_df = churn_data[churn_data.total_avg_rech_amnt_6_7_GPhase > high_value_filter]\n",
    "high_val_cust_df"
   ]
  },
  {
   "cell_type": "code",
   "execution_count": 12,
   "id": "603d6a48",
   "metadata": {},
   "outputs": [
    {
     "data": {
      "text/plain": [
       "(29953, 230)"
      ]
     },
     "execution_count": 12,
     "metadata": {},
     "output_type": "execute_result"
    }
   ],
   "source": [
    "high_val_cust_df.shape"
   ]
  },
  {
   "cell_type": "markdown",
   "id": "923a99d6",
   "metadata": {},
   "source": [
    "### 3. Tag churners and remove attributes of the churn phase"
   ]
  },
  {
   "cell_type": "code",
   "execution_count": 13,
   "id": "b2182705",
   "metadata": {},
   "outputs": [],
   "source": [
    "high_val_cust_9 = ['total_ic_mou_9', 'total_og_mou_9', 'vol_2g_mb_9','vol_3g_mb_9']"
   ]
  },
  {
   "cell_type": "code",
   "execution_count": 14,
   "id": "9003a822",
   "metadata": {},
   "outputs": [],
   "source": [
    "high_val_cust_9_null_values = 100*high_val_cust_df.loc[:,high_val_cust_9].isnull().sum()/len(high_val_cust_df)"
   ]
  },
  {
   "cell_type": "code",
   "execution_count": 15,
   "id": "f1d57770",
   "metadata": {},
   "outputs": [
    {
     "data": {
      "text/plain": [
       "total_ic_mou_9    0.0\n",
       "total_og_mou_9    0.0\n",
       "vol_2g_mb_9       0.0\n",
       "vol_3g_mb_9       0.0\n",
       "dtype: float64"
      ]
     },
     "execution_count": 15,
     "metadata": {},
     "output_type": "execute_result"
    }
   ],
   "source": [
    "high_val_cust_9_null_values"
   ]
  },
  {
   "cell_type": "code",
   "execution_count": 16,
   "id": "8ec86a29",
   "metadata": {},
   "outputs": [],
   "source": [
    "# Initially set all the values as 0\n",
    "high_val_cust_df['churn']= 0"
   ]
  },
  {
   "cell_type": "code",
   "execution_count": 17,
   "id": "04eaaff1",
   "metadata": {},
   "outputs": [],
   "source": [
    "#is_churned boolean flag for customers where above values are zero\n",
    "is_churned = (high_val_cust_df.total_ic_mou_9 == 0) & (high_val_cust_df.total_og_mou_9 == 0) & (high_val_cust_df.vol_2g_mb_9 ==0) & (high_val_cust_df.vol_3g_mb_9 ==0)"
   ]
  },
  {
   "cell_type": "code",
   "execution_count": 18,
   "id": "bfcdd095",
   "metadata": {},
   "outputs": [],
   "source": [
    "# set all which having is_churned True condition as 1\n",
    "high_val_cust_df.loc[is_churned,'churn']=1"
   ]
  },
  {
   "cell_type": "code",
   "execution_count": 19,
   "id": "970b29cc",
   "metadata": {},
   "outputs": [
    {
     "data": {
      "text/plain": [
       "8.122725603445398"
      ]
     },
     "execution_count": 19,
     "metadata": {},
     "output_type": "execute_result"
    }
   ],
   "source": [
    "# let us check what's the % of churned customers\n",
    "100*high_val_cust_df.churn.sum()/len(high_val_cust_df)"
   ]
  },
  {
   "cell_type": "markdown",
   "id": "de5f0440",
   "metadata": {},
   "source": [
    "### After tagging churners, remove all the attributes corresponding to the churn phase (all attributes having ‘ _9’, etc. in their names)"
   ]
  },
  {
   "cell_type": "code",
   "execution_count": 20,
   "id": "871a9377",
   "metadata": {},
   "outputs": [],
   "source": [
    "churn_month_columns =  high_val_cust_df.columns[high_val_cust_df.columns.str.contains('_9')]"
   ]
  },
  {
   "cell_type": "code",
   "execution_count": 21,
   "id": "bf5c8927",
   "metadata": {},
   "outputs": [
    {
     "data": {
      "text/plain": [
       "Index(['last_date_of_month_9', 'arpu_9', 'onnet_mou_9', 'offnet_mou_9',\n",
       "       'roam_ic_mou_9', 'roam_og_mou_9', 'loc_og_t2t_mou_9',\n",
       "       'loc_og_t2m_mou_9', 'loc_og_t2f_mou_9', 'loc_og_t2c_mou_9',\n",
       "       'loc_og_mou_9', 'std_og_t2t_mou_9', 'std_og_t2m_mou_9',\n",
       "       'std_og_t2f_mou_9', 'std_og_t2c_mou_9', 'std_og_mou_9', 'isd_og_mou_9',\n",
       "       'spl_og_mou_9', 'og_others_9', 'total_og_mou_9', 'loc_ic_t2t_mou_9',\n",
       "       'loc_ic_t2m_mou_9', 'loc_ic_t2f_mou_9', 'loc_ic_mou_9',\n",
       "       'std_ic_t2t_mou_9', 'std_ic_t2m_mou_9', 'std_ic_t2f_mou_9',\n",
       "       'std_ic_t2o_mou_9', 'std_ic_mou_9', 'total_ic_mou_9', 'spl_ic_mou_9',\n",
       "       'isd_ic_mou_9', 'ic_others_9', 'total_rech_num_9', 'total_rech_amt_9',\n",
       "       'max_rech_amt_9', 'date_of_last_rech_9', 'last_day_rch_amt_9',\n",
       "       'date_of_last_rech_data_9', 'total_rech_data_9', 'max_rech_data_9',\n",
       "       'count_rech_2g_9', 'count_rech_3g_9', 'av_rech_amt_data_9',\n",
       "       'vol_2g_mb_9', 'vol_3g_mb_9', 'arpu_3g_9', 'arpu_2g_9',\n",
       "       'night_pck_user_9', 'monthly_2g_9', 'sachet_2g_9', 'monthly_3g_9',\n",
       "       'sachet_3g_9', 'fb_user_9'],\n",
       "      dtype='object')"
      ]
     },
     "execution_count": 21,
     "metadata": {},
     "output_type": "execute_result"
    }
   ],
   "source": [
    "churn_month_columns"
   ]
  },
  {
   "cell_type": "code",
   "execution_count": 22,
   "id": "e2c09475",
   "metadata": {},
   "outputs": [],
   "source": [
    "# drop all columns corresponding to the churn phase\n",
    "high_val_cust_df.drop(churn_month_columns,axis=1,inplace=True)"
   ]
  },
  {
   "cell_type": "code",
   "execution_count": 23,
   "id": "d7df8bc7",
   "metadata": {},
   "outputs": [
    {
     "data": {
      "text/plain": [
       "(29953, 177)"
      ]
     },
     "execution_count": 23,
     "metadata": {},
     "output_type": "execute_result"
    }
   ],
   "source": [
    "high_val_cust_df.shape"
   ]
  },
  {
   "cell_type": "markdown",
   "id": "b0953d95",
   "metadata": {},
   "source": [
    "### Now high-value customers dataset is useful for us which can be further processed like converting columns to approprate format and handling missing values."
   ]
  },
  {
   "cell_type": "code",
   "execution_count": 24,
   "id": "3f39df2c",
   "metadata": {},
   "outputs": [],
   "source": [
    "#Checking all numerical variables\n",
    "#num_features=[i for i in high_val_cust_df.columns if high_val_cust_df.dtypes[i]=='int64' or 'float64' or 'int32']\n",
    "#num_features"
   ]
  },
  {
   "cell_type": "code",
   "execution_count": 25,
   "id": "8f5177d8",
   "metadata": {},
   "outputs": [
    {
     "data": {
      "text/plain": [
       "mobile_number  circle_id  loc_og_t2o_mou  std_og_t2o_mou  loc_ic_t2o_mou  last_date_of_month_6  last_date_of_month_7  last_date_of_month_8  arpu_6    arpu_7    arpu_8    onnet_mou_6  onnet_mou_7  onnet_mou_8  offnet_mou_6  offnet_mou_7  offnet_mou_8  roam_ic_mou_6  roam_ic_mou_7  roam_ic_mou_8  roam_og_mou_6  roam_og_mou_7  roam_og_mou_8  loc_og_t2t_mou_6  loc_og_t2t_mou_7  loc_og_t2t_mou_8  loc_og_t2m_mou_6  loc_og_t2m_mou_7  loc_og_t2m_mou_8  loc_og_t2f_mou_6  loc_og_t2f_mou_7  loc_og_t2f_mou_8  loc_og_t2c_mou_6  loc_og_t2c_mou_7  loc_og_t2c_mou_8  loc_og_mou_6  loc_og_mou_7  loc_og_mou_8  std_og_t2t_mou_6  std_og_t2t_mou_7  std_og_t2t_mou_8  std_og_t2m_mou_6  std_og_t2m_mou_7  std_og_t2m_mou_8  std_og_t2f_mou_6  std_og_t2f_mou_7  std_og_t2f_mou_8  std_og_t2c_mou_6  std_og_t2c_mou_7  std_og_t2c_mou_8  std_og_mou_6  std_og_mou_7  std_og_mou_8  isd_og_mou_6  isd_og_mou_7  isd_og_mou_8  spl_og_mou_6  spl_og_mou_7  spl_og_mou_8  og_others_6  og_others_7  og_others_8  total_og_mou_6  total_og_mou_7  total_og_mou_8  loc_ic_t2t_mou_6  loc_ic_t2t_mou_7  loc_ic_t2t_mou_8  loc_ic_t2m_mou_6  loc_ic_t2m_mou_7  loc_ic_t2m_mou_8  loc_ic_t2f_mou_6  loc_ic_t2f_mou_7  loc_ic_t2f_mou_8  loc_ic_mou_6  loc_ic_mou_7  loc_ic_mou_8  std_ic_t2t_mou_6  std_ic_t2t_mou_7  std_ic_t2t_mou_8  std_ic_t2m_mou_6  std_ic_t2m_mou_7  std_ic_t2m_mou_8  std_ic_t2f_mou_6  std_ic_t2f_mou_7  std_ic_t2f_mou_8  std_ic_t2o_mou_6  std_ic_t2o_mou_7  std_ic_t2o_mou_8  std_ic_mou_6  std_ic_mou_7  std_ic_mou_8  total_ic_mou_6  total_ic_mou_7  total_ic_mou_8  spl_ic_mou_6  spl_ic_mou_7  spl_ic_mou_8  isd_ic_mou_6  isd_ic_mou_7  isd_ic_mou_8  ic_others_6  ic_others_7  ic_others_8  total_rech_num_6  total_rech_num_7  total_rech_num_8  total_rech_amt_6  total_rech_amt_7  total_rech_amt_8  max_rech_amt_6  max_rech_amt_7  max_rech_amt_8  date_of_last_rech_6  date_of_last_rech_7  date_of_last_rech_8  last_day_rch_amt_6  last_day_rch_amt_7  last_day_rch_amt_8  date_of_last_rech_data_6  date_of_last_rech_data_7  date_of_last_rech_data_8  total_rech_data_6  total_rech_data_7  total_rech_data_8  max_rech_data_6  max_rech_data_7  max_rech_data_8  count_rech_2g_6  count_rech_2g_7  count_rech_2g_8  count_rech_3g_6  count_rech_3g_7  count_rech_3g_8  av_rech_amt_data_6  av_rech_amt_data_7  av_rech_amt_data_8  vol_2g_mb_6  vol_2g_mb_7  vol_2g_mb_8  vol_3g_mb_6  vol_3g_mb_7  vol_3g_mb_8  arpu_3g_6  arpu_3g_7  arpu_3g_8  arpu_2g_6  arpu_2g_7  arpu_2g_8  night_pck_user_6  night_pck_user_7  night_pck_user_8  monthly_2g_6  monthly_2g_7  monthly_2g_8  sachet_2g_6  sachet_2g_7  sachet_2g_8  monthly_3g_6  monthly_3g_7  monthly_3g_8  sachet_3g_6  sachet_3g_7  sachet_3g_8  fb_user_6  fb_user_7  fb_user_8  aon   aug_vbc_3g  jul_vbc_3g  jun_vbc_3g  sep_vbc_3g  total_rech_amt_data_6  total_rech_amt_data_7  total_rech_amt_data_8  total_avg_rech_amnt_6_7_GPhase  churn\n",
       "7000000074     109        0.0             0.0             0.0             6/30/2014             7/31/2014             8/31/2014             1828.113  1497.343  1707.072  164.29       164.63       111.28       1142.48       824.54        755.03        185.86         348.49         0.0            21.28          108.81         0.0            129.28            109.51            105.68            1001.99           635.44            645.21            14.34             6.11              3.94              0.0               0.00              0.00              1145.63       751.08        754.84        23.84             4.11              5.59              116.01            122.89            98.58             0.0               2.26              7.28              0.0               0.0               0.0               139.86        129.28        111.46        0.0           0.0           0.0           0.00          1.11          1.93          0.25         0.0          0.0          1285.74         881.48          868.24          87.63             94.73             72.99             508.88            386.18            408.71            87.21             3.24              9.93              683.73        484.16        491.64        11.64             11.93             3.33              127.76            106.99            82.73             8.36              10.23             3.23              0.0               0.0               0.0               147.78        129.16        89.29         831.51          613.93          581.39          0.00          0.00          0.0           0.00          0.00          0.00          0.00         0.59         0.44         13                10                11                2290              1876              1848              252             252             252             6/30/2014            7/31/2014            8/27/2014            128                 250                 250                 6/24/2014                 7/25/2014                 8/22/2014                 5.0                3.0                4.0                252.0            252.0            252.0            1.0              0.0              0.0              4.0              3.0              4.0              1016.0              756.0               1008.0              72.09        143.65       154.21       3645.10      3095.01      3515.59       912.43    771.44     912.20     848.68     658.39     848.68     1.0               0.0               0.0               0             0             0             1            0            0            4             3             4             0            0            0            1.0        1.0        1.0        258   2501.30     2119.95     2452.76     7.31        5080.0                 2268.0                 4032.0                 5757.0                          0        1\n",
       "7001594206     109        0.0             0.0             0.0             6/30/2014             7/31/2014             8/31/2014             525.507   422.400   517.357   69.18        124.24       57.46        317.41        198.61        212.89        0.00           0.00           0.0            0.00           0.00           0.0            69.18             84.66             57.46             316.16            170.74            210.54            0.88              2.53              2.34              0.0               0.00              0.00              386.23        257.94        270.36        0.00              39.58             0.00              0.36              18.21             0.00              0.0               0.00              0.00              0.0               0.0               0.0               0.36          57.79         0.00          0.0           0.0           0.0           5.14          17.88         5.51          1.48         0.0          0.0          393.23          333.63          275.88          24.18             71.64             36.58             95.24             103.73            116.69            1.04              8.38              4.88              120.48        183.76        158.16        12.14             1.46              1.56              0.00              0.05              0.00              0.00              0.81              0.00              0.0               0.0               0.0               12.14         2.33          1.56          132.63          186.09          162.46          0.00          0.00          0.0           0.00          0.00          2.73          0.00         0.00         0.00         22                26                15                602               502               577               110             50              52              6/30/2014            7/31/2014            8/29/2014            41                  50                  50                  6/30/2014                 7/2/2014                  8/29/2014                 4.0                1.0                5.0                41.0             41.0             52.0             2.0              0.0              0.0              2.0              1.0              5.0              132.0               41.0                216.0               2.82         0.00         0.00         514.50       104.50       557.11        76.85     40.31      202.63     70.01      35.00      185.57     0.0               0.0               0.0               0             0             0             2            0            0            0             0             0             2            1            5            1.0        1.0        1.0        1318  0.00        0.00        0.00        0.00        528.0                  41.0                   1080.0                 836.5                           0        1\n",
       "7001594270     109        0.0             0.0             0.0             6/30/2014             7/31/2014             8/31/2014             105.503   169.079   252.454   169.56       164.18       113.16       140.26        92.46         118.34        115.54         0.00           0.0            135.16         0.00           0.0            77.16             160.84            110.36            56.64             92.46             114.68            0.00              0.00              0.00              0.0               0.00              0.00              133.81        253.31        225.04        22.39             3.33              2.80              18.44             0.00              3.66              0.0               0.00              0.00              0.0               0.0               0.0               40.84         3.33          6.46          0.0           0.0           0.0           0.00          0.00          0.00          0.00         0.0          0.0          174.66          256.64          231.51          16.89             13.03             18.36             66.63             38.28             41.88             3.44              3.48              1.60              86.98         54.79         61.84         5.38              2.81              3.11              0.33              0.00              5.53              0.43              0.00              0.00              0.0               0.0               0.0               6.14          2.81          8.64          93.13           57.61           70.49           0.00          0.00          0.0           0.00          0.00          0.00          0.00         0.00         0.00         5                 2                 2                 1128              212               169               1000            110             102             6/24/2014            7/22/2014            8/19/2014            102                 110                 102                 6/24/2014                 7/22/2014                 8/19/2014                 1.0                1.0                1.0                33.0             33.0             33.0             1.0              1.0              1.0              0.0              0.0              0.0              33.0                33.0                33.0                0.00         0.00         0.00         0.00         0.00         0.00          0.00      0.00       0.00       0.00       0.00       0.00       0.0               0.0               0.0               0             0             0             1            1            1            0             0             0             0            0            0            0.0        0.0        0.0        3199  0.00        0.00        0.00        0.00        33.0                   33.0                   33.0                   703.0                           0        1\n",
       "7001594496     109        0.0             0.0             0.0             6/30/2014             7/31/2014             8/31/2014             388.764   639.662   494.923   19.34        22.81        35.14        252.89        350.38        156.03        0.00           0.00           0.0            0.00           0.00           0.0            19.34             22.81             35.14             251.89            350.11            156.01            0.99              0.26              0.00              0.0               0.00              0.00              272.24        373.19        191.16        0.00              0.00              0.00              0.00              0.00              0.00              0.0               0.00              0.00              0.0               0.0               0.0               0.00          0.00          0.00          0.0           0.0           0.0           0.00          0.53          0.01          0.00         0.0          0.0          272.24          373.73          191.18          40.23             37.01             64.06             136.13            150.63            117.49            13.59             74.18             3.69              189.96        261.83        185.26        0.00              0.00              0.00              0.85              0.20              0.00              0.00              0.00              0.00              0.0               0.0               0.0               0.85          0.20          0.00          190.81          262.03          185.26          0.00          0.00          0.0           0.00          0.00          0.00          0.00         0.00         0.00         16                25                8                 401               756               576               98              98              198             6/29/2014            7/30/2014            8/26/2014            20                  30                  198                 6/15/2014                 7/24/2014                 8/26/2014                 1.0                2.0                2.0                98.0             98.0             198.0            1.0              2.0              2.0              0.0              0.0              0.0              98.0                196.0               296.0               719.12       777.31       325.94       0.00         0.00         867.15        0.00      0.00       0.09       12.05      10.12      22.00      0.0               0.0               0.0               0             0             1             1            2            1            0             0             0             0            0            0            1.0        1.0        1.0        3023  995.79      0.00        0.00        30.16       98.0                   392.0                  592.0                  823.5                           0        1\n",
       "7001594905     109        0.0             0.0             0.0             6/30/2014             7/31/2014             8/31/2014             234.099   240.700   141.250   260.11       177.41       95.81        87.66         142.74        53.09         0.00           0.00           0.0            0.00           0.00           0.0            8.06              8.36              7.64              24.48             29.58             21.88             1.48              3.89              1.68              0.0               14.26             5.93              34.03         41.84         31.21         252.04            169.04            88.16             57.44             83.24             12.58             0.0               0.00              0.00              0.0               0.0               0.0               309.49        252.29        100.74        0.0           0.0           0.0           4.24          26.86         16.94         0.25         0.0          0.0          348.03          321.01          148.91          23.79             26.09             10.46             75.99             65.36             13.89             6.14              1.29              0.65              105.94        92.76         25.01         4.79              0.73              0.00              0.03              1.48              1.48              0.00              0.00              0.00              0.0               0.0               0.0               4.83          2.21          1.48          110.78          99.44           26.49           0.00          0.00          0.0           0.00          4.46          0.00          0.00         0.00         0.00         14                20                7                 229               401               45                44              120             25              6/28/2014            7/29/2014            8/24/2014            0                   0                   0                   6/19/2014                 7/28/2014                 8/23/2014                 2.0                6.0                2.0                25.0             25.0             25.0             2.0              5.0              2.0              0.0              1.0              0.0              50.0                150.0               50.0                113.77       2.18         124.19       0.00         269.32       0.08          0.00      4.44       0.10       0.00       0.00       27.40      0.0               0.0               0.0               0             0             0             2            5            2            0             0             0             0            1            0            1.0        1.0        1.0        1824  0.00        138.25      0.00        0.00        100.0                  900.0                  100.0                  815.0                           0        1\n",
       "                                                                                                                                                                                                                                                                                                                                                                                                                                                                                                                                                                                                                                                                                                                                                                                                                                                                                                                                                                                                                                                                                                                                                                                                                                                                                                                                                                                                                                                                                                                                                                                                                                                                                                                                                                                                                                                                                                                                                                                                                                                                                                                                                                                                                                                                                                                                                                                                                                                                                                                                                                                                                                                                                                                                                                                                                                                                                                                                                            ..\n",
       "7000829249     109        0.0             0.0             0.0             6/30/2014             7/31/2014             8/31/2014             333.999   325.452   450.724   367.83       397.31       521.63       107.93        84.63         145.06        0.00           0.00           0.0            0.00           0.00           0.0            36.68             40.64             51.88             72.86             49.58             36.53             0.00              0.00              2.04              0.0               0.00              0.00              109.54        90.23         90.46         331.14            356.66            469.74            35.06             31.19             106.48            0.0               0.00              0.00              0.0               0.0               0.0               366.21        387.86        576.23        0.0           0.0           0.0           0.00          3.85          0.00          0.00         0.0          0.0          475.76          481.94          666.69          9.04              17.34             15.51             36.34             40.66             14.86             0.00              0.56              0.00              45.39         58.58         30.38         13.30             41.54             37.78             7.21              2.41              4.93              0.00              0.00              0.00              0.0               0.0               0.0               20.51         43.96         42.71         65.91           102.54          73.09           0.00          0.00          0.0           0.00          0.00          0.00          0.00         0.00         0.00         15                19                22                367               377               517               67              67              67              6/30/2014            7/30/2014            8/31/2014            10                  20                  30                  6/28/2014                 7/26/2014                 8/30/2014                 1.0                5.0                5.0                23.0             23.0             23.0             1.0              5.0              5.0              0.0              0.0              0.0              23.0                115.0               115.0               0.00         0.00         0.00         0.00         0.00         0.00          0.00      0.00       0.00       0.00       0.00       0.00       0.0               0.0               0.0               0             0             0             1            5            5            0             0             0             0            0            0            0.0        0.0        0.0        1220  0.00        0.00        0.00        0.00        23.0                   575.0                  575.0                  671.0                           0        1\n",
       "7000829762     109        0.0             0.0             0.0             6/30/2014             7/31/2014             8/31/2014             1208.809  879.026   1028.214  36.81        32.16        46.13        2173.69       1010.63       1339.56       0.00           60.51          0.0            0.00           26.31          0.0            36.81             28.44             46.13             2156.33           978.68            1326.26           17.36             9.34              12.64             0.0               0.00              0.00              2210.51       1016.48       1385.04       0.00              0.00              0.00              0.00              0.00              0.00              0.0               0.00              0.00              0.0               0.0               0.0               0.00          0.00          0.00          0.0           0.0           0.0           0.00          1.08          0.65          0.00         0.0          0.0          2210.51         1017.56         1385.69         56.01             29.31             46.08             288.88            180.24            127.29            140.34            138.43            225.16            485.24        347.99        398.54        0.00              0.00              0.00              1.81              3.53              0.00              0.80              0.00              0.00              0.0               0.0               0.0               2.61          3.53          0.00          496.08          351.53          404.16          0.00          0.00          0.0           8.21          0.00          5.61          0.00         0.00         0.00         18                10                11                1457              1085              1166              154             154             179             6/29/2014            7/31/2014            8/30/2014            0                   128                 0                   6/12/2014                 7/13/2014                 8/29/2014                 1.0                1.0                2.0                154.0            154.0            179.0            1.0              1.0              1.0              0.0              0.0              1.0              154.0               154.0               333.0               110.51       162.37       232.31       1154.14      540.21       2322.07      -0.03      26.13      151.28     0.00       84.41      150.67     0.0               0.0               0.0               1             1             1             0            0            0            0             0             1             0            0            0            1.0        1.0        1.0        1885  2471.00     603.27      1128.22     0.00        154.0                  154.0                  666.0                  1425.0                          0        1\n",
       "7000830029     109        0.0             0.0             0.0             6/30/2014             7/31/2014             8/31/2014             578.300   508.331   885.519   96.94        131.08       101.31       384.91        648.88        1060.58       9.38           0.00           0.0            19.09          0.00           0.0            94.66             131.08            100.34            59.84             81.61             351.76            1.54              0.00              0.00              0.0               0.00              0.00              156.06        212.69        452.11        0.33              0.00              0.96              306.03            546.46            708.81            0.0               0.00              0.00              0.0               0.0               0.0               306.36        546.46        709.78        0.0           0.0           0.0           0.33          20.80         0.00          0.00         0.0          0.0          462.76          779.96          1161.89         7.71              10.96             48.09             28.19             48.51             79.56             1.80              0.73              9.86              37.71         60.21         137.53        0.00              2.50              0.50              7.36              14.38             9.51              0.00              0.00              0.00              0.0               0.0               0.0               7.36          16.88         10.01         45.53           77.68           148.79          0.45          0.00          0.0           0.00          0.00          0.00          0.00         0.58         1.24         6                 5                 8                 393               624               983               198             154             198             6/14/2014            7/28/2014            8/31/2014            0                   120                 198                 6/9/2014                  7/7/2014                  8/31/2014                 1.0                1.0                3.0                198.0            154.0            198.0            1.0              1.0              3.0              0.0              0.0              0.0              198.0               154.0               419.0               210.12       59.73        64.50        2238.51      858.68       4062.77       0.89      76.90      0.18       4.82       0.40       0.00       0.0               0.0               0.0               1             1             2             0            0            1            0             0             0             0            0            0            1.0        1.0        1.0        1826  3308.93     942.80      2314.83     0.00        198.0                  154.0                  1257.0                 684.5                           0        1\n",
       "7000830165     109        0.0             0.0             0.0             6/30/2014             7/31/2014             8/31/2014             667.618   805.676   205.510   0.00         2.70         0.53         6.13          30.83         3.94          0.00           0.00           0.0            0.00           0.00           0.0            0.00              2.70              0.53              6.13              8.11              3.21              0.00              2.11              0.00              0.0               0.00              0.00              6.13          12.93         3.74          0.00              0.00              0.00              0.00              0.05              0.73              0.0               0.00              0.00              0.0               0.0               0.0               0.00          0.05          0.73          0.0           0.0           0.0           0.00          20.54         0.00          0.00         0.0          0.0          6.13            33.53           4.48            3.09              8.13              7.23              6.73              27.23             40.26             0.00              9.69              0.81              9.83          45.06         48.31         0.00              13.63             0.00              1.31              0.33              13.59             0.00              0.00              1.90              0.0               0.0               0.0               1.31          13.96         15.49         11.14           59.03           63.81           0.00          0.00          0.0           0.00          0.00          0.00          0.00         0.00         0.00         3                 9                 3                 724               804               382               505             252             252             6/8/2014             7/28/2014            8/15/2014            505                 252                 0                   6/8/2014                  7/28/2014                 8/13/2014                 1.0                2.0                1.0                505.0            252.0            252.0            0.0              0.0              0.0              1.0              2.0              1.0              505.0               504.0               252.0               4.43         1.94         22.84        1949.29      2674.61      1642.76       484.04    702.14     215.39     442.58     436.17     212.17     0.0               0.0               0.0               0             0             0             0            0            0            1             2             1             0            0            0            1.0        1.0        1.0        1096  657.05      471.83      695.68      0.00        505.0                  1008.0                 252.0                  1520.5                          0        1\n",
       "7002410408     109        0.0             0.0             0.0             6/30/2014             7/31/2014             8/31/2014             1045.211  901.607   832.741   4.34         11.04        0.58         31.26         9.03          14.66         0.00           0.00           0.0            0.00           0.00           0.0            4.34              11.04             0.58              24.84             7.29              12.39             0.00              0.00              0.00              0.0               0.00              0.00              29.19         18.34         12.98         0.00              0.00              0.00              0.00              0.00              0.00              0.0               0.00              0.00              0.0               0.0               0.0               0.00          0.00          0.00          0.0           0.0           0.0           7.96          4.09          9.36          2.48         0.0          0.0          39.64           22.44           22.34           19.33             11.28             9.18              43.99             24.51             31.26             0.13              0.00              0.31              63.46         35.79         40.76         0.00              0.00              0.00              0.00              0.00              0.00              1.70              0.00              0.00              0.0               0.0               0.0               1.70          0.00          0.00          65.73           36.08           40.76           0.31          0.28          0.0           0.00          0.00          0.00          0.25         0.00         0.00         50                38                36                1228              1025              986               70              70              70              6/29/2014            7/31/2014            8/31/2014            41                  41                  17                  6/29/2014                 7/31/2014                 8/31/2014                 18.0               19.0               23.0               49.0             49.0             49.0             0.0              0.0              13.0             18.0             19.0             10.0             794.0               377.0               703.0               191.25       83.68        185.81       7071.70      4693.65      5019.57       797.08    665.07     411.36     825.34     773.30     508.38     1.0               1.0               1.0               0             0             0             0            0            13           0             0             0             18           19           10           1.0        1.0        1.0        1434  0.00        0.00        0.00        0.00        14292.0                7163.0                 16169.0                11854.0                         0        1\n",
       "Length: 11633, dtype: int64"
      ]
     },
     "execution_count": 25,
     "metadata": {},
     "output_type": "execute_result"
    }
   ],
   "source": [
    "high_val_cust_df.value_counts()"
   ]
  },
  {
   "cell_type": "code",
   "execution_count": 26,
   "id": "8c7f021f",
   "metadata": {},
   "outputs": [
    {
     "name": "stdout",
     "output_type": "stream",
     "text": [
      "['circle_id', 'loc_og_t2o_mou', 'std_og_t2o_mou', 'loc_ic_t2o_mou', 'last_date_of_month_6', 'last_date_of_month_7', 'last_date_of_month_8', 'std_og_t2c_mou_6', 'std_og_t2c_mou_7', 'std_og_t2c_mou_8', 'std_ic_t2o_mou_6', 'std_ic_t2o_mou_7', 'std_ic_t2o_mou_8']\n"
     ]
    }
   ],
   "source": [
    "#checking columns which has only 1 unique value. These columns are not useful for our analysis.\n",
    "unique_1_col=[]\n",
    "for i in high_val_cust_df.columns:\n",
    "    if high_val_cust_df[i].nunique() == 1:\n",
    "        unique_1_col.append(i)\n",
    "    else:\n",
    "        pass\n",
    "print(unique_1_col)"
   ]
  },
  {
   "cell_type": "code",
   "execution_count": 27,
   "id": "77967a4c",
   "metadata": {},
   "outputs": [],
   "source": [
    "# dropping unique_1_col\n",
    "high_val_cust_df.drop(unique_1_col, axis=1, inplace = True)"
   ]
  },
  {
   "cell_type": "code",
   "execution_count": 28,
   "id": "247b0d5d",
   "metadata": {},
   "outputs": [
    {
     "data": {
      "text/plain": [
       "(29953, 164)"
      ]
     },
     "execution_count": 28,
     "metadata": {},
     "output_type": "execute_result"
    }
   ],
   "source": [
    "high_val_cust_df.shape"
   ]
  },
  {
   "cell_type": "code",
   "execution_count": 29,
   "id": "5eaf2600",
   "metadata": {},
   "outputs": [
    {
     "data": {
      "text/plain": [
       "mobile_number                       int64\n",
       "arpu_6                            float64\n",
       "arpu_7                            float64\n",
       "arpu_8                            float64\n",
       "onnet_mou_6                       float64\n",
       "                                   ...   \n",
       "total_rech_amt_data_6             float64\n",
       "total_rech_amt_data_7             float64\n",
       "total_rech_amt_data_8             float64\n",
       "total_avg_rech_amnt_6_7_GPhase    float64\n",
       "churn                               int64\n",
       "Length: 164, dtype: object"
      ]
     },
     "execution_count": 29,
     "metadata": {},
     "output_type": "execute_result"
    }
   ],
   "source": [
    "high_val_cust_df.dtypes"
   ]
  },
  {
   "cell_type": "code",
   "execution_count": 30,
   "id": "600f3cd1",
   "metadata": {},
   "outputs": [
    {
     "data": {
      "text/plain": [
       "['date_of_last_rech_6',\n",
       " 'date_of_last_rech_7',\n",
       " 'date_of_last_rech_8',\n",
       " 'date_of_last_rech_data_6',\n",
       " 'date_of_last_rech_data_7',\n",
       " 'date_of_last_rech_data_8']"
      ]
     },
     "execution_count": 30,
     "metadata": {},
     "output_type": "execute_result"
    }
   ],
   "source": [
    "#Checking all numerical variables\n",
    "date_features=[i for i in high_val_cust_df.columns if high_val_cust_df.dtypes[i]=='object']\n",
    "date_features"
   ]
  },
  {
   "cell_type": "code",
   "execution_count": 31,
   "id": "f704a199",
   "metadata": {},
   "outputs": [
    {
     "data": {
      "text/html": [
       "<div>\n",
       "<style scoped>\n",
       "    .dataframe tbody tr th:only-of-type {\n",
       "        vertical-align: middle;\n",
       "    }\n",
       "\n",
       "    .dataframe tbody tr th {\n",
       "        vertical-align: top;\n",
       "    }\n",
       "\n",
       "    .dataframe thead th {\n",
       "        text-align: right;\n",
       "    }\n",
       "</style>\n",
       "<table border=\"1\" class=\"dataframe\">\n",
       "  <thead>\n",
       "    <tr style=\"text-align: right;\">\n",
       "      <th></th>\n",
       "      <th>date_of_last_rech_6</th>\n",
       "      <th>date_of_last_rech_7</th>\n",
       "      <th>date_of_last_rech_8</th>\n",
       "      <th>date_of_last_rech_data_6</th>\n",
       "      <th>date_of_last_rech_data_7</th>\n",
       "      <th>date_of_last_rech_data_8</th>\n",
       "    </tr>\n",
       "  </thead>\n",
       "  <tbody>\n",
       "    <tr>\n",
       "      <th>0</th>\n",
       "      <td>6/21/2014</td>\n",
       "      <td>7/16/2014</td>\n",
       "      <td>8/8/2014</td>\n",
       "      <td>6/21/2014</td>\n",
       "      <td>7/16/2014</td>\n",
       "      <td>8/8/2014</td>\n",
       "    </tr>\n",
       "    <tr>\n",
       "      <th>7</th>\n",
       "      <td>6/27/2014</td>\n",
       "      <td>7/25/2014</td>\n",
       "      <td>8/26/2014</td>\n",
       "      <td>NaN</td>\n",
       "      <td>NaN</td>\n",
       "      <td>NaN</td>\n",
       "    </tr>\n",
       "    <tr>\n",
       "      <th>8</th>\n",
       "      <td>6/25/2014</td>\n",
       "      <td>7/31/2014</td>\n",
       "      <td>8/30/2014</td>\n",
       "      <td>NaN</td>\n",
       "      <td>7/31/2014</td>\n",
       "      <td>8/23/2014</td>\n",
       "    </tr>\n",
       "    <tr>\n",
       "      <th>21</th>\n",
       "      <td>6/30/2014</td>\n",
       "      <td>7/31/2014</td>\n",
       "      <td>8/31/2014</td>\n",
       "      <td>NaN</td>\n",
       "      <td>NaN</td>\n",
       "      <td>NaN</td>\n",
       "    </tr>\n",
       "    <tr>\n",
       "      <th>23</th>\n",
       "      <td>6/18/2014</td>\n",
       "      <td>7/7/2014</td>\n",
       "      <td>8/24/2014</td>\n",
       "      <td>NaN</td>\n",
       "      <td>7/7/2014</td>\n",
       "      <td>8/6/2014</td>\n",
       "    </tr>\n",
       "  </tbody>\n",
       "</table>\n",
       "</div>"
      ],
      "text/plain": [
       "   date_of_last_rech_6 date_of_last_rech_7 date_of_last_rech_8  \\\n",
       "0            6/21/2014           7/16/2014            8/8/2014   \n",
       "7            6/27/2014           7/25/2014           8/26/2014   \n",
       "8            6/25/2014           7/31/2014           8/30/2014   \n",
       "21           6/30/2014           7/31/2014           8/31/2014   \n",
       "23           6/18/2014            7/7/2014           8/24/2014   \n",
       "\n",
       "   date_of_last_rech_data_6 date_of_last_rech_data_7 date_of_last_rech_data_8  \n",
       "0                 6/21/2014                7/16/2014                 8/8/2014  \n",
       "7                       NaN                      NaN                      NaN  \n",
       "8                       NaN                7/31/2014                8/23/2014  \n",
       "21                      NaN                      NaN                      NaN  \n",
       "23                      NaN                 7/7/2014                 8/6/2014  "
      ]
     },
     "execution_count": 31,
     "metadata": {},
     "output_type": "execute_result"
    }
   ],
   "source": [
    "high_val_cust_df[date_features].head()"
   ]
  },
  {
   "cell_type": "code",
   "execution_count": 32,
   "id": "07570558",
   "metadata": {},
   "outputs": [],
   "source": [
    "for col in date_features:\n",
    "    high_val_cust_df[col] = pd.to_datetime(high_val_cust_df[col])"
   ]
  },
  {
   "cell_type": "code",
   "execution_count": 33,
   "id": "202e6d66",
   "metadata": {},
   "outputs": [
    {
     "data": {
      "text/html": [
       "<div>\n",
       "<style scoped>\n",
       "    .dataframe tbody tr th:only-of-type {\n",
       "        vertical-align: middle;\n",
       "    }\n",
       "\n",
       "    .dataframe tbody tr th {\n",
       "        vertical-align: top;\n",
       "    }\n",
       "\n",
       "    .dataframe thead th {\n",
       "        text-align: right;\n",
       "    }\n",
       "</style>\n",
       "<table border=\"1\" class=\"dataframe\">\n",
       "  <thead>\n",
       "    <tr style=\"text-align: right;\">\n",
       "      <th></th>\n",
       "      <th>date_of_last_rech_6</th>\n",
       "      <th>date_of_last_rech_7</th>\n",
       "      <th>date_of_last_rech_8</th>\n",
       "      <th>date_of_last_rech_data_6</th>\n",
       "      <th>date_of_last_rech_data_7</th>\n",
       "      <th>date_of_last_rech_data_8</th>\n",
       "    </tr>\n",
       "  </thead>\n",
       "  <tbody>\n",
       "    <tr>\n",
       "      <th>0</th>\n",
       "      <td>2014-06-21</td>\n",
       "      <td>2014-07-16</td>\n",
       "      <td>2014-08-08</td>\n",
       "      <td>2014-06-21</td>\n",
       "      <td>2014-07-16</td>\n",
       "      <td>2014-08-08</td>\n",
       "    </tr>\n",
       "    <tr>\n",
       "      <th>7</th>\n",
       "      <td>2014-06-27</td>\n",
       "      <td>2014-07-25</td>\n",
       "      <td>2014-08-26</td>\n",
       "      <td>NaT</td>\n",
       "      <td>NaT</td>\n",
       "      <td>NaT</td>\n",
       "    </tr>\n",
       "    <tr>\n",
       "      <th>8</th>\n",
       "      <td>2014-06-25</td>\n",
       "      <td>2014-07-31</td>\n",
       "      <td>2014-08-30</td>\n",
       "      <td>NaT</td>\n",
       "      <td>2014-07-31</td>\n",
       "      <td>2014-08-23</td>\n",
       "    </tr>\n",
       "    <tr>\n",
       "      <th>21</th>\n",
       "      <td>2014-06-30</td>\n",
       "      <td>2014-07-31</td>\n",
       "      <td>2014-08-31</td>\n",
       "      <td>NaT</td>\n",
       "      <td>NaT</td>\n",
       "      <td>NaT</td>\n",
       "    </tr>\n",
       "    <tr>\n",
       "      <th>23</th>\n",
       "      <td>2014-06-18</td>\n",
       "      <td>2014-07-07</td>\n",
       "      <td>2014-08-24</td>\n",
       "      <td>NaT</td>\n",
       "      <td>2014-07-07</td>\n",
       "      <td>2014-08-06</td>\n",
       "    </tr>\n",
       "  </tbody>\n",
       "</table>\n",
       "</div>"
      ],
      "text/plain": [
       "   date_of_last_rech_6 date_of_last_rech_7 date_of_last_rech_8  \\\n",
       "0           2014-06-21          2014-07-16          2014-08-08   \n",
       "7           2014-06-27          2014-07-25          2014-08-26   \n",
       "8           2014-06-25          2014-07-31          2014-08-30   \n",
       "21          2014-06-30          2014-07-31          2014-08-31   \n",
       "23          2014-06-18          2014-07-07          2014-08-24   \n",
       "\n",
       "   date_of_last_rech_data_6 date_of_last_rech_data_7 date_of_last_rech_data_8  \n",
       "0                2014-06-21               2014-07-16               2014-08-08  \n",
       "7                       NaT                      NaT                      NaT  \n",
       "8                       NaT               2014-07-31               2014-08-23  \n",
       "21                      NaT                      NaT                      NaT  \n",
       "23                      NaT               2014-07-07               2014-08-06  "
      ]
     },
     "execution_count": 33,
     "metadata": {},
     "output_type": "execute_result"
    }
   ],
   "source": [
    "high_val_cust_df[date_features].head()"
   ]
  },
  {
   "cell_type": "code",
   "execution_count": 34,
   "id": "138b2295",
   "metadata": {},
   "outputs": [
    {
     "data": {
      "text/html": [
       "<div>\n",
       "<style scoped>\n",
       "    .dataframe tbody tr th:only-of-type {\n",
       "        vertical-align: middle;\n",
       "    }\n",
       "\n",
       "    .dataframe tbody tr th {\n",
       "        vertical-align: top;\n",
       "    }\n",
       "\n",
       "    .dataframe thead th {\n",
       "        text-align: right;\n",
       "    }\n",
       "</style>\n",
       "<table border=\"1\" class=\"dataframe\">\n",
       "  <thead>\n",
       "    <tr style=\"text-align: right;\">\n",
       "      <th></th>\n",
       "      <th>mobile_number</th>\n",
       "      <th>arpu_6</th>\n",
       "      <th>arpu_7</th>\n",
       "      <th>arpu_8</th>\n",
       "      <th>onnet_mou_6</th>\n",
       "      <th>onnet_mou_7</th>\n",
       "      <th>onnet_mou_8</th>\n",
       "      <th>offnet_mou_6</th>\n",
       "      <th>offnet_mou_7</th>\n",
       "      <th>offnet_mou_8</th>\n",
       "      <th>...</th>\n",
       "      <th>aon</th>\n",
       "      <th>aug_vbc_3g</th>\n",
       "      <th>jul_vbc_3g</th>\n",
       "      <th>jun_vbc_3g</th>\n",
       "      <th>sep_vbc_3g</th>\n",
       "      <th>total_rech_amt_data_6</th>\n",
       "      <th>total_rech_amt_data_7</th>\n",
       "      <th>total_rech_amt_data_8</th>\n",
       "      <th>total_avg_rech_amnt_6_7_GPhase</th>\n",
       "      <th>churn</th>\n",
       "    </tr>\n",
       "  </thead>\n",
       "  <tbody>\n",
       "    <tr>\n",
       "      <th>0</th>\n",
       "      <td>7000842753</td>\n",
       "      <td>197.385</td>\n",
       "      <td>214.816</td>\n",
       "      <td>213.803</td>\n",
       "      <td>NaN</td>\n",
       "      <td>NaN</td>\n",
       "      <td>0.00</td>\n",
       "      <td>NaN</td>\n",
       "      <td>NaN</td>\n",
       "      <td>0.00</td>\n",
       "      <td>...</td>\n",
       "      <td>968</td>\n",
       "      <td>30.40</td>\n",
       "      <td>0.00</td>\n",
       "      <td>101.20</td>\n",
       "      <td>3.58</td>\n",
       "      <td>252.0</td>\n",
       "      <td>252.0</td>\n",
       "      <td>252.0</td>\n",
       "      <td>559.0</td>\n",
       "      <td>1</td>\n",
       "    </tr>\n",
       "    <tr>\n",
       "      <th>7</th>\n",
       "      <td>7000701601</td>\n",
       "      <td>1069.180</td>\n",
       "      <td>1349.850</td>\n",
       "      <td>3171.480</td>\n",
       "      <td>57.84</td>\n",
       "      <td>54.68</td>\n",
       "      <td>52.29</td>\n",
       "      <td>453.43</td>\n",
       "      <td>567.16</td>\n",
       "      <td>325.91</td>\n",
       "      <td>...</td>\n",
       "      <td>802</td>\n",
       "      <td>57.74</td>\n",
       "      <td>19.38</td>\n",
       "      <td>18.74</td>\n",
       "      <td>0.00</td>\n",
       "      <td>0.0</td>\n",
       "      <td>0.0</td>\n",
       "      <td>0.0</td>\n",
       "      <td>1185.0</td>\n",
       "      <td>1</td>\n",
       "    </tr>\n",
       "    <tr>\n",
       "      <th>8</th>\n",
       "      <td>7001524846</td>\n",
       "      <td>378.721</td>\n",
       "      <td>492.223</td>\n",
       "      <td>137.362</td>\n",
       "      <td>413.69</td>\n",
       "      <td>351.03</td>\n",
       "      <td>35.08</td>\n",
       "      <td>94.66</td>\n",
       "      <td>80.63</td>\n",
       "      <td>136.48</td>\n",
       "      <td>...</td>\n",
       "      <td>315</td>\n",
       "      <td>21.03</td>\n",
       "      <td>910.65</td>\n",
       "      <td>122.16</td>\n",
       "      <td>0.00</td>\n",
       "      <td>0.0</td>\n",
       "      <td>354.0</td>\n",
       "      <td>207.0</td>\n",
       "      <td>696.0</td>\n",
       "      <td>0</td>\n",
       "    </tr>\n",
       "    <tr>\n",
       "      <th>21</th>\n",
       "      <td>7002124215</td>\n",
       "      <td>514.453</td>\n",
       "      <td>597.753</td>\n",
       "      <td>637.760</td>\n",
       "      <td>102.41</td>\n",
       "      <td>132.11</td>\n",
       "      <td>85.14</td>\n",
       "      <td>757.93</td>\n",
       "      <td>896.68</td>\n",
       "      <td>983.39</td>\n",
       "      <td>...</td>\n",
       "      <td>720</td>\n",
       "      <td>0.00</td>\n",
       "      <td>0.00</td>\n",
       "      <td>0.00</td>\n",
       "      <td>0.00</td>\n",
       "      <td>0.0</td>\n",
       "      <td>0.0</td>\n",
       "      <td>0.0</td>\n",
       "      <td>640.0</td>\n",
       "      <td>0</td>\n",
       "    </tr>\n",
       "    <tr>\n",
       "      <th>23</th>\n",
       "      <td>7000887461</td>\n",
       "      <td>74.350</td>\n",
       "      <td>193.897</td>\n",
       "      <td>366.966</td>\n",
       "      <td>48.96</td>\n",
       "      <td>50.66</td>\n",
       "      <td>33.58</td>\n",
       "      <td>85.41</td>\n",
       "      <td>89.36</td>\n",
       "      <td>205.89</td>\n",
       "      <td>...</td>\n",
       "      <td>604</td>\n",
       "      <td>40.45</td>\n",
       "      <td>51.86</td>\n",
       "      <td>0.00</td>\n",
       "      <td>0.00</td>\n",
       "      <td>0.0</td>\n",
       "      <td>712.0</td>\n",
       "      <td>540.0</td>\n",
       "      <td>583.0</td>\n",
       "      <td>0</td>\n",
       "    </tr>\n",
       "  </tbody>\n",
       "</table>\n",
       "<p>5 rows × 164 columns</p>\n",
       "</div>"
      ],
      "text/plain": [
       "    mobile_number    arpu_6    arpu_7    arpu_8  onnet_mou_6  onnet_mou_7  \\\n",
       "0      7000842753   197.385   214.816   213.803          NaN          NaN   \n",
       "7      7000701601  1069.180  1349.850  3171.480        57.84        54.68   \n",
       "8      7001524846   378.721   492.223   137.362       413.69       351.03   \n",
       "21     7002124215   514.453   597.753   637.760       102.41       132.11   \n",
       "23     7000887461    74.350   193.897   366.966        48.96        50.66   \n",
       "\n",
       "    onnet_mou_8  offnet_mou_6  offnet_mou_7  offnet_mou_8  ...  aon  \\\n",
       "0          0.00           NaN           NaN          0.00  ...  968   \n",
       "7         52.29        453.43        567.16        325.91  ...  802   \n",
       "8         35.08         94.66         80.63        136.48  ...  315   \n",
       "21        85.14        757.93        896.68        983.39  ...  720   \n",
       "23        33.58         85.41         89.36        205.89  ...  604   \n",
       "\n",
       "    aug_vbc_3g  jul_vbc_3g  jun_vbc_3g  sep_vbc_3g  total_rech_amt_data_6  \\\n",
       "0        30.40        0.00      101.20        3.58                  252.0   \n",
       "7        57.74       19.38       18.74        0.00                    0.0   \n",
       "8        21.03      910.65      122.16        0.00                    0.0   \n",
       "21        0.00        0.00        0.00        0.00                    0.0   \n",
       "23       40.45       51.86        0.00        0.00                    0.0   \n",
       "\n",
       "    total_rech_amt_data_7  total_rech_amt_data_8  \\\n",
       "0                   252.0                  252.0   \n",
       "7                     0.0                    0.0   \n",
       "8                   354.0                  207.0   \n",
       "21                    0.0                    0.0   \n",
       "23                  712.0                  540.0   \n",
       "\n",
       "    total_avg_rech_amnt_6_7_GPhase  churn  \n",
       "0                            559.0      1  \n",
       "7                           1185.0      1  \n",
       "8                            696.0      0  \n",
       "21                           640.0      0  \n",
       "23                           583.0      0  \n",
       "\n",
       "[5 rows x 164 columns]"
      ]
     },
     "execution_count": 34,
     "metadata": {},
     "output_type": "execute_result"
    }
   ],
   "source": [
    "high_val_cust_df.head()"
   ]
  },
  {
   "cell_type": "code",
   "execution_count": 35,
   "id": "618461c1",
   "metadata": {},
   "outputs": [],
   "source": [
    "# create box plot for  6th, 7th and 8th month\n",
    "def plot_box_chart(attribute):\n",
    "    plt.figure(figsize=(20,16))\n",
    "    df = high_val_cust_df\n",
    "    plt.subplot(2,3,1)\n",
    "    sns.boxplot(data=df, y=attribute+\"_6\",x=\"churn\",hue=\"churn\",\n",
    "                showfliers=False,palette=(\"plasma\"))\n",
    "    plt.subplot(2,3,2)\n",
    "    sns.boxplot(data=df, y=attribute+\"_7\",x=\"churn\",hue=\"churn\",\n",
    "                showfliers=False,palette=(\"plasma\"))\n",
    "    plt.subplot(2,3,3)\n",
    "    sns.boxplot(data=df, y=attribute+\"_8\",x=\"churn\",hue=\"churn\",\n",
    "                showfliers=False,palette=(\"plasma\"))\n",
    "    plt.show()"
   ]
  },
  {
   "cell_type": "markdown",
   "id": "ecdc198a",
   "metadata": {},
   "source": [
    "### Recharge amount related variables"
   ]
  },
  {
   "cell_type": "code",
   "execution_count": 36,
   "id": "15247c33",
   "metadata": {},
   "outputs": [
    {
     "data": {
      "text/plain": [
       "['total_rech_amt_6',\n",
       " 'total_rech_amt_7',\n",
       " 'total_rech_amt_8',\n",
       " 'max_rech_amt_6',\n",
       " 'max_rech_amt_7',\n",
       " 'max_rech_amt_8',\n",
       " 'av_rech_amt_data_6',\n",
       " 'av_rech_amt_data_7',\n",
       " 'av_rech_amt_data_8',\n",
       " 'total_rech_amt_data_6',\n",
       " 'total_rech_amt_data_7',\n",
       " 'total_rech_amt_data_8']"
      ]
     },
     "execution_count": 36,
     "metadata": {},
     "output_type": "execute_result"
    }
   ],
   "source": [
    "#recharge amount related variables\n",
    "recharge_amnt_columns =  high_val_cust_df.columns[high_val_cust_df.columns.str.contains('rech_amt')]\n",
    "recharge_amnt_columns.tolist()"
   ]
  },
  {
   "cell_type": "code",
   "execution_count": 37,
   "id": "50d3e496",
   "metadata": {},
   "outputs": [
    {
     "data": {
      "image/png": "[encoded data removed]",
      "text/plain": [
       "<Figure size 1440x1152 with 3 Axes>"
      ]
     },
     "metadata": {
      "needs_background": "light"
     },
     "output_type": "display_data"
    }
   ],
   "source": [
    "# Ploting for total recharge amount:\n",
    "plot_box_chart('total_rech_amt')"
   ]
  },
  {
   "cell_type": "markdown",
   "id": "f6c0cda6",
   "metadata": {},
   "source": [
    "### We can see a drop in the total recharge amount for churned customers in the 8th Month (Action Phase)."
   ]
  },
  {
   "cell_type": "code",
   "execution_count": 38,
   "id": "ec96da11",
   "metadata": {},
   "outputs": [
    {
     "data": {
      "image/png": "[encoded data removed]",
      "text/plain": [
       "<Figure size 1440x1152 with 3 Axes>"
      ]
     },
     "metadata": {
      "needs_background": "light"
     },
     "output_type": "display_data"
    }
   ],
   "source": [
    "# Ploting for total recharge amount for data:\n",
    "plot_box_chart('total_rech_amt_data')"
   ]
  },
  {
   "cell_type": "markdown",
   "id": "dd88becb",
   "metadata": {},
   "source": [
    "### We can see that there is a huge drop in total recharge amount for data in the 8th month (action phase) for churned customers."
   ]
  },
  {
   "cell_type": "code",
   "execution_count": 39,
   "id": "c97e2ae3",
   "metadata": {},
   "outputs": [
    {
     "data": {
      "image/png": "[encoded data removed]",
      "text/plain": [
       "<Figure size 1440x1152 with 3 Axes>"
      ]
     },
     "metadata": {
      "needs_background": "light"
     },
     "output_type": "display_data"
    }
   ],
   "source": [
    "# Ploting for maximum recharge amount for data:\n",
    "plot_box_chart('max_rech_amt')"
   ]
  },
  {
   "cell_type": "markdown",
   "id": "1bb1f871",
   "metadata": {},
   "source": [
    "### We can see that there is a huge drop in maximum recharge amount for data in the 8th month (action phase) for churned customers"
   ]
  },
  {
   "cell_type": "code",
   "execution_count": 40,
   "id": "af7a50d7",
   "metadata": {},
   "outputs": [],
   "source": [
    "# Let's check other recharge related variables:\n",
    "other_recharge = high_val_cust_df.columns[high_val_cust_df.columns.str.contains('rech_num|max_rech_data',regex=True)]"
   ]
  },
  {
   "cell_type": "code",
   "execution_count": 41,
   "id": "5ff56121",
   "metadata": {},
   "outputs": [
    {
     "data": {
      "text/plain": [
       "total_rech_num_6     0.000000\n",
       "total_rech_num_7     0.000000\n",
       "total_rech_num_8     0.000000\n",
       "max_rech_data_6     44.112443\n",
       "max_rech_data_7     43.117551\n",
       "max_rech_data_8     46.799987\n",
       "dtype: float64"
      ]
     },
     "execution_count": 41,
     "metadata": {},
     "output_type": "execute_result"
    }
   ],
   "source": [
    "# lets check the % of NA values for other recharge related variables\n",
    "100*high_val_cust_df.loc[:,other_recharge].isnull().sum()/len(high_val_cust_df)"
   ]
  },
  {
   "cell_type": "code",
   "execution_count": 42,
   "id": "fd6995a4",
   "metadata": {},
   "outputs": [
    {
     "data": {
      "text/html": [
       "<div>\n",
       "<style scoped>\n",
       "    .dataframe tbody tr th:only-of-type {\n",
       "        vertical-align: middle;\n",
       "    }\n",
       "\n",
       "    .dataframe tbody tr th {\n",
       "        vertical-align: top;\n",
       "    }\n",
       "\n",
       "    .dataframe thead th {\n",
       "        text-align: right;\n",
       "    }\n",
       "</style>\n",
       "<table border=\"1\" class=\"dataframe\">\n",
       "  <thead>\n",
       "    <tr style=\"text-align: right;\">\n",
       "      <th></th>\n",
       "      <th>max_rech_data_6</th>\n",
       "      <th>max_rech_data_7</th>\n",
       "      <th>max_rech_data_8</th>\n",
       "    </tr>\n",
       "  </thead>\n",
       "  <tbody>\n",
       "    <tr>\n",
       "      <th>count</th>\n",
       "      <td>16740.000000</td>\n",
       "      <td>17038.000000</td>\n",
       "      <td>15935.000000</td>\n",
       "    </tr>\n",
       "    <tr>\n",
       "      <th>mean</th>\n",
       "      <td>139.804002</td>\n",
       "      <td>140.444712</td>\n",
       "      <td>136.353373</td>\n",
       "    </tr>\n",
       "    <tr>\n",
       "      <th>std</th>\n",
       "      <td>118.892926</td>\n",
       "      <td>120.295284</td>\n",
       "      <td>119.571138</td>\n",
       "    </tr>\n",
       "    <tr>\n",
       "      <th>min</th>\n",
       "      <td>1.000000</td>\n",
       "      <td>1.000000</td>\n",
       "      <td>1.000000</td>\n",
       "    </tr>\n",
       "    <tr>\n",
       "      <th>25%</th>\n",
       "      <td>25.000000</td>\n",
       "      <td>25.000000</td>\n",
       "      <td>25.000000</td>\n",
       "    </tr>\n",
       "    <tr>\n",
       "      <th>50%</th>\n",
       "      <td>152.000000</td>\n",
       "      <td>152.000000</td>\n",
       "      <td>152.000000</td>\n",
       "    </tr>\n",
       "    <tr>\n",
       "      <th>75%</th>\n",
       "      <td>198.000000</td>\n",
       "      <td>198.000000</td>\n",
       "      <td>198.000000</td>\n",
       "    </tr>\n",
       "    <tr>\n",
       "      <th>max</th>\n",
       "      <td>1555.000000</td>\n",
       "      <td>1555.000000</td>\n",
       "      <td>1555.000000</td>\n",
       "    </tr>\n",
       "  </tbody>\n",
       "</table>\n",
       "</div>"
      ],
      "text/plain": [
       "       max_rech_data_6  max_rech_data_7  max_rech_data_8\n",
       "count     16740.000000     17038.000000     15935.000000\n",
       "mean        139.804002       140.444712       136.353373\n",
       "std         118.892926       120.295284       119.571138\n",
       "min           1.000000         1.000000         1.000000\n",
       "25%          25.000000        25.000000        25.000000\n",
       "50%         152.000000       152.000000       152.000000\n",
       "75%         198.000000       198.000000       198.000000\n",
       "max        1555.000000      1555.000000      1555.000000"
      ]
     },
     "execution_count": 42,
     "metadata": {},
     "output_type": "execute_result"
    }
   ],
   "source": [
    "high_val_cust_df.loc[:,['max_rech_data_6','max_rech_data_7','max_rech_data_8']].describe()"
   ]
  },
  {
   "cell_type": "markdown",
   "id": "89f9fe25",
   "metadata": {},
   "source": [
    "### We see that the minimum value is 1 while the max is 1555 across months, which indicate the missing values are where no recharges happened for the data, Filling the missing values by 0 , means no recharge."
   ]
  },
  {
   "cell_type": "code",
   "execution_count": 43,
   "id": "6b564ed2",
   "metadata": {},
   "outputs": [],
   "source": [
    "high_val_cust_df.loc[:,['max_rech_data_6','max_rech_data_7','max_rech_data_8']] = high_val_cust_df.loc[:,['max_rech_data_6','max_rech_data_7','max_rech_data_8']].replace(np.nan,0)"
   ]
  },
  {
   "cell_type": "code",
   "execution_count": 44,
   "id": "f9b079c3",
   "metadata": {},
   "outputs": [
    {
     "data": {
      "image/png": "[encoded data removed]",
      "text/plain": [
       "<Figure size 1440x1152 with 3 Axes>"
      ]
     },
     "metadata": {
      "needs_background": "light"
     },
     "output_type": "display_data"
    }
   ],
   "source": [
    "# Ploting for Total recharge for Number:\n",
    "plot_box_chart('total_rech_num')"
   ]
  },
  {
   "cell_type": "markdown",
   "id": "077207bc",
   "metadata": {},
   "source": [
    "### We can see that there is a huge drop in total recharge number also in the 8th month (action phase) for churned customers."
   ]
  },
  {
   "cell_type": "code",
   "execution_count": 45,
   "id": "2cc2ccf3",
   "metadata": {},
   "outputs": [
    {
     "data": {
      "image/png": "[encoded data removed]",
      "text/plain": [
       "<Figure size 1440x1152 with 3 Axes>"
      ]
     },
     "metadata": {
      "needs_background": "light"
     },
     "output_type": "display_data"
    }
   ],
   "source": [
    "# Ploting for maximum recharge for data:\n",
    "plot_box_chart('max_rech_data')"
   ]
  },
  {
   "cell_type": "markdown",
   "id": "76d0684b",
   "metadata": {},
   "source": [
    "### We can see that there is a huge drop in maximum recharge for data also in the 8th month (action phase) for churned customers."
   ]
  },
  {
   "cell_type": "code",
   "execution_count": 46,
   "id": "73baa858",
   "metadata": {},
   "outputs": [],
   "source": [
    "#Getting the last day recharge amount columns\n",
    "last_day_rech_amt = high_val_cust_df.columns[high_val_cust_df.columns.str.contains('day')]"
   ]
  },
  {
   "cell_type": "code",
   "execution_count": 47,
   "id": "8d4f9156",
   "metadata": {},
   "outputs": [
    {
     "data": {
      "text/plain": [
       "['last_day_rch_amt_6', 'last_day_rch_amt_7', 'last_day_rch_amt_8']"
      ]
     },
     "execution_count": 47,
     "metadata": {},
     "output_type": "execute_result"
    }
   ],
   "source": [
    "last_day_rech_amt.tolist()"
   ]
  },
  {
   "cell_type": "code",
   "execution_count": 48,
   "id": "ea414b21",
   "metadata": {},
   "outputs": [
    {
     "data": {
      "image/png": "[encoded data removed]",
      "text/plain": [
       "<Figure size 1440x1152 with 3 Axes>"
      ]
     },
     "metadata": {
      "needs_background": "light"
     },
     "output_type": "display_data"
    }
   ],
   "source": [
    "# Ploting for last day recharge amount:\n",
    "plot_box_chart('last_day_rch_amt')"
   ]
  },
  {
   "cell_type": "markdown",
   "id": "215115f4",
   "metadata": {},
   "source": [
    "### We are getting a huge drop in 8th month recharge amount for churned customers."
   ]
  },
  {
   "cell_type": "markdown",
   "id": "2b57744c",
   "metadata": {},
   "source": [
    "### 2G and 3G usage related attributes"
   ]
  },
  {
   "cell_type": "code",
   "execution_count": 49,
   "id": "b223cb15",
   "metadata": {},
   "outputs": [],
   "source": [
    "variables_2g_3g = high_val_cust_df.columns[high_val_cust_df.columns.str.contains('2g|3g',regex=True)]"
   ]
  },
  {
   "cell_type": "code",
   "execution_count": 50,
   "id": "bd6da329",
   "metadata": {},
   "outputs": [
    {
     "data": {
      "text/plain": [
       "count_rech_2g_6    44.112443\n",
       "count_rech_2g_7    43.117551\n",
       "count_rech_2g_8    46.799987\n",
       "count_rech_3g_6    44.112443\n",
       "count_rech_3g_7    43.117551\n",
       "count_rech_3g_8    46.799987\n",
       "vol_2g_mb_6         0.000000\n",
       "vol_2g_mb_7         0.000000\n",
       "vol_2g_mb_8         0.000000\n",
       "vol_3g_mb_6         0.000000\n",
       "vol_3g_mb_7         0.000000\n",
       "vol_3g_mb_8         0.000000\n",
       "arpu_3g_6          44.112443\n",
       "arpu_3g_7          43.117551\n",
       "arpu_3g_8          46.799987\n",
       "arpu_2g_6          44.112443\n",
       "arpu_2g_7          43.117551\n",
       "arpu_2g_8          46.799987\n",
       "monthly_2g_6        0.000000\n",
       "monthly_2g_7        0.000000\n",
       "monthly_2g_8        0.000000\n",
       "sachet_2g_6         0.000000\n",
       "sachet_2g_7         0.000000\n",
       "sachet_2g_8         0.000000\n",
       "monthly_3g_6        0.000000\n",
       "monthly_3g_7        0.000000\n",
       "monthly_3g_8        0.000000\n",
       "sachet_3g_6         0.000000\n",
       "sachet_3g_7         0.000000\n",
       "sachet_3g_8         0.000000\n",
       "aug_vbc_3g          0.000000\n",
       "jul_vbc_3g          0.000000\n",
       "jun_vbc_3g          0.000000\n",
       "sep_vbc_3g          0.000000\n",
       "dtype: float64"
      ]
     },
     "execution_count": 50,
     "metadata": {},
     "output_type": "execute_result"
    }
   ],
   "source": [
    "#let us check the % of NA values present\n",
    "100*high_val_cust_df.loc[:,variables_2g_3g].isnull().sum()/len(high_val_cust_df.loc[:,variables_2g_3g])"
   ]
  },
  {
   "cell_type": "markdown",
   "id": "111225a6",
   "metadata": {},
   "source": [
    "### We are getting more than 40% values are not available for count of recharge and average revenue for 2G/3G per user. Although we have 2G/3G volume usage based data available, we can drop these columns."
   ]
  },
  {
   "cell_type": "code",
   "execution_count": 51,
   "id": "c023681d",
   "metadata": {},
   "outputs": [],
   "source": [
    "high_val_cust_df.drop(['count_rech_2g_6','count_rech_2g_7',\n",
    "              'count_rech_2g_8','count_rech_3g_6','count_rech_3g_7','count_rech_3g_8'\n",
    "               ,'arpu_3g_6','arpu_3g_7','arpu_3g_8','arpu_2g_6','arpu_2g_7','arpu_2g_8'],axis=1,inplace=True)"
   ]
  },
  {
   "cell_type": "code",
   "execution_count": 52,
   "id": "20a9c759",
   "metadata": {},
   "outputs": [
    {
     "data": {
      "image/png": "[encoded data removed]",
      "text/plain": [
       "<Figure size 1440x1152 with 3 Axes>"
      ]
     },
     "metadata": {
      "needs_background": "light"
     },
     "output_type": "display_data"
    }
   ],
   "source": [
    "# Ploting for volume of 2G and 3G usage columns:\n",
    "plot_box_chart('vol_2g_mb')"
   ]
  },
  {
   "cell_type": "code",
   "execution_count": 53,
   "id": "f919b533",
   "metadata": {},
   "outputs": [
    {
     "data": {
      "image/png": "[encoded data removed]",
      "text/plain": [
       "<Figure size 1440x1152 with 3 Axes>"
      ]
     },
     "metadata": {
      "needs_background": "light"
     },
     "output_type": "display_data"
    }
   ],
   "source": [
    "plot_box_chart('vol_3g_mb')"
   ]
  },
  {
   "cell_type": "markdown",
   "id": "041256ce",
   "metadata": {},
   "source": [
    "### We have two observations from above:\n",
    "1. 2G and 3G usage for churned customers drops in 8th month\n",
    "2. We also see that 2G/3G usage is higher for non-churned customers indicating that churned customers might be from areas where 2G/3G service is not properly available."
   ]
  },
  {
   "cell_type": "code",
   "execution_count": 54,
   "id": "9e038b1b",
   "metadata": {},
   "outputs": [
    {
     "data": {
      "text/plain": [
       "['monthly_2g_6',\n",
       " 'monthly_2g_7',\n",
       " 'monthly_2g_8',\n",
       " 'monthly_3g_6',\n",
       " 'monthly_3g_7',\n",
       " 'monthly_3g_8']"
      ]
     },
     "execution_count": 54,
     "metadata": {},
     "output_type": "execute_result"
    }
   ],
   "source": [
    "# let's check monthly 2G/3G service schemes\n",
    "monthly_subcription_2g_3g = high_val_cust_df.columns[high_val_cust_df.columns.str.contains('monthly_2g|monthly_3g',regex=True)]\n",
    "monthly_subcription_2g_3g.tolist()"
   ]
  },
  {
   "cell_type": "code",
   "execution_count": 55,
   "id": "6eff8280",
   "metadata": {},
   "outputs": [
    {
     "data": {
      "text/plain": [
       "monthly_2g_6    0.0\n",
       "monthly_2g_7    0.0\n",
       "monthly_2g_8    0.0\n",
       "monthly_3g_6    0.0\n",
       "monthly_3g_7    0.0\n",
       "monthly_3g_8    0.0\n",
       "dtype: float64"
      ]
     },
     "execution_count": 55,
     "metadata": {},
     "output_type": "execute_result"
    }
   ],
   "source": [
    "#Checking Null value\n",
    "100*high_val_cust_df.loc[:,monthly_subcription_2g_3g].isnull().sum()/len(high_val_cust_df.loc[:,monthly_subcription_2g_3g])"
   ]
  },
  {
   "cell_type": "code",
   "execution_count": 56,
   "id": "aac3f67c",
   "metadata": {},
   "outputs": [
    {
     "name": "stdout",
     "output_type": "stream",
     "text": [
      "<class 'pandas.core.frame.DataFrame'>\n",
      "Int64Index: 29953 entries, 0 to 99997\n",
      "Data columns (total 6 columns):\n",
      " #   Column        Non-Null Count  Dtype\n",
      "---  ------        --------------  -----\n",
      " 0   monthly_2g_6  29953 non-null  int64\n",
      " 1   monthly_2g_7  29953 non-null  int64\n",
      " 2   monthly_2g_8  29953 non-null  int64\n",
      " 3   monthly_3g_6  29953 non-null  int64\n",
      " 4   monthly_3g_7  29953 non-null  int64\n",
      " 5   monthly_3g_8  29953 non-null  int64\n",
      "dtypes: int64(6)\n",
      "memory usage: 2.6 MB\n"
     ]
    }
   ],
   "source": [
    "high_val_cust_df[monthly_subcription_2g_3g].info()"
   ]
  },
  {
   "cell_type": "code",
   "execution_count": 57,
   "id": "f4e0fb69",
   "metadata": {},
   "outputs": [
    {
     "data": {
      "text/plain": [
       "['aug_vbc_3g', 'jul_vbc_3g', 'jun_vbc_3g', 'sep_vbc_3g']"
      ]
     },
     "execution_count": 57,
     "metadata": {},
     "output_type": "execute_result"
    }
   ],
   "source": [
    "# let's check Volume based cost \n",
    "vbc_column = high_val_cust_df.columns[high_val_cust_df.columns.str.contains('vbc_',regex=True)]\n",
    "vbc_column.tolist()"
   ]
  },
  {
   "cell_type": "code",
   "execution_count": 58,
   "id": "ae4f2422",
   "metadata": {},
   "outputs": [],
   "source": [
    "# Renaming month named vbc columns to 6,7,8,9 format\n",
    "high_val_cust_df.rename(columns={'jun_vbc_3g':'vbc_3g_6','jul_vbc_3g':'vbc_3g_7','aug_vbc_3g':'vbc_3g_8'\n",
    "                         ,'sep_vbc_3g':'vbc_3g_9'}, inplace=True)\n",
    "\n",
    "# drop 9th month column as it is not needed\n",
    "high_val_cust_df.drop('vbc_3g_9',axis=1,inplace=True)"
   ]
  },
  {
   "cell_type": "code",
   "execution_count": 59,
   "id": "44f9b836",
   "metadata": {},
   "outputs": [
    {
     "data": {
      "text/plain": [
       "['vbc_3g_8', 'vbc_3g_7', 'vbc_3g_6']"
      ]
     },
     "execution_count": 59,
     "metadata": {},
     "output_type": "execute_result"
    }
   ],
   "source": [
    "vbc_column = high_val_cust_df.columns[high_val_cust_df.columns.str.contains('vbc_3g',regex=True)]\n",
    "vbc_column.tolist()"
   ]
  },
  {
   "cell_type": "code",
   "execution_count": 60,
   "id": "30d9422c",
   "metadata": {},
   "outputs": [
    {
     "data": {
      "text/plain": [
       "Index(['sachet_2g_6', 'sachet_2g_7', 'sachet_2g_8', 'sachet_3g_6',\n",
       "       'sachet_3g_7', 'sachet_3g_8'],\n",
       "      dtype='object')"
      ]
     },
     "execution_count": 60,
     "metadata": {},
     "output_type": "execute_result"
    }
   ],
   "source": [
    "# Checking Service schemes with validity smaller than a month for 2G/3G\n",
    "SC_2g_or_3g_col = high_val_cust_df.columns[high_val_cust_df.columns.str.contains('sachet_2g|sachet_3g',regex=True)]\n",
    "SC_2g_or_3g_col"
   ]
  },
  {
   "cell_type": "code",
   "execution_count": 61,
   "id": "53123674",
   "metadata": {},
   "outputs": [
    {
     "data": {
      "text/plain": [
       "Index(['arpu_6', 'arpu_7', 'arpu_8'], dtype='object')"
      ]
     },
     "execution_count": 61,
     "metadata": {},
     "output_type": "execute_result"
    }
   ],
   "source": [
    "# Checking columns for average revenue per user\n",
    "arpu_cols = high_val_cust_df.columns[high_val_cust_df.columns.str.contains('arpu_')]\n",
    "arpu_cols"
   ]
  },
  {
   "cell_type": "code",
   "execution_count": 62,
   "id": "f3f472ee",
   "metadata": {},
   "outputs": [
    {
     "data": {
      "text/plain": [
       "Index(['onnet_mou_6', 'onnet_mou_7', 'onnet_mou_8', 'offnet_mou_6',\n",
       "       'offnet_mou_7', 'offnet_mou_8', 'roam_ic_mou_6', 'roam_ic_mou_7',\n",
       "       'roam_ic_mou_8', 'roam_og_mou_6', 'roam_og_mou_7', 'roam_og_mou_8',\n",
       "       'loc_og_t2t_mou_6', 'loc_og_t2t_mou_7', 'loc_og_t2t_mou_8',\n",
       "       'loc_og_t2m_mou_6', 'loc_og_t2m_mou_7', 'loc_og_t2m_mou_8',\n",
       "       'loc_og_t2f_mou_6', 'loc_og_t2f_mou_7', 'loc_og_t2f_mou_8',\n",
       "       'loc_og_t2c_mou_6', 'loc_og_t2c_mou_7', 'loc_og_t2c_mou_8',\n",
       "       'loc_og_mou_6', 'loc_og_mou_7', 'loc_og_mou_8', 'std_og_t2t_mou_6',\n",
       "       'std_og_t2t_mou_7', 'std_og_t2t_mou_8', 'std_og_t2m_mou_6',\n",
       "       'std_og_t2m_mou_7', 'std_og_t2m_mou_8', 'std_og_t2f_mou_6',\n",
       "       'std_og_t2f_mou_7', 'std_og_t2f_mou_8', 'std_og_mou_6', 'std_og_mou_7',\n",
       "       'std_og_mou_8', 'isd_og_mou_6', 'isd_og_mou_7', 'isd_og_mou_8',\n",
       "       'spl_og_mou_6', 'spl_og_mou_7', 'spl_og_mou_8', 'total_og_mou_6',\n",
       "       'total_og_mou_7', 'total_og_mou_8', 'loc_ic_t2t_mou_6',\n",
       "       'loc_ic_t2t_mou_7', 'loc_ic_t2t_mou_8', 'loc_ic_t2m_mou_6',\n",
       "       'loc_ic_t2m_mou_7', 'loc_ic_t2m_mou_8', 'loc_ic_t2f_mou_6',\n",
       "       'loc_ic_t2f_mou_7', 'loc_ic_t2f_mou_8', 'loc_ic_mou_6', 'loc_ic_mou_7',\n",
       "       'loc_ic_mou_8', 'std_ic_t2t_mou_6', 'std_ic_t2t_mou_7',\n",
       "       'std_ic_t2t_mou_8', 'std_ic_t2m_mou_6', 'std_ic_t2m_mou_7',\n",
       "       'std_ic_t2m_mou_8', 'std_ic_t2f_mou_6', 'std_ic_t2f_mou_7',\n",
       "       'std_ic_t2f_mou_8', 'std_ic_mou_6', 'std_ic_mou_7', 'std_ic_mou_8',\n",
       "       'total_ic_mou_6', 'total_ic_mou_7', 'total_ic_mou_8', 'spl_ic_mou_6',\n",
       "       'spl_ic_mou_7', 'spl_ic_mou_8', 'isd_ic_mou_6', 'isd_ic_mou_7',\n",
       "       'isd_ic_mou_8'],\n",
       "      dtype='object')"
      ]
     },
     "execution_count": 62,
     "metadata": {},
     "output_type": "execute_result"
    }
   ],
   "source": [
    "#minutes of usage - voice calls\n",
    "mou_cols = high_val_cust_df.columns[high_val_cust_df.columns.str.contains('mou')]\n",
    "mou_cols"
   ]
  },
  {
   "cell_type": "code",
   "execution_count": 63,
   "id": "29a12634",
   "metadata": {},
   "outputs": [
    {
     "data": {
      "text/plain": [
       "isd_ic_mou_8        3.912797\n",
       "loc_ic_t2t_mou_8    3.912797\n",
       "loc_ic_t2m_mou_8    3.912797\n",
       "std_og_t2t_mou_8    3.912797\n",
       "loc_og_t2c_mou_8    3.912797\n",
       "                      ...   \n",
       "total_ic_mou_6      0.000000\n",
       "total_ic_mou_7      0.000000\n",
       "total_ic_mou_8      0.000000\n",
       "total_og_mou_6      0.000000\n",
       "total_og_mou_7      0.000000\n",
       "Length: 81, dtype: float64"
      ]
     },
     "execution_count": 63,
     "metadata": {},
     "output_type": "execute_result"
    }
   ],
   "source": [
    "#checking null value percentage of minutes of usage - voice calls\n",
    "(high_val_cust_df[mou_cols].isnull().sum()/len(high_val_cust_df[mou_cols]) * 100).sort_values(ascending=False)"
   ]
  },
  {
   "cell_type": "markdown",
   "id": "84a8e207",
   "metadata": {},
   "source": [
    "### So for all minutes of usage columns the maximum missing % is 3.91 , means in these case the customer has not been used at all for that particular call type, thus we can fill the missing values with zero"
   ]
  },
  {
   "cell_type": "code",
   "execution_count": 64,
   "id": "4139fe48",
   "metadata": {},
   "outputs": [],
   "source": [
    "# replaceing null values by 0 for minutes of usage variables\n",
    "high_val_cust_df.loc[:,mou_cols] = high_val_cust_df.loc[:,mou_cols].replace(np.NaN,0)"
   ]
  },
  {
   "cell_type": "code",
   "execution_count": 65,
   "id": "3e72a78a",
   "metadata": {},
   "outputs": [
    {
     "data": {
      "text/plain": [
       "onnet_mou_6     0\n",
       "onnet_mou_7     0\n",
       "onnet_mou_8     0\n",
       "offnet_mou_6    0\n",
       "offnet_mou_7    0\n",
       "               ..\n",
       "spl_ic_mou_7    0\n",
       "spl_ic_mou_8    0\n",
       "isd_ic_mou_6    0\n",
       "isd_ic_mou_7    0\n",
       "isd_ic_mou_8    0\n",
       "Length: 81, dtype: int64"
      ]
     },
     "execution_count": 65,
     "metadata": {},
     "output_type": "execute_result"
    }
   ],
   "source": [
    "high_val_cust_df[mou_cols].isnull().sum()"
   ]
  },
  {
   "cell_type": "markdown",
   "id": "ca5470ea",
   "metadata": {},
   "source": [
    "#### Outgoing roaming calls"
   ]
  },
  {
   "cell_type": "code",
   "execution_count": 66,
   "id": "80de83f0",
   "metadata": {},
   "outputs": [],
   "source": [
    "mou_og_cols6 = high_val_cust_df.columns[high_val_cust_df.columns.str.contains('.*_og_.*mou_6',regex=True)]"
   ]
  },
  {
   "cell_type": "markdown",
   "id": "be77dc5c",
   "metadata": {},
   "source": [
    "#### Correlation of outgoing roaming calls variables"
   ]
  },
  {
   "cell_type": "code",
   "execution_count": 67,
   "id": "8709f7fc",
   "metadata": {},
   "outputs": [],
   "source": [
    "#ax = sns.heatmap(high_val_cust_df.loc[:,mou_og_cols6], annot = True)"
   ]
  },
  {
   "cell_type": "code",
   "execution_count": 68,
   "id": "6299836b",
   "metadata": {},
   "outputs": [],
   "source": [
    "list_total_og_cols = high_val_cust_df.columns[high_val_cust_df.columns.str.contains('total_og_mou|std_og_mou|loc_og_mou',regex=True)]\n",
    "high_val_cust_df.drop(list_total_og_cols,axis=1,inplace=True)"
   ]
  },
  {
   "cell_type": "code",
   "execution_count": 69,
   "id": "db790c67",
   "metadata": {},
   "outputs": [
    {
     "data": {
      "text/plain": [
       "(29953, 142)"
      ]
     },
     "execution_count": 69,
     "metadata": {},
     "output_type": "execute_result"
    }
   ],
   "source": [
    "high_val_cust_df.shape"
   ]
  },
  {
   "cell_type": "markdown",
   "id": "8bb2fa1d",
   "metadata": {},
   "source": [
    "#### Checking for incoming mou variables"
   ]
  },
  {
   "cell_type": "code",
   "execution_count": 70,
   "id": "320b580b",
   "metadata": {},
   "outputs": [],
   "source": [
    "mou_ic_cols6 = high_val_cust_df.columns[high_val_cust_df.columns.str.contains('.*_ic_.*mou_6',regex=True)]"
   ]
  },
  {
   "cell_type": "code",
   "execution_count": 71,
   "id": "71e2828d",
   "metadata": {},
   "outputs": [],
   "source": [
    "list_total_ic_cols = high_val_cust_df.columns[high_val_cust_df.columns.str.contains('total_ic_mou|std_ic_mou|loc_ic_mou',regex=True)]\n",
    "high_val_cust_df.drop(list_total_ic_cols,axis=1,inplace=True)"
   ]
  },
  {
   "cell_type": "code",
   "execution_count": 72,
   "id": "0a7041ef",
   "metadata": {},
   "outputs": [
    {
     "data": {
      "text/plain": [
       "(29953, 133)"
      ]
     },
     "execution_count": 72,
     "metadata": {},
     "output_type": "execute_result"
    }
   ],
   "source": [
    "high_val_cust_df.shape"
   ]
  },
  {
   "cell_type": "markdown",
   "id": "980bf181",
   "metadata": {},
   "source": [
    "#### Checking columns for null values"
   ]
  },
  {
   "cell_type": "code",
   "execution_count": 73,
   "id": "4d1f09bc",
   "metadata": {},
   "outputs": [
    {
     "data": {
      "text/plain": [
       "fb_user_8                   46.799987\n",
       "night_pck_user_8            46.799987\n",
       "date_of_last_rech_data_8    46.799987\n",
       "night_pck_user_6            44.112443\n",
       "fb_user_6                   44.112443\n",
       "date_of_last_rech_data_6    44.112443\n",
       "fb_user_7                   43.117551\n",
       "night_pck_user_7            43.117551\n",
       "date_of_last_rech_data_7    43.117551\n",
       "dtype: float64"
      ]
     },
     "execution_count": 73,
     "metadata": {},
     "output_type": "execute_result"
    }
   ],
   "source": [
    "(100*high_val_cust_df.isnull().sum()/len(high_val_cust_df)).sort_values(ascending = False).head(9)"
   ]
  },
  {
   "cell_type": "markdown",
   "id": "bc94e1b1",
   "metadata": {},
   "source": [
    "### The above columns have more than 40% of missing values hence these columns can be dropped from the dataset."
   ]
  },
  {
   "cell_type": "code",
   "execution_count": 74,
   "id": "d0c2235d",
   "metadata": {},
   "outputs": [],
   "source": [
    "high_val_cust_df.drop(['fb_user_8', 'night_pck_user_8', 'date_of_last_rech_data_8', 'night_pck_user_6', 'fb_user_6', 'date_of_last_rech_data_6', 'fb_user_7', 'night_pck_user_7', 'date_of_last_rech_data_7'], axis = 1, inplace = True)"
   ]
  },
  {
   "cell_type": "code",
   "execution_count": 75,
   "id": "aa14021b",
   "metadata": {},
   "outputs": [
    {
     "data": {
      "text/plain": [
       "(29953, 124)"
      ]
     },
     "execution_count": 75,
     "metadata": {},
     "output_type": "execute_result"
    }
   ],
   "source": [
    "high_val_cust_df.shape"
   ]
  },
  {
   "cell_type": "code",
   "execution_count": 76,
   "id": "7e36cc64",
   "metadata": {},
   "outputs": [
    {
     "data": {
      "text/plain": [
       "ic_others_8            3.912797\n",
       "og_others_8            3.912797\n",
       "date_of_last_rech_8    1.943044\n",
       "ic_others_6            1.809502\n",
       "og_others_6            1.809502\n",
       "ic_others_7            1.789470\n",
       "og_others_7            1.789470\n",
       "date_of_last_rech_7    0.327179\n",
       "date_of_last_rech_6    0.243715\n",
       "dtype: float64"
      ]
     },
     "execution_count": 76,
     "metadata": {},
     "output_type": "execute_result"
    }
   ],
   "source": [
    "(100*high_val_cust_df.isnull().sum()/len(high_val_cust_df)).sort_values(ascending = False).head(9)"
   ]
  },
  {
   "cell_type": "code",
   "execution_count": 77,
   "id": "ec43bdd2",
   "metadata": {},
   "outputs": [],
   "source": [
    "numeric_cols = ['og_others_8', 'ic_others_8', 'og_others_6','ic_others_6', 'og_others_7', 'ic_others_7']"
   ]
  },
  {
   "cell_type": "markdown",
   "id": "41beecc7",
   "metadata": {},
   "source": [
    "#### Replacing NaN values with zero for all numeric data as most of the data is clean and will not impact the analysis"
   ]
  },
  {
   "cell_type": "code",
   "execution_count": 78,
   "id": "6226a9fd",
   "metadata": {},
   "outputs": [],
   "source": [
    "for i in numeric_cols:\n",
    "    high_val_cust_df.loc[high_val_cust_df[i].isnull(),i]=0"
   ]
  },
  {
   "cell_type": "code",
   "execution_count": 79,
   "id": "08996232",
   "metadata": {},
   "outputs": [
    {
     "data": {
      "text/plain": [
       "date_of_last_rech_8    1.943044\n",
       "date_of_last_rech_7    0.327179\n",
       "date_of_last_rech_6    0.243715\n",
       "mobile_number          0.000000\n",
       "total_rech_amt_8       0.000000\n",
       "max_rech_data_6        0.000000\n",
       "total_rech_data_8      0.000000\n",
       "total_rech_data_7      0.000000\n",
       "total_rech_data_6      0.000000\n",
       "dtype: float64"
      ]
     },
     "execution_count": 79,
     "metadata": {},
     "output_type": "execute_result"
    }
   ],
   "source": [
    "(100*high_val_cust_df.isnull().sum()/len(high_val_cust_df)).sort_values(ascending = False).head(9)"
   ]
  },
  {
   "cell_type": "code",
   "execution_count": 80,
   "id": "a765fca6",
   "metadata": {},
   "outputs": [
    {
     "data": {
      "text/plain": [
       "(29953, 124)"
      ]
     },
     "execution_count": 80,
     "metadata": {},
     "output_type": "execute_result"
    }
   ],
   "source": [
    "high_val_cust_df.shape"
   ]
  },
  {
   "cell_type": "markdown",
   "id": "5bfd226f",
   "metadata": {},
   "source": [
    "#### Making a copy of main dataset"
   ]
  },
  {
   "cell_type": "code",
   "execution_count": 81,
   "id": "6e40043c",
   "metadata": {},
   "outputs": [],
   "source": [
    "df_final = high_val_cust_df.copy()"
   ]
  },
  {
   "cell_type": "code",
   "execution_count": 82,
   "id": "ca45aa2d",
   "metadata": {},
   "outputs": [
    {
     "data": {
      "text/plain": [
       "(29953, 124)"
      ]
     },
     "execution_count": 82,
     "metadata": {},
     "output_type": "execute_result"
    }
   ],
   "source": [
    "df_final.shape"
   ]
  },
  {
   "cell_type": "markdown",
   "id": "23f2a26a",
   "metadata": {},
   "source": [
    "#### Deriving and merging features to reduce the number of columns"
   ]
  },
  {
   "cell_type": "code",
   "execution_count": 83,
   "id": "8888fb2f",
   "metadata": {
    "scrolled": true
   },
   "outputs": [
    {
     "name": "stdout",
     "output_type": "stream",
     "text": [
      "(29953, 120)\n",
      "arpu\n",
      "onnet_mou\n",
      "offnet_mou\n",
      "roam_ic_mou\n",
      "roam_og_mou\n",
      "loc_og_t2t_mou\n",
      "loc_og_t2m_mou\n",
      "loc_og_t2f_mou\n",
      "loc_og_t2c_mou\n",
      "std_og_t2t_mou\n",
      "std_og_t2m_mou\n",
      "std_og_t2f_mou\n",
      "isd_og_mou\n",
      "spl_og_mou\n",
      "og_others\n",
      "loc_ic_t2t_mou\n",
      "loc_ic_t2m_mou\n",
      "loc_ic_t2f_mou\n",
      "std_ic_t2t_mou\n",
      "std_ic_t2m_mou\n",
      "std_ic_t2f_mou\n",
      "spl_ic_mou\n",
      "isd_ic_mou\n",
      "ic_others\n",
      "total_rech_num\n",
      "total_rech_amt\n",
      "max_rech_amt\n",
      "last_day_rch_amt\n",
      "total_rech_data\n",
      "max_rech_data\n",
      "av_rech_amt_data\n",
      "vol_2g_mb\n",
      "vol_3g_mb\n",
      "monthly_2g\n",
      "sachet_2g\n",
      "monthly_3g\n",
      "sachet_3g\n",
      "vbc_3g\n",
      "total_rech_amt_data\n"
     ]
    }
   ],
   "source": [
    "df_final.drop([\"total_avg_rech_amnt_6_7_GPhase\"],axis=1,inplace=True)\n",
    "df_final.drop(high_val_cust_df.filter(regex='date_').columns,axis=1,inplace=True)\n",
    "print (df_final.shape)\n",
    "\n",
    "col_list = df_final.filter(regex='_6|_7').columns.str[:-2]\n",
    "for idx, col in enumerate(col_list.unique()):\n",
    "    print(col)\n",
    "    avg_col_name = \"avg_\"+col+\"_av67\"\n",
    "    col_6 = col+\"_6\"\n",
    "    col_7 = col+\"_7\"\n",
    "    df_final[avg_col_name] = (df_final[col_6]  + df_final[col_7])/ 2"
   ]
  },
  {
   "cell_type": "code",
   "execution_count": 84,
   "id": "325ad45b",
   "metadata": {},
   "outputs": [
    {
     "name": "stdout",
     "output_type": "stream",
     "text": [
      "(29953, 81)\n"
     ]
    }
   ],
   "source": [
    "col_list_to_drop = df_final.filter(regex='_6|_7')\n",
    "df_final.drop(col_list_to_drop,axis=1,inplace=True)\n",
    "print (df_final.shape)"
   ]
  },
  {
   "cell_type": "code",
   "execution_count": 85,
   "id": "3994680e",
   "metadata": {},
   "outputs": [
    {
     "data": {
      "text/plain": [
       "mobile_number                   False\n",
       "arpu_8                          False\n",
       "onnet_mou_8                     False\n",
       "offnet_mou_8                    False\n",
       "roam_ic_mou_8                   False\n",
       "                                ...  \n",
       "avg_sachet_2g_av67              False\n",
       "avg_monthly_3g_av67             False\n",
       "avg_sachet_3g_av67              False\n",
       "avg_vbc_3g_av67                 False\n",
       "avg_total_rech_amt_data_av67    False\n",
       "Length: 81, dtype: bool"
      ]
     },
     "execution_count": 85,
     "metadata": {},
     "output_type": "execute_result"
    }
   ],
   "source": [
    "df_final.isnull().any()"
   ]
  },
  {
   "cell_type": "code",
   "execution_count": 86,
   "id": "3fb82a6f",
   "metadata": {},
   "outputs": [],
   "source": [
    "#removing unwanted column\n",
    "df_final.drop(['mobile_number'], axis = 1, inplace = True)"
   ]
  },
  {
   "cell_type": "code",
   "execution_count": 87,
   "id": "371f3b84",
   "metadata": {},
   "outputs": [
    {
     "data": {
      "text/plain": [
       "(29953, 80)"
      ]
     },
     "execution_count": 87,
     "metadata": {},
     "output_type": "execute_result"
    }
   ],
   "source": [
    "df_final.shape"
   ]
  },
  {
   "cell_type": "markdown",
   "id": "24cb3b8d",
   "metadata": {},
   "source": [
    "### Outliers Removal"
   ]
  },
  {
   "cell_type": "code",
   "execution_count": 88,
   "id": "91cf8465",
   "metadata": {},
   "outputs": [],
   "source": [
    "def drop_outliers(x):\n",
    "    list = []\n",
    "    for col in df_final.columns:\n",
    "        Q1 = x[col].quantile(.25)\n",
    "        Q3 = x[col].quantile(.99)\n",
    "        IQR = Q3-Q1\n",
    "        x =  x[(x[col] >= (Q1-(1.5*IQR))) & (x[col] <= (Q3+(1.5*IQR)))] \n",
    "    return x   \n",
    "\n",
    "df_final = drop_outliers(df_final)"
   ]
  },
  {
   "cell_type": "code",
   "execution_count": 89,
   "id": "8fbc69c7",
   "metadata": {},
   "outputs": [
    {
     "data": {
      "text/plain": [
       "(27651, 80)"
      ]
     },
     "execution_count": 89,
     "metadata": {},
     "output_type": "execute_result"
    }
   ],
   "source": [
    "df_final.shape"
   ]
  },
  {
   "cell_type": "code",
   "execution_count": 90,
   "id": "5508ef82",
   "metadata": {},
   "outputs": [
    {
     "data": {
      "text/html": [
       "<div>\n",
       "<style scoped>\n",
       "    .dataframe tbody tr th:only-of-type {\n",
       "        vertical-align: middle;\n",
       "    }\n",
       "\n",
       "    .dataframe tbody tr th {\n",
       "        vertical-align: top;\n",
       "    }\n",
       "\n",
       "    .dataframe thead th {\n",
       "        text-align: right;\n",
       "    }\n",
       "</style>\n",
       "<table border=\"1\" class=\"dataframe\">\n",
       "  <thead>\n",
       "    <tr style=\"text-align: right;\">\n",
       "      <th></th>\n",
       "      <th>arpu_8</th>\n",
       "      <th>onnet_mou_8</th>\n",
       "      <th>offnet_mou_8</th>\n",
       "      <th>roam_ic_mou_8</th>\n",
       "      <th>roam_og_mou_8</th>\n",
       "      <th>loc_og_t2t_mou_8</th>\n",
       "      <th>loc_og_t2m_mou_8</th>\n",
       "      <th>loc_og_t2f_mou_8</th>\n",
       "      <th>loc_og_t2c_mou_8</th>\n",
       "      <th>std_og_t2t_mou_8</th>\n",
       "      <th>...</th>\n",
       "      <th>avg_max_rech_data_av67</th>\n",
       "      <th>avg_av_rech_amt_data_av67</th>\n",
       "      <th>avg_vol_2g_mb_av67</th>\n",
       "      <th>avg_vol_3g_mb_av67</th>\n",
       "      <th>avg_monthly_2g_av67</th>\n",
       "      <th>avg_sachet_2g_av67</th>\n",
       "      <th>avg_monthly_3g_av67</th>\n",
       "      <th>avg_sachet_3g_av67</th>\n",
       "      <th>avg_vbc_3g_av67</th>\n",
       "      <th>avg_total_rech_amt_data_av67</th>\n",
       "    </tr>\n",
       "  </thead>\n",
       "  <tbody>\n",
       "    <tr>\n",
       "      <th>count</th>\n",
       "      <td>27651.000000</td>\n",
       "      <td>27651.000000</td>\n",
       "      <td>27651.000000</td>\n",
       "      <td>27651.000000</td>\n",
       "      <td>27651.000000</td>\n",
       "      <td>27651.000000</td>\n",
       "      <td>27651.000000</td>\n",
       "      <td>27651.000000</td>\n",
       "      <td>27651.000000</td>\n",
       "      <td>27651.000000</td>\n",
       "      <td>...</td>\n",
       "      <td>27651.000000</td>\n",
       "      <td>27651.000000</td>\n",
       "      <td>27651.000000</td>\n",
       "      <td>27651.000000</td>\n",
       "      <td>27651.000000</td>\n",
       "      <td>27651.000000</td>\n",
       "      <td>27651.000000</td>\n",
       "      <td>27651.000000</td>\n",
       "      <td>27651.000000</td>\n",
       "      <td>27651.000000</td>\n",
       "    </tr>\n",
       "    <tr>\n",
       "      <th>mean</th>\n",
       "      <td>475.740668</td>\n",
       "      <td>222.212745</td>\n",
       "      <td>319.839611</td>\n",
       "      <td>9.277352</td>\n",
       "      <td>15.292791</td>\n",
       "      <td>69.971645</td>\n",
       "      <td>147.932083</td>\n",
       "      <td>5.172156</td>\n",
       "      <td>1.489478</td>\n",
       "      <td>146.267774</td>\n",
       "      <td>...</td>\n",
       "      <td>77.646288</td>\n",
       "      <td>130.594994</td>\n",
       "      <td>123.130157</td>\n",
       "      <td>328.352820</td>\n",
       "      <td>0.180102</td>\n",
       "      <td>1.141514</td>\n",
       "      <td>0.212379</td>\n",
       "      <td>0.181747</td>\n",
       "      <td>161.062441</td>\n",
       "      <td>438.508637</td>\n",
       "    </tr>\n",
       "    <tr>\n",
       "      <th>std</th>\n",
       "      <td>361.590180</td>\n",
       "      <td>404.056829</td>\n",
       "      <td>431.817887</td>\n",
       "      <td>42.396989</td>\n",
       "      <td>64.271387</td>\n",
       "      <td>156.422413</td>\n",
       "      <td>219.891310</td>\n",
       "      <td>14.101128</td>\n",
       "      <td>4.948699</td>\n",
       "      <td>373.560418</td>\n",
       "      <td>...</td>\n",
       "      <td>97.176433</td>\n",
       "      <td>158.352445</td>\n",
       "      <td>273.043331</td>\n",
       "      <td>654.919756</td>\n",
       "      <td>0.386859</td>\n",
       "      <td>2.329947</td>\n",
       "      <td>0.521354</td>\n",
       "      <td>0.621899</td>\n",
       "      <td>357.304523</td>\n",
       "      <td>817.682022</td>\n",
       "    </tr>\n",
       "    <tr>\n",
       "      <th>min</th>\n",
       "      <td>-345.129000</td>\n",
       "      <td>0.000000</td>\n",
       "      <td>0.000000</td>\n",
       "      <td>0.000000</td>\n",
       "      <td>0.000000</td>\n",
       "      <td>0.000000</td>\n",
       "      <td>0.000000</td>\n",
       "      <td>0.000000</td>\n",
       "      <td>0.000000</td>\n",
       "      <td>0.000000</td>\n",
       "      <td>...</td>\n",
       "      <td>0.000000</td>\n",
       "      <td>0.000000</td>\n",
       "      <td>0.000000</td>\n",
       "      <td>0.000000</td>\n",
       "      <td>0.000000</td>\n",
       "      <td>0.000000</td>\n",
       "      <td>0.000000</td>\n",
       "      <td>0.000000</td>\n",
       "      <td>0.000000</td>\n",
       "      <td>0.000000</td>\n",
       "    </tr>\n",
       "    <tr>\n",
       "      <th>25%</th>\n",
       "      <td>222.817000</td>\n",
       "      <td>9.770000</td>\n",
       "      <td>43.380000</td>\n",
       "      <td>0.000000</td>\n",
       "      <td>0.000000</td>\n",
       "      <td>2.400000</td>\n",
       "      <td>12.635000</td>\n",
       "      <td>0.000000</td>\n",
       "      <td>0.000000</td>\n",
       "      <td>0.000000</td>\n",
       "      <td>...</td>\n",
       "      <td>0.000000</td>\n",
       "      <td>0.000000</td>\n",
       "      <td>0.000000</td>\n",
       "      <td>0.000000</td>\n",
       "      <td>0.000000</td>\n",
       "      <td>0.000000</td>\n",
       "      <td>0.000000</td>\n",
       "      <td>0.000000</td>\n",
       "      <td>0.000000</td>\n",
       "      <td>0.000000</td>\n",
       "    </tr>\n",
       "    <tr>\n",
       "      <th>50%</th>\n",
       "      <td>416.534000</td>\n",
       "      <td>64.060000</td>\n",
       "      <td>176.210000</td>\n",
       "      <td>0.000000</td>\n",
       "      <td>0.000000</td>\n",
       "      <td>20.180000</td>\n",
       "      <td>66.430000</td>\n",
       "      <td>0.000000</td>\n",
       "      <td>0.000000</td>\n",
       "      <td>0.530000</td>\n",
       "      <td>...</td>\n",
       "      <td>25.000000</td>\n",
       "      <td>92.000000</td>\n",
       "      <td>6.570000</td>\n",
       "      <td>0.000000</td>\n",
       "      <td>0.000000</td>\n",
       "      <td>0.000000</td>\n",
       "      <td>0.000000</td>\n",
       "      <td>0.000000</td>\n",
       "      <td>0.000000</td>\n",
       "      <td>154.000000</td>\n",
       "    </tr>\n",
       "    <tr>\n",
       "      <th>75%</th>\n",
       "      <td>638.482000</td>\n",
       "      <td>235.745000</td>\n",
       "      <td>425.835000</td>\n",
       "      <td>0.000000</td>\n",
       "      <td>0.000000</td>\n",
       "      <td>70.430000</td>\n",
       "      <td>194.335000</td>\n",
       "      <td>3.680000</td>\n",
       "      <td>0.000000</td>\n",
       "      <td>78.960000</td>\n",
       "      <td>...</td>\n",
       "      <td>149.500000</td>\n",
       "      <td>207.500000</td>\n",
       "      <td>109.387500</td>\n",
       "      <td>438.297500</td>\n",
       "      <td>0.000000</td>\n",
       "      <td>1.000000</td>\n",
       "      <td>0.000000</td>\n",
       "      <td>0.000000</td>\n",
       "      <td>154.645000</td>\n",
       "      <td>500.000000</td>\n",
       "    </tr>\n",
       "    <tr>\n",
       "      <th>max</th>\n",
       "      <td>3628.940000</td>\n",
       "      <td>4744.480000</td>\n",
       "      <td>5184.110000</td>\n",
       "      <td>700.940000</td>\n",
       "      <td>939.660000</td>\n",
       "      <td>2243.280000</td>\n",
       "      <td>2672.860000</td>\n",
       "      <td>206.130000</td>\n",
       "      <td>70.360000</td>\n",
       "      <td>4686.110000</td>\n",
       "      <td>...</td>\n",
       "      <td>977.000000</td>\n",
       "      <td>1718.500000</td>\n",
       "      <td>3369.625000</td>\n",
       "      <td>7934.565000</td>\n",
       "      <td>3.000000</td>\n",
       "      <td>24.500000</td>\n",
       "      <td>6.000000</td>\n",
       "      <td>8.500000</td>\n",
       "      <td>4352.765000</td>\n",
       "      <td>10181.500000</td>\n",
       "    </tr>\n",
       "  </tbody>\n",
       "</table>\n",
       "<p>8 rows × 80 columns</p>\n",
       "</div>"
      ],
      "text/plain": [
       "             arpu_8   onnet_mou_8  offnet_mou_8  roam_ic_mou_8  roam_og_mou_8  \\\n",
       "count  27651.000000  27651.000000  27651.000000   27651.000000   27651.000000   \n",
       "mean     475.740668    222.212745    319.839611       9.277352      15.292791   \n",
       "std      361.590180    404.056829    431.817887      42.396989      64.271387   \n",
       "min     -345.129000      0.000000      0.000000       0.000000       0.000000   \n",
       "25%      222.817000      9.770000     43.380000       0.000000       0.000000   \n",
       "50%      416.534000     64.060000    176.210000       0.000000       0.000000   \n",
       "75%      638.482000    235.745000    425.835000       0.000000       0.000000   \n",
       "max     3628.940000   4744.480000   5184.110000     700.940000     939.660000   \n",
       "\n",
       "       loc_og_t2t_mou_8  loc_og_t2m_mou_8  loc_og_t2f_mou_8  loc_og_t2c_mou_8  \\\n",
       "count      27651.000000      27651.000000      27651.000000      27651.000000   \n",
       "mean          69.971645        147.932083          5.172156          1.489478   \n",
       "std          156.422413        219.891310         14.101128          4.948699   \n",
       "min            0.000000          0.000000          0.000000          0.000000   \n",
       "25%            2.400000         12.635000          0.000000          0.000000   \n",
       "50%           20.180000         66.430000          0.000000          0.000000   \n",
       "75%           70.430000        194.335000          3.680000          0.000000   \n",
       "max         2243.280000       2672.860000        206.130000         70.360000   \n",
       "\n",
       "       std_og_t2t_mou_8  ...  avg_max_rech_data_av67  \\\n",
       "count      27651.000000  ...            27651.000000   \n",
       "mean         146.267774  ...               77.646288   \n",
       "std          373.560418  ...               97.176433   \n",
       "min            0.000000  ...                0.000000   \n",
       "25%            0.000000  ...                0.000000   \n",
       "50%            0.530000  ...               25.000000   \n",
       "75%           78.960000  ...              149.500000   \n",
       "max         4686.110000  ...              977.000000   \n",
       "\n",
       "       avg_av_rech_amt_data_av67  avg_vol_2g_mb_av67  avg_vol_3g_mb_av67  \\\n",
       "count               27651.000000        27651.000000        27651.000000   \n",
       "mean                  130.594994          123.130157          328.352820   \n",
       "std                   158.352445          273.043331          654.919756   \n",
       "min                     0.000000            0.000000            0.000000   \n",
       "25%                     0.000000            0.000000            0.000000   \n",
       "50%                    92.000000            6.570000            0.000000   \n",
       "75%                   207.500000          109.387500          438.297500   \n",
       "max                  1718.500000         3369.625000         7934.565000   \n",
       "\n",
       "       avg_monthly_2g_av67  avg_sachet_2g_av67  avg_monthly_3g_av67  \\\n",
       "count         27651.000000        27651.000000         27651.000000   \n",
       "mean              0.180102            1.141514             0.212379   \n",
       "std               0.386859            2.329947             0.521354   \n",
       "min               0.000000            0.000000             0.000000   \n",
       "25%               0.000000            0.000000             0.000000   \n",
       "50%               0.000000            0.000000             0.000000   \n",
       "75%               0.000000            1.000000             0.000000   \n",
       "max               3.000000           24.500000             6.000000   \n",
       "\n",
       "       avg_sachet_3g_av67  avg_vbc_3g_av67  avg_total_rech_amt_data_av67  \n",
       "count        27651.000000     27651.000000                  27651.000000  \n",
       "mean             0.181747       161.062441                    438.508637  \n",
       "std              0.621899       357.304523                    817.682022  \n",
       "min              0.000000         0.000000                      0.000000  \n",
       "25%              0.000000         0.000000                      0.000000  \n",
       "50%              0.000000         0.000000                    154.000000  \n",
       "75%              0.000000       154.645000                    500.000000  \n",
       "max              8.500000      4352.765000                  10181.500000  \n",
       "\n",
       "[8 rows x 80 columns]"
      ]
     },
     "execution_count": 90,
     "metadata": {},
     "output_type": "execute_result"
    }
   ],
   "source": [
    "df_final.describe()"
   ]
  },
  {
   "cell_type": "markdown",
   "id": "33ce7873",
   "metadata": {},
   "source": [
    "### Modelling"
   ]
  },
  {
   "cell_type": "code",
   "execution_count": 91,
   "id": "41988d89",
   "metadata": {},
   "outputs": [
    {
     "data": {
      "text/plain": [
       "0     1\n",
       "7     1\n",
       "8     0\n",
       "21    0\n",
       "23    0\n",
       "Name: churn, dtype: int64"
      ]
     },
     "execution_count": 91,
     "metadata": {},
     "output_type": "execute_result"
    }
   ],
   "source": [
    "# lets create y dataset for model building.\n",
    "y=df_final['churn']\n",
    "y.head()"
   ]
  },
  {
   "cell_type": "code",
   "execution_count": 92,
   "id": "3eb0f1af",
   "metadata": {},
   "outputs": [
    {
     "data": {
      "text/html": [
       "<div>\n",
       "<style scoped>\n",
       "    .dataframe tbody tr th:only-of-type {\n",
       "        vertical-align: middle;\n",
       "    }\n",
       "\n",
       "    .dataframe tbody tr th {\n",
       "        vertical-align: top;\n",
       "    }\n",
       "\n",
       "    .dataframe thead th {\n",
       "        text-align: right;\n",
       "    }\n",
       "</style>\n",
       "<table border=\"1\" class=\"dataframe\">\n",
       "  <thead>\n",
       "    <tr style=\"text-align: right;\">\n",
       "      <th></th>\n",
       "      <th>arpu_8</th>\n",
       "      <th>onnet_mou_8</th>\n",
       "      <th>offnet_mou_8</th>\n",
       "      <th>roam_ic_mou_8</th>\n",
       "      <th>roam_og_mou_8</th>\n",
       "      <th>loc_og_t2t_mou_8</th>\n",
       "      <th>loc_og_t2m_mou_8</th>\n",
       "      <th>loc_og_t2f_mou_8</th>\n",
       "      <th>loc_og_t2c_mou_8</th>\n",
       "      <th>std_og_t2t_mou_8</th>\n",
       "      <th>...</th>\n",
       "      <th>avg_max_rech_data_av67</th>\n",
       "      <th>avg_av_rech_amt_data_av67</th>\n",
       "      <th>avg_vol_2g_mb_av67</th>\n",
       "      <th>avg_vol_3g_mb_av67</th>\n",
       "      <th>avg_monthly_2g_av67</th>\n",
       "      <th>avg_sachet_2g_av67</th>\n",
       "      <th>avg_monthly_3g_av67</th>\n",
       "      <th>avg_sachet_3g_av67</th>\n",
       "      <th>avg_vbc_3g_av67</th>\n",
       "      <th>avg_total_rech_amt_data_av67</th>\n",
       "    </tr>\n",
       "  </thead>\n",
       "  <tbody>\n",
       "    <tr>\n",
       "      <th>0</th>\n",
       "      <td>213.803</td>\n",
       "      <td>0.00</td>\n",
       "      <td>0.00</td>\n",
       "      <td>0.00</td>\n",
       "      <td>0.00</td>\n",
       "      <td>0.00</td>\n",
       "      <td>0.00</td>\n",
       "      <td>0.00</td>\n",
       "      <td>0.00</td>\n",
       "      <td>0.00</td>\n",
       "      <td>...</td>\n",
       "      <td>252.0</td>\n",
       "      <td>252.0</td>\n",
       "      <td>15.725</td>\n",
       "      <td>117.165</td>\n",
       "      <td>0.0</td>\n",
       "      <td>0.0</td>\n",
       "      <td>1.0</td>\n",
       "      <td>0.0</td>\n",
       "      <td>50.600</td>\n",
       "      <td>252.0</td>\n",
       "    </tr>\n",
       "    <tr>\n",
       "      <th>7</th>\n",
       "      <td>3171.480</td>\n",
       "      <td>52.29</td>\n",
       "      <td>325.91</td>\n",
       "      <td>31.64</td>\n",
       "      <td>38.06</td>\n",
       "      <td>40.28</td>\n",
       "      <td>162.28</td>\n",
       "      <td>53.23</td>\n",
       "      <td>0.00</td>\n",
       "      <td>12.01</td>\n",
       "      <td>...</td>\n",
       "      <td>0.0</td>\n",
       "      <td>0.0</td>\n",
       "      <td>0.000</td>\n",
       "      <td>0.000</td>\n",
       "      <td>0.0</td>\n",
       "      <td>0.0</td>\n",
       "      <td>0.0</td>\n",
       "      <td>0.0</td>\n",
       "      <td>19.060</td>\n",
       "      <td>0.0</td>\n",
       "    </tr>\n",
       "    <tr>\n",
       "      <th>8</th>\n",
       "      <td>137.362</td>\n",
       "      <td>35.08</td>\n",
       "      <td>136.48</td>\n",
       "      <td>0.00</td>\n",
       "      <td>0.00</td>\n",
       "      <td>12.49</td>\n",
       "      <td>50.54</td>\n",
       "      <td>0.00</td>\n",
       "      <td>7.15</td>\n",
       "      <td>22.58</td>\n",
       "      <td>...</td>\n",
       "      <td>77.0</td>\n",
       "      <td>88.5</td>\n",
       "      <td>178.000</td>\n",
       "      <td>375.475</td>\n",
       "      <td>0.5</td>\n",
       "      <td>0.5</td>\n",
       "      <td>0.0</td>\n",
       "      <td>0.0</td>\n",
       "      <td>516.405</td>\n",
       "      <td>177.0</td>\n",
       "    </tr>\n",
       "    <tr>\n",
       "      <th>21</th>\n",
       "      <td>637.760</td>\n",
       "      <td>85.14</td>\n",
       "      <td>983.39</td>\n",
       "      <td>0.00</td>\n",
       "      <td>0.00</td>\n",
       "      <td>23.34</td>\n",
       "      <td>104.81</td>\n",
       "      <td>1.58</td>\n",
       "      <td>0.00</td>\n",
       "      <td>61.79</td>\n",
       "      <td>...</td>\n",
       "      <td>0.0</td>\n",
       "      <td>0.0</td>\n",
       "      <td>0.000</td>\n",
       "      <td>0.000</td>\n",
       "      <td>0.0</td>\n",
       "      <td>0.0</td>\n",
       "      <td>0.0</td>\n",
       "      <td>0.0</td>\n",
       "      <td>0.000</td>\n",
       "      <td>0.0</td>\n",
       "    </tr>\n",
       "    <tr>\n",
       "      <th>23</th>\n",
       "      <td>366.966</td>\n",
       "      <td>33.58</td>\n",
       "      <td>205.89</td>\n",
       "      <td>0.00</td>\n",
       "      <td>0.00</td>\n",
       "      <td>33.58</td>\n",
       "      <td>148.56</td>\n",
       "      <td>0.00</td>\n",
       "      <td>17.71</td>\n",
       "      <td>0.00</td>\n",
       "      <td>...</td>\n",
       "      <td>89.5</td>\n",
       "      <td>178.0</td>\n",
       "      <td>0.240</td>\n",
       "      <td>299.545</td>\n",
       "      <td>0.0</td>\n",
       "      <td>0.0</td>\n",
       "      <td>1.0</td>\n",
       "      <td>0.0</td>\n",
       "      <td>25.930</td>\n",
       "      <td>356.0</td>\n",
       "    </tr>\n",
       "  </tbody>\n",
       "</table>\n",
       "<p>5 rows × 79 columns</p>\n",
       "</div>"
      ],
      "text/plain": [
       "      arpu_8  onnet_mou_8  offnet_mou_8  roam_ic_mou_8  roam_og_mou_8  \\\n",
       "0    213.803         0.00          0.00           0.00           0.00   \n",
       "7   3171.480        52.29        325.91          31.64          38.06   \n",
       "8    137.362        35.08        136.48           0.00           0.00   \n",
       "21   637.760        85.14        983.39           0.00           0.00   \n",
       "23   366.966        33.58        205.89           0.00           0.00   \n",
       "\n",
       "    loc_og_t2t_mou_8  loc_og_t2m_mou_8  loc_og_t2f_mou_8  loc_og_t2c_mou_8  \\\n",
       "0               0.00              0.00              0.00              0.00   \n",
       "7              40.28            162.28             53.23              0.00   \n",
       "8              12.49             50.54              0.00              7.15   \n",
       "21             23.34            104.81              1.58              0.00   \n",
       "23             33.58            148.56              0.00             17.71   \n",
       "\n",
       "    std_og_t2t_mou_8  ...  avg_max_rech_data_av67  avg_av_rech_amt_data_av67  \\\n",
       "0               0.00  ...                   252.0                      252.0   \n",
       "7              12.01  ...                     0.0                        0.0   \n",
       "8              22.58  ...                    77.0                       88.5   \n",
       "21             61.79  ...                     0.0                        0.0   \n",
       "23              0.00  ...                    89.5                      178.0   \n",
       "\n",
       "    avg_vol_2g_mb_av67  avg_vol_3g_mb_av67  avg_monthly_2g_av67  \\\n",
       "0               15.725             117.165                  0.0   \n",
       "7                0.000               0.000                  0.0   \n",
       "8              178.000             375.475                  0.5   \n",
       "21               0.000               0.000                  0.0   \n",
       "23               0.240             299.545                  0.0   \n",
       "\n",
       "    avg_sachet_2g_av67  avg_monthly_3g_av67  avg_sachet_3g_av67  \\\n",
       "0                  0.0                  1.0                 0.0   \n",
       "7                  0.0                  0.0                 0.0   \n",
       "8                  0.5                  0.0                 0.0   \n",
       "21                 0.0                  0.0                 0.0   \n",
       "23                 0.0                  1.0                 0.0   \n",
       "\n",
       "    avg_vbc_3g_av67  avg_total_rech_amt_data_av67  \n",
       "0            50.600                         252.0  \n",
       "7            19.060                           0.0  \n",
       "8           516.405                         177.0  \n",
       "21            0.000                           0.0  \n",
       "23           25.930                         356.0  \n",
       "\n",
       "[5 rows x 79 columns]"
      ]
     },
     "execution_count": 92,
     "metadata": {},
     "output_type": "execute_result"
    }
   ],
   "source": [
    "# lets create X dataset for model building.\n",
    "X = df_final.drop(['churn'],axis=1)\n",
    "X.head()"
   ]
  },
  {
   "cell_type": "code",
   "execution_count": 93,
   "id": "19c5c15f",
   "metadata": {},
   "outputs": [
    {
     "name": "stdout",
     "output_type": "stream",
     "text": [
      "Dimension of X_train: (19355, 79)\n",
      "Dimension of X_test: (8296, 79)\n"
     ]
    }
   ],
   "source": [
    "from sklearn.model_selection import train_test_split\n",
    "\n",
    "X_train, X_test, y_train, y_test = train_test_split(X, y, test_size=0.3, train_size=0.7, random_state=1)\n",
    "print(\"Dimension of X_train:\", X_train.shape)\n",
    "print(\"Dimension of X_test:\", X_test.shape)"
   ]
  },
  {
   "cell_type": "code",
   "execution_count": 94,
   "id": "5e5319b3",
   "metadata": {},
   "outputs": [],
   "source": [
    "num_cols = list(X_train.dtypes[X_train.dtypes !='object'].index)"
   ]
  },
  {
   "cell_type": "code",
   "execution_count": 95,
   "id": "f9f9c271",
   "metadata": {},
   "outputs": [],
   "source": [
    "# apply scaling on the dataset\n",
    "from sklearn import preprocessing\n",
    "from sklearn.preprocessing import MinMaxScaler\n",
    "\n",
    "\n",
    "scaler = MinMaxScaler()\n",
    "X_train[num_cols] = scaler.fit_transform(X_train[num_cols])"
   ]
  },
  {
   "cell_type": "code",
   "execution_count": 96,
   "id": "3a0cb02a",
   "metadata": {},
   "outputs": [
    {
     "data": {
      "text/html": [
       "<div>\n",
       "<style scoped>\n",
       "    .dataframe tbody tr th:only-of-type {\n",
       "        vertical-align: middle;\n",
       "    }\n",
       "\n",
       "    .dataframe tbody tr th {\n",
       "        vertical-align: top;\n",
       "    }\n",
       "\n",
       "    .dataframe thead th {\n",
       "        text-align: right;\n",
       "    }\n",
       "</style>\n",
       "<table border=\"1\" class=\"dataframe\">\n",
       "  <thead>\n",
       "    <tr style=\"text-align: right;\">\n",
       "      <th></th>\n",
       "      <th>arpu_8</th>\n",
       "      <th>onnet_mou_8</th>\n",
       "      <th>offnet_mou_8</th>\n",
       "      <th>roam_ic_mou_8</th>\n",
       "      <th>roam_og_mou_8</th>\n",
       "      <th>loc_og_t2t_mou_8</th>\n",
       "      <th>loc_og_t2m_mou_8</th>\n",
       "      <th>loc_og_t2f_mou_8</th>\n",
       "      <th>loc_og_t2c_mou_8</th>\n",
       "      <th>std_og_t2t_mou_8</th>\n",
       "      <th>...</th>\n",
       "      <th>avg_max_rech_data_av67</th>\n",
       "      <th>avg_av_rech_amt_data_av67</th>\n",
       "      <th>avg_vol_2g_mb_av67</th>\n",
       "      <th>avg_vol_3g_mb_av67</th>\n",
       "      <th>avg_monthly_2g_av67</th>\n",
       "      <th>avg_sachet_2g_av67</th>\n",
       "      <th>avg_monthly_3g_av67</th>\n",
       "      <th>avg_sachet_3g_av67</th>\n",
       "      <th>avg_vbc_3g_av67</th>\n",
       "      <th>avg_total_rech_amt_data_av67</th>\n",
       "    </tr>\n",
       "  </thead>\n",
       "  <tbody>\n",
       "    <tr>\n",
       "      <th>85552</th>\n",
       "      <td>0.047088</td>\n",
       "      <td>0.009508</td>\n",
       "      <td>0.004182</td>\n",
       "      <td>0.0</td>\n",
       "      <td>0.0</td>\n",
       "      <td>0.000000</td>\n",
       "      <td>0.000049</td>\n",
       "      <td>0.000000</td>\n",
       "      <td>0.00000</td>\n",
       "      <td>0.009626</td>\n",
       "      <td>...</td>\n",
       "      <td>0.257932</td>\n",
       "      <td>0.146640</td>\n",
       "      <td>0.012776</td>\n",
       "      <td>0.022248</td>\n",
       "      <td>0.000000</td>\n",
       "      <td>0.000000</td>\n",
       "      <td>0.166667</td>\n",
       "      <td>0.0</td>\n",
       "      <td>0.020764</td>\n",
       "      <td>0.024751</td>\n",
       "    </tr>\n",
       "    <tr>\n",
       "      <th>80706</th>\n",
       "      <td>0.062027</td>\n",
       "      <td>0.000000</td>\n",
       "      <td>0.000000</td>\n",
       "      <td>0.0</td>\n",
       "      <td>0.0</td>\n",
       "      <td>0.000000</td>\n",
       "      <td>0.000000</td>\n",
       "      <td>0.000000</td>\n",
       "      <td>0.00000</td>\n",
       "      <td>0.000000</td>\n",
       "      <td>...</td>\n",
       "      <td>0.202661</td>\n",
       "      <td>0.120163</td>\n",
       "      <td>0.005330</td>\n",
       "      <td>0.046906</td>\n",
       "      <td>0.333333</td>\n",
       "      <td>0.021739</td>\n",
       "      <td>0.000000</td>\n",
       "      <td>0.0</td>\n",
       "      <td>0.053227</td>\n",
       "      <td>0.030840</td>\n",
       "    </tr>\n",
       "    <tr>\n",
       "      <th>84827</th>\n",
       "      <td>0.131233</td>\n",
       "      <td>0.000287</td>\n",
       "      <td>0.104957</td>\n",
       "      <td>0.0</td>\n",
       "      <td>0.0</td>\n",
       "      <td>0.000606</td>\n",
       "      <td>0.203375</td>\n",
       "      <td>0.021734</td>\n",
       "      <td>0.03610</td>\n",
       "      <td>0.000000</td>\n",
       "      <td>...</td>\n",
       "      <td>0.023541</td>\n",
       "      <td>0.013384</td>\n",
       "      <td>0.118961</td>\n",
       "      <td>0.005158</td>\n",
       "      <td>0.000000</td>\n",
       "      <td>0.021739</td>\n",
       "      <td>0.000000</td>\n",
       "      <td>0.0</td>\n",
       "      <td>0.074122</td>\n",
       "      <td>0.002259</td>\n",
       "    </tr>\n",
       "    <tr>\n",
       "      <th>82159</th>\n",
       "      <td>0.152014</td>\n",
       "      <td>0.005552</td>\n",
       "      <td>0.034216</td>\n",
       "      <td>0.0</td>\n",
       "      <td>0.0</td>\n",
       "      <td>0.011742</td>\n",
       "      <td>0.061746</td>\n",
       "      <td>0.027119</td>\n",
       "      <td>0.00867</td>\n",
       "      <td>0.000000</td>\n",
       "      <td>...</td>\n",
       "      <td>0.025589</td>\n",
       "      <td>0.072738</td>\n",
       "      <td>0.092037</td>\n",
       "      <td>0.000000</td>\n",
       "      <td>0.000000</td>\n",
       "      <td>0.217391</td>\n",
       "      <td>0.000000</td>\n",
       "      <td>0.0</td>\n",
       "      <td>0.000000</td>\n",
       "      <td>0.063841</td>\n",
       "    </tr>\n",
       "    <tr>\n",
       "      <th>40213</th>\n",
       "      <td>0.061302</td>\n",
       "      <td>0.003396</td>\n",
       "      <td>0.006670</td>\n",
       "      <td>0.0</td>\n",
       "      <td>0.0</td>\n",
       "      <td>0.007181</td>\n",
       "      <td>0.013094</td>\n",
       "      <td>0.000000</td>\n",
       "      <td>0.00000</td>\n",
       "      <td>0.000000</td>\n",
       "      <td>...</td>\n",
       "      <td>0.078813</td>\n",
       "      <td>0.054699</td>\n",
       "      <td>0.018265</td>\n",
       "      <td>0.008471</td>\n",
       "      <td>0.166667</td>\n",
       "      <td>0.043478</td>\n",
       "      <td>0.000000</td>\n",
       "      <td>0.0</td>\n",
       "      <td>0.000000</td>\n",
       "      <td>0.027697</td>\n",
       "    </tr>\n",
       "  </tbody>\n",
       "</table>\n",
       "<p>5 rows × 79 columns</p>\n",
       "</div>"
      ],
      "text/plain": [
       "         arpu_8  onnet_mou_8  offnet_mou_8  roam_ic_mou_8  roam_og_mou_8  \\\n",
       "85552  0.047088     0.009508      0.004182            0.0            0.0   \n",
       "80706  0.062027     0.000000      0.000000            0.0            0.0   \n",
       "84827  0.131233     0.000287      0.104957            0.0            0.0   \n",
       "82159  0.152014     0.005552      0.034216            0.0            0.0   \n",
       "40213  0.061302     0.003396      0.006670            0.0            0.0   \n",
       "\n",
       "       loc_og_t2t_mou_8  loc_og_t2m_mou_8  loc_og_t2f_mou_8  loc_og_t2c_mou_8  \\\n",
       "85552          0.000000          0.000049          0.000000           0.00000   \n",
       "80706          0.000000          0.000000          0.000000           0.00000   \n",
       "84827          0.000606          0.203375          0.021734           0.03610   \n",
       "82159          0.011742          0.061746          0.027119           0.00867   \n",
       "40213          0.007181          0.013094          0.000000           0.00000   \n",
       "\n",
       "       std_og_t2t_mou_8  ...  avg_max_rech_data_av67  \\\n",
       "85552          0.009626  ...                0.257932   \n",
       "80706          0.000000  ...                0.202661   \n",
       "84827          0.000000  ...                0.023541   \n",
       "82159          0.000000  ...                0.025589   \n",
       "40213          0.000000  ...                0.078813   \n",
       "\n",
       "       avg_av_rech_amt_data_av67  avg_vol_2g_mb_av67  avg_vol_3g_mb_av67  \\\n",
       "85552                   0.146640            0.012776            0.022248   \n",
       "80706                   0.120163            0.005330            0.046906   \n",
       "84827                   0.013384            0.118961            0.005158   \n",
       "82159                   0.072738            0.092037            0.000000   \n",
       "40213                   0.054699            0.018265            0.008471   \n",
       "\n",
       "       avg_monthly_2g_av67  avg_sachet_2g_av67  avg_monthly_3g_av67  \\\n",
       "85552             0.000000            0.000000             0.166667   \n",
       "80706             0.333333            0.021739             0.000000   \n",
       "84827             0.000000            0.021739             0.000000   \n",
       "82159             0.000000            0.217391             0.000000   \n",
       "40213             0.166667            0.043478             0.000000   \n",
       "\n",
       "       avg_sachet_3g_av67  avg_vbc_3g_av67  avg_total_rech_amt_data_av67  \n",
       "85552                 0.0         0.020764                      0.024751  \n",
       "80706                 0.0         0.053227                      0.030840  \n",
       "84827                 0.0         0.074122                      0.002259  \n",
       "82159                 0.0         0.000000                      0.063841  \n",
       "40213                 0.0         0.000000                      0.027697  \n",
       "\n",
       "[5 rows x 79 columns]"
      ]
     },
     "execution_count": 96,
     "metadata": {},
     "output_type": "execute_result"
    }
   ],
   "source": [
    "X_train.head()"
   ]
  },
  {
   "cell_type": "markdown",
   "id": "5bdb85de",
   "metadata": {},
   "source": [
    "### Applying PCA on the data"
   ]
  },
  {
   "cell_type": "code",
   "execution_count": 97,
   "id": "7d9fcf3a",
   "metadata": {},
   "outputs": [],
   "source": [
    "from sklearn.decomposition import PCA"
   ]
  },
  {
   "cell_type": "code",
   "execution_count": 98,
   "id": "f4dbdc51",
   "metadata": {},
   "outputs": [],
   "source": [
    "pca = PCA(random_state=42)"
   ]
  },
  {
   "cell_type": "code",
   "execution_count": 99,
   "id": "001942f9",
   "metadata": {},
   "outputs": [
    {
     "data": {
      "text/plain": [
       "PCA(random_state=42)"
      ]
     },
     "execution_count": 99,
     "metadata": {},
     "output_type": "execute_result"
    }
   ],
   "source": [
    "pca.fit(X_train)"
   ]
  },
  {
   "cell_type": "code",
   "execution_count": 100,
   "id": "4e7d0577",
   "metadata": {},
   "outputs": [
    {
     "data": {
      "text/plain": [
       "array([[ 2.31312115e-01,  7.08500344e-02,  1.26197622e-01, ...,\n",
       "        -4.42448657e-02,  4.93249243e-02, -7.37336673e-02],\n",
       "       [-7.30169177e-02, -1.41270519e-01, -1.29819942e-01, ...,\n",
       "         5.57049248e-02,  1.76830911e-01,  1.63800358e-01],\n",
       "       [ 2.32639955e-01,  1.06991215e-01,  1.20955024e-01, ...,\n",
       "         2.46103501e-02,  1.09233998e-01,  8.34079109e-02],\n",
       "       ...,\n",
       "       [-3.07802939e-16, -3.81514538e-15, -3.86914935e-15, ...,\n",
       "        -1.94165347e-01, -1.22108270e-17,  1.66777399e-16],\n",
       "       [-0.00000000e+00, -2.83678460e-14, -2.74974641e-14, ...,\n",
       "         1.08865415e-02,  1.80411242e-16,  4.44089210e-16],\n",
       "       [-0.00000000e+00,  1.76031065e-15,  2.39353569e-15, ...,\n",
       "        -1.41928136e-01, -1.95156391e-17, -6.24500451e-17]])"
      ]
     },
     "execution_count": 100,
     "metadata": {},
     "output_type": "execute_result"
    }
   ],
   "source": [
    "pca.components_"
   ]
  },
  {
   "cell_type": "code",
   "execution_count": 101,
   "id": "7f7f9d53",
   "metadata": {},
   "outputs": [
    {
     "data": {
      "text/plain": [
       "array([1.29140663e-01, 1.24452879e-01, 8.81862544e-02, 6.57475867e-02,\n",
       "       4.46861352e-02, 3.69396357e-02, 3.47069738e-02, 2.87747611e-02,\n",
       "       2.36729279e-02, 2.25085219e-02, 2.07528811e-02, 1.99588270e-02,\n",
       "       1.92864784e-02, 1.83564788e-02, 1.58814732e-02, 1.50385198e-02,\n",
       "       1.45727081e-02, 1.36849494e-02, 1.32072820e-02, 1.29725225e-02,\n",
       "       1.24397876e-02, 1.17167103e-02, 1.11234400e-02, 1.06533011e-02,\n",
       "       9.46141300e-03, 9.26830194e-03, 8.97767825e-03, 8.84199630e-03,\n",
       "       8.50247285e-03, 8.43093968e-03, 8.20902340e-03, 7.81322847e-03,\n",
       "       7.57253385e-03, 7.05095788e-03, 6.82948362e-03, 6.40110453e-03,\n",
       "       5.89383412e-03, 5.60929119e-03, 5.36405958e-03, 5.20820270e-03,\n",
       "       4.86971968e-03, 4.20117841e-03, 4.00213114e-03, 3.93970488e-03,\n",
       "       3.37317348e-03, 3.28067733e-03, 3.16202306e-03, 3.14281267e-03,\n",
       "       3.01830019e-03, 2.86570332e-03, 2.79922647e-03, 2.65837459e-03,\n",
       "       2.46730255e-03, 2.34706220e-03, 2.29619975e-03, 2.27597688e-03,\n",
       "       2.22127797e-03, 2.16860974e-03, 2.13836121e-03, 1.90406580e-03,\n",
       "       1.81334408e-03, 1.59067146e-03, 1.52153813e-03, 1.50323215e-03,\n",
       "       1.39395704e-03, 1.01003181e-03, 9.66180547e-04, 9.10843696e-04,\n",
       "       7.92346209e-04, 6.27536189e-04, 4.02636094e-04, 3.86427994e-04,\n",
       "       3.73703689e-05, 1.52939041e-05, 3.58236942e-07, 1.31233872e-07,\n",
       "       2.54685051e-32, 7.33488898e-34, 7.33488898e-34])"
      ]
     },
     "execution_count": 101,
     "metadata": {},
     "output_type": "execute_result"
    }
   ],
   "source": [
    "pca.explained_variance_ratio_"
   ]
  },
  {
   "cell_type": "code",
   "execution_count": 102,
   "id": "ef13a83f",
   "metadata": {},
   "outputs": [
    {
     "data": {
      "text/plain": [
       "<BarContainer object of 79 artists>"
      ]
     },
     "execution_count": 102,
     "metadata": {},
     "output_type": "execute_result"
    },
    {
     "data": {
      "image/png": "[encoded data removed]",
      "text/plain": [
       "<Figure size 432x288 with 1 Axes>"
      ]
     },
     "metadata": {
      "needs_background": "light"
     },
     "output_type": "display_data"
    }
   ],
   "source": [
    "plt.bar(range(1,len(pca.explained_variance_ratio_)+1), pca.explained_variance_ratio_)"
   ]
  },
  {
   "cell_type": "code",
   "execution_count": 103,
   "id": "16185037",
   "metadata": {},
   "outputs": [],
   "source": [
    "var_cumu = np.cumsum(pca.explained_variance_ratio_)"
   ]
  },
  {
   "cell_type": "markdown",
   "id": "b1f69f0b",
   "metadata": {},
   "source": [
    "### Making the scree plot"
   ]
  },
  {
   "cell_type": "code",
   "execution_count": 104,
   "id": "b66b9d4c",
   "metadata": {},
   "outputs": [
    {
     "data": {
      "text/plain": [
       "[<matplotlib.lines.Line2D at 0x185de2bf2b0>]"
      ]
     },
     "execution_count": 104,
     "metadata": {},
     "output_type": "execute_result"
    },
    {
     "data": {
      "image/png": "[encoded data removed]",
      "text/plain": [
       "<Figure size 432x288 with 1 Axes>"
      ]
     },
     "metadata": {
      "needs_background": "light"
     },
     "output_type": "display_data"
    }
   ],
   "source": [
    "plt.plot(range(1,len(var_cumu)+1), var_cumu)"
   ]
  },
  {
   "cell_type": "code",
   "execution_count": 105,
   "id": "3ef27480",
   "metadata": {},
   "outputs": [
    {
     "data": {
      "image/png": "[encoded data removed]",
      "text/plain": [
       "<Figure size 864x576 with 1 Axes>"
      ]
     },
     "metadata": {
      "needs_background": "light"
     },
     "output_type": "display_data"
    }
   ],
   "source": [
    "fig = plt.figure(figsize=[12,8])\n",
    "plt.vlines(x=15, ymax=1, ymin=0, colors=\"r\", linestyles=\"--\")\n",
    "plt.hlines(y=0.95, xmax=30, xmin=0, colors=\"g\", linestyles=\"--\")\n",
    "plt.plot(var_cumu)\n",
    "plt.ylabel(\"Cumulative variance explained\")\n",
    "plt.show()"
   ]
  },
  {
   "cell_type": "markdown",
   "id": "b92db817",
   "metadata": {},
   "source": [
    "### Performing PCA with 16 components"
   ]
  },
  {
   "cell_type": "code",
   "execution_count": 106,
   "id": "12ac0ee2",
   "metadata": {},
   "outputs": [],
   "source": [
    "from sklearn.decomposition import IncrementalPCA"
   ]
  },
  {
   "cell_type": "code",
   "execution_count": 107,
   "id": "944e4538",
   "metadata": {},
   "outputs": [],
   "source": [
    "pca_final = IncrementalPCA(n_components=16)"
   ]
  },
  {
   "cell_type": "code",
   "execution_count": 108,
   "id": "af129fc7",
   "metadata": {},
   "outputs": [],
   "source": [
    "X_train_pca = pca_final.fit_transform(X_train)"
   ]
  },
  {
   "cell_type": "code",
   "execution_count": 109,
   "id": "79582509",
   "metadata": {},
   "outputs": [
    {
     "data": {
      "text/plain": [
       "(19355, 16)"
      ]
     },
     "execution_count": 109,
     "metadata": {},
     "output_type": "execute_result"
    }
   ],
   "source": [
    "X_train_pca.shape"
   ]
  },
  {
   "cell_type": "code",
   "execution_count": 110,
   "id": "78187491",
   "metadata": {},
   "outputs": [],
   "source": [
    "corrmat = np.corrcoef(X_train_pca.transpose())"
   ]
  },
  {
   "cell_type": "code",
   "execution_count": 111,
   "id": "34b04175",
   "metadata": {},
   "outputs": [
    {
     "data": {
      "text/plain": [
       "(16, 16)"
      ]
     },
     "execution_count": 111,
     "metadata": {},
     "output_type": "execute_result"
    }
   ],
   "source": [
    "corrmat.shape"
   ]
  },
  {
   "cell_type": "markdown",
   "id": "c7a2f468",
   "metadata": {},
   "source": [
    "### Plotting the heatmap of the corr matrix"
   ]
  },
  {
   "cell_type": "code",
   "execution_count": 112,
   "id": "64c1cff5",
   "metadata": {},
   "outputs": [
    {
     "data": {
      "text/plain": [
       "<AxesSubplot:>"
      ]
     },
     "execution_count": 112,
     "metadata": {},
     "output_type": "execute_result"
    },
    {
     "data": {
      "image/png": "[encoded data removed]",
      "text/plain": [
       "<Figure size 1080x1080 with 2 Axes>"
      ]
     },
     "metadata": {
      "needs_background": "light"
     },
     "output_type": "display_data"
    }
   ],
   "source": [
    "plt.figure(figsize=[15,15])\n",
    "sns.heatmap(corrmat, annot=True)"
   ]
  },
  {
   "cell_type": "markdown",
   "id": "c856237a",
   "metadata": {},
   "source": [
    "### Applying the transformation on the test set"
   ]
  },
  {
   "cell_type": "code",
   "execution_count": 113,
   "id": "57876277",
   "metadata": {},
   "outputs": [
    {
     "data": {
      "text/plain": [
       "(8296, 16)"
      ]
     },
     "execution_count": 113,
     "metadata": {},
     "output_type": "execute_result"
    }
   ],
   "source": [
    "X_test_pca = pca_final.transform(X_test)\n",
    "X_test_pca.shape"
   ]
  },
  {
   "cell_type": "markdown",
   "id": "a438e5ae",
   "metadata": {},
   "source": [
    "### Applying logistic regression on the data on our Principal components"
   ]
  },
  {
   "cell_type": "code",
   "execution_count": 114,
   "id": "d202ad23",
   "metadata": {},
   "outputs": [],
   "source": [
    "from sklearn.linear_model import LogisticRegression"
   ]
  },
  {
   "cell_type": "code",
   "execution_count": 115,
   "id": "e3446a4a",
   "metadata": {},
   "outputs": [],
   "source": [
    "learner_pca = LogisticRegression()"
   ]
  },
  {
   "cell_type": "code",
   "execution_count": 116,
   "id": "56c27d51",
   "metadata": {},
   "outputs": [],
   "source": [
    "model_pca = learner_pca.fit(X_train_pca, y_train)"
   ]
  },
  {
   "cell_type": "markdown",
   "id": "9247c42f",
   "metadata": {},
   "source": [
    "### Making predictions on the test set"
   ]
  },
  {
   "cell_type": "code",
   "execution_count": 117,
   "id": "8c05d7c2",
   "metadata": {},
   "outputs": [],
   "source": [
    "pred_probs_test = model_pca.predict_proba(X_test_pca)"
   ]
  },
  {
   "cell_type": "code",
   "execution_count": 118,
   "id": "db943e3a",
   "metadata": {},
   "outputs": [
    {
     "data": {
      "text/plain": [
       "'0.79'"
      ]
     },
     "execution_count": 118,
     "metadata": {},
     "output_type": "execute_result"
    }
   ],
   "source": [
    "from sklearn import metrics\n",
    "\"{:2.2}\".format(metrics.roc_auc_score(y_test, pred_probs_test[:,1]))"
   ]
  },
  {
   "cell_type": "markdown",
   "id": "e8e0cc61",
   "metadata": {},
   "source": [
    "### Making it a little more unsupervised "
   ]
  },
  {
   "cell_type": "code",
   "execution_count": 119,
   "id": "5d9f71e9",
   "metadata": {},
   "outputs": [],
   "source": [
    "pca_again = PCA(0.9)"
   ]
  },
  {
   "cell_type": "code",
   "execution_count": 120,
   "id": "d154d4bf",
   "metadata": {},
   "outputs": [],
   "source": [
    "X_train_pca2 = pca_again.fit_transform(X_train)"
   ]
  },
  {
   "cell_type": "code",
   "execution_count": 121,
   "id": "36900dfd",
   "metadata": {},
   "outputs": [
    {
     "data": {
      "text/plain": [
       "(19355, 36)"
      ]
     },
     "execution_count": 121,
     "metadata": {},
     "output_type": "execute_result"
    }
   ],
   "source": [
    "X_train_pca2.shape"
   ]
  },
  {
   "cell_type": "markdown",
   "id": "2777e200",
   "metadata": {},
   "source": [
    "### Following it up with a logistic regression model"
   ]
  },
  {
   "cell_type": "code",
   "execution_count": 122,
   "id": "3f604a16",
   "metadata": {},
   "outputs": [],
   "source": [
    "learner_pca2 = LogisticRegression()"
   ]
  },
  {
   "cell_type": "code",
   "execution_count": 123,
   "id": "8177f9c9",
   "metadata": {},
   "outputs": [],
   "source": [
    "model_pca2 = learner_pca2.fit(X_train_pca2, y_train)"
   ]
  },
  {
   "cell_type": "code",
   "execution_count": 124,
   "id": "19a90f34",
   "metadata": {},
   "outputs": [],
   "source": [
    "X_test_pca2 = pca_again.transform(X_test)"
   ]
  },
  {
   "cell_type": "code",
   "execution_count": 125,
   "id": "d2cc8c1d",
   "metadata": {},
   "outputs": [
    {
     "data": {
      "text/plain": [
       "(8296, 36)"
      ]
     },
     "execution_count": 125,
     "metadata": {},
     "output_type": "execute_result"
    }
   ],
   "source": [
    "X_test_pca2.shape"
   ]
  },
  {
   "cell_type": "code",
   "execution_count": 126,
   "id": "1374b17e",
   "metadata": {},
   "outputs": [],
   "source": [
    "pred_probs_test2 = model_pca2.predict_proba(X_test_pca2)[:,1]"
   ]
  },
  {
   "cell_type": "code",
   "execution_count": 127,
   "id": "bed121de",
   "metadata": {},
   "outputs": [
    {
     "data": {
      "text/plain": [
       "'0.79'"
      ]
     },
     "execution_count": 127,
     "metadata": {},
     "output_type": "execute_result"
    }
   ],
   "source": [
    "acc_PCA_lr=\"{:2.2}\".format(metrics.roc_auc_score(y_test, pred_probs_test2))\n",
    "acc_PCA_lr"
   ]
  },
  {
   "cell_type": "markdown",
   "id": "efc1e06a",
   "metadata": {},
   "source": [
    "### PCA + Logistic Regression is giving 79% accuracy"
   ]
  },
  {
   "cell_type": "markdown",
   "id": "eda88d18",
   "metadata": {},
   "source": [
    "### Linear Regression"
   ]
  },
  {
   "cell_type": "code",
   "execution_count": 128,
   "id": "45241608",
   "metadata": {},
   "outputs": [],
   "source": [
    "import statsmodels.api as sm"
   ]
  },
  {
   "cell_type": "code",
   "execution_count": 129,
   "id": "48277084",
   "metadata": {},
   "outputs": [
    {
     "data": {
      "text/plain": [
       "LinearRegression()"
      ]
     },
     "execution_count": 129,
     "metadata": {},
     "output_type": "execute_result"
    }
   ],
   "source": [
    "from sklearn.linear_model import LinearRegression\n",
    "# Instantiate\n",
    "lm = LinearRegression()\n",
    "\n",
    "# Fit a line\n",
    "lm.fit(X_train, y_train)"
   ]
  },
  {
   "cell_type": "code",
   "execution_count": 130,
   "id": "32331363",
   "metadata": {},
   "outputs": [
    {
     "name": "stdout",
     "output_type": "stream",
     "text": [
      "0.11713238560669922\n",
      "[-3.68973006e-01 -1.63381345e+00 -2.23020470e+00 -2.76531596e-02\n",
      "  4.64304623e-01  6.66291400e-01  1.07033032e+00  1.18767264e-01\n",
      "  5.09506866e-02  1.25709110e+00  1.62437518e+00  1.57830576e-02\n",
      "  6.11271260e-02 -4.20619858e-02 -3.41564735e+08 -2.53604296e-01\n",
      " -3.91724531e-01 -1.22307553e-01 -1.85090780e-01 -2.11612726e-01\n",
      " -8.94088164e-02 -1.92302278e-01 -1.71855080e-01 -7.79113556e-02\n",
      " -4.91900923e-01  2.32033136e-01 -3.54282777e-01 -1.67082425e-01\n",
      " -1.87679809e+11 -6.88886646e-02 -1.33487211e-01 -1.36145905e-01\n",
      "  1.77898078e-03  3.23585877e+10  1.55321221e+11  4.53020228e+10\n",
      "  6.47171755e+10 -8.27637818e-02 -8.39101939e-02  5.36882067e-01\n",
      "  4.29178156e-01  7.64603834e-01  1.20415670e+00  6.17199514e-02\n",
      " -2.76266468e-02 -3.67101832e-01 -7.84585224e-01 -1.18030159e-01\n",
      " -6.84161284e-02 -4.95350733e-01 -8.69921618e-01 -1.59391328e-02\n",
      "  6.25867275e-02  6.12148450e-02 -4.12821693e-02  1.08920057e-01\n",
      "  2.39220061e-01  5.66594285e-02  8.34002134e-02  9.89579902e-02\n",
      "  4.24344146e-02  9.49061649e-03  1.69932942e-01  5.61888545e-02\n",
      "  2.69941502e-01 -1.40458820e-01  3.48036453e-01 -5.79526188e-02\n",
      "  2.44345491e+11  9.41544012e-02 -1.71630466e-01  1.05090588e-01\n",
      "  5.38833283e-02 -2.99198560e+10 -2.29385563e+11 -5.98397120e+10\n",
      " -8.47729253e+10  2.19960509e-02 -8.10733224e-02]\n"
     ]
    }
   ],
   "source": [
    "# Print the coefficients and intercept\n",
    "print(lm.intercept_)\n",
    "print(lm.coef_)"
   ]
  },
  {
   "cell_type": "code",
   "execution_count": 131,
   "id": "94549c6c",
   "metadata": {},
   "outputs": [
    {
     "name": "stdout",
     "output_type": "stream",
     "text": [
      "R Square on train data: 0.18892723540323408\n",
      "R Square on test data: -2.7156377461844384e+23\n",
      "Residual Sum of Squares on train data: 1189.085305675523\n",
      "Residual Sum of Squares on test data: 1.626862106408154e+26\n",
      "Mean Square Error om train data: 0.06143556216355066\n",
      "Mean Square Error om test data: 1.9610198968275724e+22\n"
     ]
    }
   ],
   "source": [
    "from sklearn.metrics import r2_score, mean_squared_error\n",
    "y_pred_train = lm.predict(X_train)\n",
    "y_pred_test = lm.predict(X_test)\n",
    "\n",
    "metric = []\n",
    "r2_train_lr = r2_score(y_train, y_pred_train)\n",
    "print('R Square on train data:', r2_train_lr)\n",
    "metric.append(r2_train_lr)\n",
    "\n",
    "r2_test_lr = r2_score(y_test, y_pred_test)\n",
    "print('R Square on test data:',r2_test_lr)\n",
    "metric.append(r2_test_lr)\n",
    "\n",
    "rss1_lr = np.sum(np.square(y_train - y_pred_train))\n",
    "print('Residual Sum of Squares on train data:', rss1_lr)\n",
    "metric.append(rss1_lr)\n",
    "\n",
    "rss2_lr = np.sum(np.square(y_test - y_pred_test))\n",
    "print('Residual Sum of Squares on test data:', rss2_lr)\n",
    "metric.append(rss2_lr)\n",
    "\n",
    "mse_train_lr = mean_squared_error(y_train, y_pred_train)\n",
    "print('Mean Square Error om train data:', mse_train_lr)\n",
    "metric.append(mse_train_lr**0.5)\n",
    "\n",
    "mse_test_lr = mean_squared_error(y_test, y_pred_test)\n",
    "print('Mean Square Error om test data:',mse_test_lr)\n",
    "metric.append(mse_test_lr**0.5)"
   ]
  },
  {
   "cell_type": "markdown",
   "id": "ed6937d7",
   "metadata": {},
   "source": [
    "### Ridge Regression"
   ]
  },
  {
   "cell_type": "code",
   "execution_count": 132,
   "id": "cf4980f4",
   "metadata": {},
   "outputs": [
    {
     "name": "stdout",
     "output_type": "stream",
     "text": [
      "Fitting 5 folds for each of 32 candidates, totalling 160 fits\n"
     ]
    },
    {
     "data": {
      "text/plain": [
       "GridSearchCV(cv=5, estimator=Ridge(),\n",
       "             param_grid={'alpha': [1e-05, 0.0001, 0.001, 0.005, 0.0005, 0.0015,\n",
       "                                   0.01, 0.05, 0.1, 0.2, 0.3, 0.4, 0.5, 0.6,\n",
       "                                   0.7, 0.8, 0.9, 1.0, 2.0, 3.0, 4.0, 5.0, 6.0,\n",
       "                                   7.0, 8.0, 9.0, 10.0, 20, 50, 100, ...]},\n",
       "             return_train_score=True, scoring='neg_mean_absolute_error',\n",
       "             verbose=1)"
      ]
     },
     "execution_count": 132,
     "metadata": {},
     "output_type": "execute_result"
    }
   ],
   "source": [
    "from sklearn.model_selection import train_test_split,GridSearchCV,KFold,cross_val_score\n",
    "from sklearn.linear_model import Ridge,Lasso\n",
    "# list of alphas to tune - if value too high it will lead to underfitting, if it is too low, \n",
    "# it will not handle the overfitting\n",
    "params = {'alpha': [0.00001, 0.0001, 0.001, 0.005, 0.0005,0.0015, 0.01, 0.05, 0.1, \n",
    " 0.2, 0.3, 0.4, 0.5, 0.6, 0.7, 0.8, 0.9, 1.0, 2.0, 3.0, \n",
    " 4.0, 5.0, 6.0, 7.0, 8.0, 9.0, 10.0, 20, 50, 100, 500, 1000 ]}\n",
    "\n",
    "ridge = Ridge()\n",
    "\n",
    "# cross validation\n",
    "folds = 5\n",
    "model_cv = GridSearchCV(estimator = ridge, \n",
    "                        param_grid = params, \n",
    "                        scoring= 'neg_mean_absolute_error',  \n",
    "                        cv = folds, \n",
    "                        return_train_score=True,\n",
    "                        verbose = 1)            \n",
    "model_cv.fit(X_train, y_train) \n",
    "#https://scikit-learn.org/stable/modules/model_evaluation.html+"
   ]
  },
  {
   "cell_type": "code",
   "execution_count": 133,
   "id": "2e93b736",
   "metadata": {},
   "outputs": [
    {
     "data": {
      "text/html": [
       "<div>\n",
       "<style scoped>\n",
       "    .dataframe tbody tr th:only-of-type {\n",
       "        vertical-align: middle;\n",
       "    }\n",
       "\n",
       "    .dataframe tbody tr th {\n",
       "        vertical-align: top;\n",
       "    }\n",
       "\n",
       "    .dataframe thead th {\n",
       "        text-align: right;\n",
       "    }\n",
       "</style>\n",
       "<table border=\"1\" class=\"dataframe\">\n",
       "  <thead>\n",
       "    <tr style=\"text-align: right;\">\n",
       "      <th></th>\n",
       "      <th>mean_fit_time</th>\n",
       "      <th>std_fit_time</th>\n",
       "      <th>mean_score_time</th>\n",
       "      <th>std_score_time</th>\n",
       "      <th>param_alpha</th>\n",
       "      <th>params</th>\n",
       "      <th>split0_test_score</th>\n",
       "      <th>split1_test_score</th>\n",
       "      <th>split2_test_score</th>\n",
       "      <th>split3_test_score</th>\n",
       "      <th>...</th>\n",
       "      <th>mean_test_score</th>\n",
       "      <th>std_test_score</th>\n",
       "      <th>rank_test_score</th>\n",
       "      <th>split0_train_score</th>\n",
       "      <th>split1_train_score</th>\n",
       "      <th>split2_train_score</th>\n",
       "      <th>split3_train_score</th>\n",
       "      <th>split4_train_score</th>\n",
       "      <th>mean_train_score</th>\n",
       "      <th>std_train_score</th>\n",
       "    </tr>\n",
       "  </thead>\n",
       "  <tbody>\n",
       "    <tr>\n",
       "      <th>0</th>\n",
       "      <td>0.015859</td>\n",
       "      <td>0.000188</td>\n",
       "      <td>0.003217</td>\n",
       "      <td>0.003941</td>\n",
       "      <td>0.00001</td>\n",
       "      <td>{'alpha': 1e-05}</td>\n",
       "      <td>-0.152309</td>\n",
       "      <td>-0.149367</td>\n",
       "      <td>-0.150075</td>\n",
       "      <td>-0.153561</td>\n",
       "      <td>...</td>\n",
       "      <td>-0.151390</td>\n",
       "      <td>0.001513</td>\n",
       "      <td>32</td>\n",
       "      <td>-0.149301</td>\n",
       "      <td>-0.151496</td>\n",
       "      <td>-0.151990</td>\n",
       "      <td>-0.150187</td>\n",
       "      <td>-0.150086</td>\n",
       "      <td>-0.150612</td>\n",
       "      <td>0.000985</td>\n",
       "    </tr>\n",
       "    <tr>\n",
       "      <th>1</th>\n",
       "      <td>0.016309</td>\n",
       "      <td>0.003042</td>\n",
       "      <td>0.001611</td>\n",
       "      <td>0.003223</td>\n",
       "      <td>0.00010</td>\n",
       "      <td>{'alpha': 0.0001}</td>\n",
       "      <td>-0.152307</td>\n",
       "      <td>-0.149363</td>\n",
       "      <td>-0.150075</td>\n",
       "      <td>-0.153560</td>\n",
       "      <td>...</td>\n",
       "      <td>-0.151389</td>\n",
       "      <td>0.001513</td>\n",
       "      <td>31</td>\n",
       "      <td>-0.149301</td>\n",
       "      <td>-0.151494</td>\n",
       "      <td>-0.151989</td>\n",
       "      <td>-0.150186</td>\n",
       "      <td>-0.150086</td>\n",
       "      <td>-0.150611</td>\n",
       "      <td>0.000985</td>\n",
       "    </tr>\n",
       "    <tr>\n",
       "      <th>2</th>\n",
       "      <td>0.018221</td>\n",
       "      <td>0.005475</td>\n",
       "      <td>0.005629</td>\n",
       "      <td>0.004658</td>\n",
       "      <td>0.00100</td>\n",
       "      <td>{'alpha': 0.001}</td>\n",
       "      <td>-0.152297</td>\n",
       "      <td>-0.149340</td>\n",
       "      <td>-0.150078</td>\n",
       "      <td>-0.153555</td>\n",
       "      <td>...</td>\n",
       "      <td>-0.151381</td>\n",
       "      <td>0.001516</td>\n",
       "      <td>29</td>\n",
       "      <td>-0.149297</td>\n",
       "      <td>-0.151484</td>\n",
       "      <td>-0.151979</td>\n",
       "      <td>-0.150178</td>\n",
       "      <td>-0.150085</td>\n",
       "      <td>-0.150604</td>\n",
       "      <td>0.000982</td>\n",
       "    </tr>\n",
       "    <tr>\n",
       "      <th>3</th>\n",
       "      <td>0.018580</td>\n",
       "      <td>0.003267</td>\n",
       "      <td>0.004024</td>\n",
       "      <td>0.004221</td>\n",
       "      <td>0.00500</td>\n",
       "      <td>{'alpha': 0.005}</td>\n",
       "      <td>-0.152284</td>\n",
       "      <td>-0.149301</td>\n",
       "      <td>-0.150085</td>\n",
       "      <td>-0.153552</td>\n",
       "      <td>...</td>\n",
       "      <td>-0.151370</td>\n",
       "      <td>0.001523</td>\n",
       "      <td>27</td>\n",
       "      <td>-0.149294</td>\n",
       "      <td>-0.151473</td>\n",
       "      <td>-0.151969</td>\n",
       "      <td>-0.150169</td>\n",
       "      <td>-0.150082</td>\n",
       "      <td>-0.150597</td>\n",
       "      <td>0.000979</td>\n",
       "    </tr>\n",
       "    <tr>\n",
       "      <th>4</th>\n",
       "      <td>0.017811</td>\n",
       "      <td>0.001941</td>\n",
       "      <td>0.003202</td>\n",
       "      <td>0.003922</td>\n",
       "      <td>0.00050</td>\n",
       "      <td>{'alpha': 0.0005}</td>\n",
       "      <td>-0.152301</td>\n",
       "      <td>-0.149352</td>\n",
       "      <td>-0.150076</td>\n",
       "      <td>-0.153557</td>\n",
       "      <td>...</td>\n",
       "      <td>-0.151385</td>\n",
       "      <td>0.001515</td>\n",
       "      <td>30</td>\n",
       "      <td>-0.149299</td>\n",
       "      <td>-0.151488</td>\n",
       "      <td>-0.151983</td>\n",
       "      <td>-0.150181</td>\n",
       "      <td>-0.150086</td>\n",
       "      <td>-0.150607</td>\n",
       "      <td>0.000983</td>\n",
       "    </tr>\n",
       "  </tbody>\n",
       "</table>\n",
       "<p>5 rows × 21 columns</p>\n",
       "</div>"
      ],
      "text/plain": [
       "   mean_fit_time  std_fit_time  mean_score_time  std_score_time  param_alpha  \\\n",
       "0       0.015859      0.000188         0.003217        0.003941      0.00001   \n",
       "1       0.016309      0.003042         0.001611        0.003223      0.00010   \n",
       "2       0.018221      0.005475         0.005629        0.004658      0.00100   \n",
       "3       0.018580      0.003267         0.004024        0.004221      0.00500   \n",
       "4       0.017811      0.001941         0.003202        0.003922      0.00050   \n",
       "\n",
       "              params  split0_test_score  split1_test_score  split2_test_score  \\\n",
       "0   {'alpha': 1e-05}          -0.152309          -0.149367          -0.150075   \n",
       "1  {'alpha': 0.0001}          -0.152307          -0.149363          -0.150075   \n",
       "2   {'alpha': 0.001}          -0.152297          -0.149340          -0.150078   \n",
       "3   {'alpha': 0.005}          -0.152284          -0.149301          -0.150085   \n",
       "4  {'alpha': 0.0005}          -0.152301          -0.149352          -0.150076   \n",
       "\n",
       "   split3_test_score  ...  mean_test_score  std_test_score  rank_test_score  \\\n",
       "0          -0.153561  ...        -0.151390        0.001513               32   \n",
       "1          -0.153560  ...        -0.151389        0.001513               31   \n",
       "2          -0.153555  ...        -0.151381        0.001516               29   \n",
       "3          -0.153552  ...        -0.151370        0.001523               27   \n",
       "4          -0.153557  ...        -0.151385        0.001515               30   \n",
       "\n",
       "   split0_train_score  split1_train_score  split2_train_score  \\\n",
       "0           -0.149301           -0.151496           -0.151990   \n",
       "1           -0.149301           -0.151494           -0.151989   \n",
       "2           -0.149297           -0.151484           -0.151979   \n",
       "3           -0.149294           -0.151473           -0.151969   \n",
       "4           -0.149299           -0.151488           -0.151983   \n",
       "\n",
       "   split3_train_score  split4_train_score  mean_train_score  std_train_score  \n",
       "0           -0.150187           -0.150086         -0.150612         0.000985  \n",
       "1           -0.150186           -0.150086         -0.150611         0.000985  \n",
       "2           -0.150178           -0.150085         -0.150604         0.000982  \n",
       "3           -0.150169           -0.150082         -0.150597         0.000979  \n",
       "4           -0.150181           -0.150086         -0.150607         0.000983  \n",
       "\n",
       "[5 rows x 21 columns]"
      ]
     },
     "execution_count": 133,
     "metadata": {},
     "output_type": "execute_result"
    }
   ],
   "source": [
    "cv_result_r = pd.DataFrame(model_cv.cv_results_)\n",
    "cv_result_r['param_alpha'] = cv_result_r['param_alpha'].astype('float32')\n",
    "cv_result_r.head()"
   ]
  },
  {
   "cell_type": "code",
   "execution_count": 134,
   "id": "6d213073",
   "metadata": {},
   "outputs": [
    {
     "data": {
      "image/png": "[encoded data removed]",
      "text/plain": [
       "<Figure size 1152x576 with 1 Axes>"
      ]
     },
     "metadata": {
      "needs_background": "light"
     },
     "output_type": "display_data"
    }
   ],
   "source": [
    "plt.figure(figsize=(16,8))\n",
    "plt.plot(cv_result_r['param_alpha'],cv_result_r['mean_train_score'])\n",
    "plt.plot(cv_result_r['param_alpha'],cv_result_r['mean_test_score'])\n",
    "plt.xlabel('Alpha')\n",
    "# plt.xscale('log')\n",
    "plt.ylabel('R2 Score')\n",
    "plt.show()"
   ]
  },
  {
   "cell_type": "code",
   "execution_count": 135,
   "id": "cc4df77c",
   "metadata": {},
   "outputs": [
    {
     "name": "stdout",
     "output_type": "stream",
     "text": [
      "{'alpha': 500}\n"
     ]
    }
   ],
   "source": [
    "# Printing the best hyperparameter alpha\n",
    "print(model_cv.best_params_)"
   ]
  },
  {
   "cell_type": "code",
   "execution_count": 136,
   "id": "b2963182",
   "metadata": {},
   "outputs": [
    {
     "name": "stdout",
     "output_type": "stream",
     "text": [
      "[-0.0976876  -0.04844085 -0.06130256  0.02760684  0.04117513 -0.03308469\n",
      " -0.05802465 -0.01846971 -0.01311689 -0.03654279 -0.03872377 -0.01077281\n",
      "  0.00166451 -0.03481474  0.         -0.0470569  -0.073032   -0.03250212\n",
      " -0.02848715 -0.03763879 -0.02103114 -0.05099029 -0.01099412 -0.01583567\n",
      " -0.09825791 -0.10341697 -0.05511551 -0.06454859 -0.05993091 -0.06022657\n",
      " -0.04479672 -0.03765505 -0.01863869 -0.03846455 -0.05537396 -0.0104062\n",
      " -0.01438551 -0.06832507 -0.02376986 -0.01565794  0.05596687  0.03546453\n",
      "  0.03258546  0.02526812  0.04033144 -0.0083656  -0.01999311 -0.01109116\n",
      " -0.0011888   0.03695939  0.04027037 -0.00134901  0.01574405  0.01306064\n",
      "  0.00754124 -0.01415611 -0.01718202 -0.0128884   0.0084264   0.00422295\n",
      " -0.00184963 -0.00184511  0.0173062   0.00796897  0.02195281  0.06019999\n",
      "  0.02172818 -0.00193959 -0.01423384 -0.00831988 -0.00953016 -0.00407638\n",
      "  0.00244293 -0.04238829 -0.01378985  0.00519211  0.00758232 -0.00484025\n",
      " -0.00122279]\n"
     ]
    }
   ],
   "source": [
    "#Fitting Ridge model for alpha = 500 and printing coefficients which have been penalised\n",
    "alpha = 500\n",
    "ridge = Ridge(alpha=alpha)\n",
    "\n",
    "ridge.fit(X_train, y_train)\n",
    "print(ridge.coef_)"
   ]
  },
  {
   "cell_type": "code",
   "execution_count": 137,
   "id": "c1562851",
   "metadata": {},
   "outputs": [
    {
     "name": "stdout",
     "output_type": "stream",
     "text": [
      "R square on train data: 0.11765896415060606\n",
      "R square on test data: -894052.0566599853\n",
      "Residual Sum of Squares on train data: 1293.5692161290183\n",
      "Residual Sum of Squares on test data: 535602011.36625636\n",
      "Mean Square Error on train data: 0.06683385255122802\n",
      "Mean Square Error on test data: 64561.47677992483\n"
     ]
    }
   ],
   "source": [
    "# Lets calculate some metrics such as R2 score, RSS and RMSE\n",
    "y_pred_train = ridge.predict(X_train)\n",
    "y_pred_test = ridge.predict(X_test)\n",
    "\n",
    "metric2 = []\n",
    "r2_train_lr = r2_score(y_train, y_pred_train)\n",
    "print('R square on train data:', r2_train_lr)\n",
    "metric2.append(r2_train_lr)\n",
    "\n",
    "r2_test_lr = r2_score(y_test, y_pred_test)\n",
    "print('R square on test data:', r2_test_lr)\n",
    "metric2.append(r2_test_lr)\n",
    "\n",
    "rss1_lr = np.sum(np.square(y_train - y_pred_train))\n",
    "print('Residual Sum of Squares on train data:', rss1_lr)\n",
    "metric2.append(rss1_lr)\n",
    "\n",
    "rss2_lr = np.sum(np.square(y_test - y_pred_test))\n",
    "print('Residual Sum of Squares on test data:',rss2_lr)\n",
    "metric2.append(rss2_lr)\n",
    "\n",
    "mse_train_lr = mean_squared_error(y_train, y_pred_train)\n",
    "print('Mean Square Error on train data:',mse_train_lr)\n",
    "metric2.append(mse_train_lr**0.5)\n",
    "\n",
    "mse_test_lr = mean_squared_error(y_test, y_pred_test)\n",
    "print('Mean Square Error on test data:',mse_test_lr)\n",
    "metric2.append(mse_test_lr**0.5)"
   ]
  },
  {
   "cell_type": "markdown",
   "id": "9424507b",
   "metadata": {},
   "source": [
    "### Checking churn column distribution"
   ]
  },
  {
   "cell_type": "code",
   "execution_count": 138,
   "id": "01a8d6b4",
   "metadata": {},
   "outputs": [
    {
     "data": {
      "image/png": "[encoded data removed]",
      "text/plain": [
       "<Figure size 576x432 with 1 Axes>"
      ]
     },
     "metadata": {},
     "output_type": "display_data"
    }
   ],
   "source": [
    "#Churn Distribution\n",
    "pie_chart = df_final['churn'].value_counts()*100.0 /len(df_final)\n",
    "ax = pie_chart.plot.pie(autopct='%.1f%%', labels = ['No', 'Yes'],figsize =(8,6), fontsize = 14 )                                                                           \n",
    "ax.set_ylabel('Churn',fontsize = 12)\n",
    "ax.set_title('Churn Distribution', fontsize = 12)\n",
    "plt.show()"
   ]
  },
  {
   "cell_type": "markdown",
   "id": "cb144745",
   "metadata": {},
   "source": [
    "### To improve accuracy and performance of model class imabalance problem should be resolved"
   ]
  },
  {
   "cell_type": "markdown",
   "id": "0839d817",
   "metadata": {},
   "source": [
    "### SMOTE"
   ]
  },
  {
   "cell_type": "code",
   "execution_count": 139,
   "id": "0717fae3",
   "metadata": {},
   "outputs": [],
   "source": [
    "from imblearn.over_sampling import SMOTE\n",
    "smote = SMOTE()\n",
    "X_smote,y_smote = smote.fit_resample(X_train,y_train)"
   ]
  },
  {
   "cell_type": "markdown",
   "id": "7646584e",
   "metadata": {},
   "source": [
    "### Checking class imbalance problem after apply smote"
   ]
  },
  {
   "cell_type": "code",
   "execution_count": 140,
   "id": "8689cc98",
   "metadata": {},
   "outputs": [
    {
     "data": {
      "image/png": "[encoded data removed]",
      "text/plain": [
       "<Figure size 576x432 with 1 Axes>"
      ]
     },
     "metadata": {},
     "output_type": "display_data"
    }
   ],
   "source": [
    "#Churn Distribution\n",
    "pie_chart = y_smote.value_counts()*100.0 /len(df_final)\n",
    "ax = pie_chart.plot.pie(autopct='%.1f%%', labels = ['No', 'Yes'],figsize =(8,6), fontsize = 14 )                                                                           \n",
    "ax.set_ylabel('Churn',fontsize = 12)\n",
    "ax.set_title('Churn Distribution', fontsize = 12)\n",
    "plt.show()"
   ]
  },
  {
   "cell_type": "code",
   "execution_count": 141,
   "id": "3e6564f4",
   "metadata": {},
   "outputs": [
    {
     "data": {
      "text/plain": [
       "(35514, 79)"
      ]
     },
     "execution_count": 141,
     "metadata": {},
     "output_type": "execute_result"
    }
   ],
   "source": [
    "X_smote.shape"
   ]
  },
  {
   "cell_type": "markdown",
   "id": "09bf777c",
   "metadata": {},
   "source": [
    "### Linear Regression after Smote"
   ]
  },
  {
   "cell_type": "code",
   "execution_count": 142,
   "id": "541fd085",
   "metadata": {},
   "outputs": [
    {
     "data": {
      "text/plain": [
       "LinearRegression()"
      ]
     },
     "execution_count": 142,
     "metadata": {},
     "output_type": "execute_result"
    }
   ],
   "source": [
    "# Instantiate\n",
    "lm = LinearRegression()\n",
    "\n",
    "# Fit a line\n",
    "lm.fit(X_smote, y_smote)"
   ]
  },
  {
   "cell_type": "code",
   "execution_count": 143,
   "id": "d72b4be7",
   "metadata": {},
   "outputs": [
    {
     "name": "stdout",
     "output_type": "stream",
     "text": [
      "0.6331050087243161\n",
      "[-3.09983783e-01 -1.76963915e+00 -4.92989090e+00 -8.73904670e-02\n",
      "  1.03847384e+00  3.51626023e-01  1.93772989e+00  2.01604287e-01\n",
      "  1.51243326e-01  1.21701440e+00  3.83944746e+00 -5.62444856e-02\n",
      "  1.70141161e-01 -7.68592721e-02 -1.04197206e-12 -6.73545975e-01\n",
      " -1.12790875e+00 -3.10602623e-01 -5.35285398e-01 -5.56353004e-01\n",
      " -3.32455114e-01 -6.96071057e-01 -2.41770572e-01 -1.73726555e-01\n",
      " -1.14006189e+00  2.13469398e-01 -3.09991065e-01 -4.79869467e-01\n",
      " -9.66782123e-01 -2.21775133e-01 -2.78470473e-01 -5.78879711e-01\n",
      " -1.00750824e-01 -6.08939159e-01 -7.20252065e-01 -4.64033155e-01\n",
      " -4.45770413e-01 -2.30371397e-01 -3.47248333e-01  1.51763628e+00\n",
      "  5.49373329e-01 -6.62728880e+00 -5.71470924e+00  3.06406845e-02\n",
      "  1.41265406e+00  3.63736434e+00  3.06596939e+00 -5.48807411e-03\n",
      " -1.75802880e-01  6.78660383e+00  5.86460264e+00  9.29437615e-02\n",
      "  5.19703242e-02  1.85994665e-01 -1.63006257e-01  1.41573150e-01\n",
      "  5.22612287e-01 -1.89304063e-02  1.31522714e-01  1.26814789e-01\n",
      "  9.90447153e-02 -2.29874602e-02  2.36882445e-01 -2.15860654e-02\n",
      "  3.71649299e-01 -1.68599459e-01  4.61991373e-01 -9.55792487e-02\n",
      "  2.00566348e-01  3.99933628e-01 -6.70300206e-01  2.86899368e-01\n",
      "  1.58622007e-01 -2.11457547e-01  1.05275904e-01  1.78271070e-01\n",
      "  2.42032465e-01  4.42000861e-02 -3.44874579e-02]\n"
     ]
    }
   ],
   "source": [
    "# Print the coefficients and intercept\n",
    "print(lm.intercept_)\n",
    "print(lm.coef_)"
   ]
  },
  {
   "cell_type": "code",
   "execution_count": 144,
   "id": "9b0586e0",
   "metadata": {},
   "outputs": [
    {
     "name": "stdout",
     "output_type": "stream",
     "text": [
      "R Square on train data: 0.4779581475968623\n",
      "R Square on test data: -106217146.59227137\n",
      "Residual Sum of Squares on train data: 4634.948586561258\n",
      "Residual Sum of Squares on test data: 63631702244.31409\n",
      "Mean Square Error om train data: 0.13051046310078443\n",
      "Mean Square Error om test data: 7670166.615756279\n"
     ]
    }
   ],
   "source": [
    "from sklearn.metrics import r2_score, mean_squared_error\n",
    "y_pred_train = lm.predict(X_smote)\n",
    "y_pred_test = lm.predict(X_test)\n",
    "\n",
    "metric = []\n",
    "r2_train_lr = r2_score(y_smote, y_pred_train)\n",
    "print('R Square on train data:', r2_train_lr)\n",
    "metric.append(r2_train_lr)\n",
    "\n",
    "r2_test_lr = r2_score(y_test, y_pred_test)\n",
    "print('R Square on test data:',r2_test_lr)\n",
    "metric.append(r2_test_lr)\n",
    "\n",
    "rss1_lr = np.sum(np.square(y_smote - y_pred_train))\n",
    "print('Residual Sum of Squares on train data:', rss1_lr)\n",
    "metric.append(rss1_lr)\n",
    "\n",
    "rss2_lr = np.sum(np.square(y_test - y_pred_test))\n",
    "print('Residual Sum of Squares on test data:', rss2_lr)\n",
    "metric.append(rss2_lr)\n",
    "\n",
    "mse_train_lr = mean_squared_error(y_smote, y_pred_train)\n",
    "print('Mean Square Error om train data:', mse_train_lr)\n",
    "metric.append(mse_train_lr**0.5)\n",
    "\n",
    "mse_test_lr = mean_squared_error(y_test, y_pred_test)\n",
    "print('Mean Square Error om test data:',mse_test_lr)\n",
    "metric.append(mse_test_lr**0.5)"
   ]
  },
  {
   "cell_type": "code",
   "execution_count": 145,
   "id": "9afbfc8c",
   "metadata": {},
   "outputs": [],
   "source": [
    "# Importing necessary libraries for Model creation\n",
    "import statsmodels.api as sm"
   ]
  },
  {
   "cell_type": "code",
   "execution_count": 146,
   "id": "9866683b",
   "metadata": {
    "scrolled": false
   },
   "outputs": [
    {
     "data": {
      "text/html": [
       "<table class=\"simpletable\">\n",
       "<caption>Generalized Linear Model Regression Results</caption>\n",
       "<tr>\n",
       "  <th>Dep. Variable:</th>         <td>churn</td>      <th>  No. Observations:  </th>  <td> 35514</td> \n",
       "</tr>\n",
       "<tr>\n",
       "  <th>Model:</th>                  <td>GLM</td>       <th>  Df Residuals:      </th>  <td> 35437</td> \n",
       "</tr>\n",
       "<tr>\n",
       "  <th>Model Family:</th>        <td>Binomial</td>     <th>  Df Model:          </th>  <td>    76</td> \n",
       "</tr>\n",
       "<tr>\n",
       "  <th>Link Function:</th>         <td>logit</td>      <th>  Scale:             </th> <td>  1.0000</td>\n",
       "</tr>\n",
       "<tr>\n",
       "  <th>Method:</th>                <td>IRLS</td>       <th>  Log-Likelihood:    </th> <td> -12688.</td>\n",
       "</tr>\n",
       "<tr>\n",
       "  <th>Date:</th>            <td>Wed, 28 Jul 2021</td> <th>  Deviance:          </th> <td>  25376.</td>\n",
       "</tr>\n",
       "<tr>\n",
       "  <th>Time:</th>                <td>22:31:37</td>     <th>  Pearson chi2:      </th> <td>9.14e+04</td>\n",
       "</tr>\n",
       "<tr>\n",
       "  <th>No. Iterations:</th>         <td>26</td>        <th>                     </th>     <td> </td>   \n",
       "</tr>\n",
       "<tr>\n",
       "  <th>Covariance Type:</th>     <td>nonrobust</td>    <th>                     </th>     <td> </td>   \n",
       "</tr>\n",
       "</table>\n",
       "<table class=\"simpletable\">\n",
       "<tr>\n",
       "                <td></td>                  <th>coef</th>     <th>std err</th>      <th>z</th>      <th>P>|z|</th>  <th>[0.025</th>    <th>0.975]</th>  \n",
       "</tr>\n",
       "<tr>\n",
       "  <th>const</th>                        <td>    1.0148</td> <td>    0.123</td> <td>    8.270</td> <td> 0.000</td> <td>    0.774</td> <td>    1.255</td>\n",
       "</tr>\n",
       "<tr>\n",
       "  <th>arpu_8</th>                       <td>    3.2739</td> <td>    0.755</td> <td>    4.335</td> <td> 0.000</td> <td>    1.794</td> <td>    4.754</td>\n",
       "</tr>\n",
       "<tr>\n",
       "  <th>onnet_mou_8</th>                  <td>  -50.8666</td> <td>   27.082</td> <td>   -1.878</td> <td> 0.060</td> <td> -103.946</td> <td>    2.213</td>\n",
       "</tr>\n",
       "<tr>\n",
       "  <th>offnet_mou_8</th>                 <td>  -73.6541</td> <td>   29.353</td> <td>   -2.509</td> <td> 0.012</td> <td> -131.186</td> <td>  -16.123</td>\n",
       "</tr>\n",
       "<tr>\n",
       "  <th>roam_ic_mou_8</th>                <td>   -1.1550</td> <td>    0.380</td> <td>   -3.036</td> <td> 0.002</td> <td>   -1.901</td> <td>   -0.409</td>\n",
       "</tr>\n",
       "<tr>\n",
       "  <th>roam_og_mou_8</th>                <td>   13.0887</td> <td>    5.314</td> <td>    2.463</td> <td> 0.014</td> <td>    2.673</td> <td>   23.504</td>\n",
       "</tr>\n",
       "<tr>\n",
       "  <th>loc_og_t2t_mou_8</th>             <td>   17.7200</td> <td>   12.830</td> <td>    1.381</td> <td> 0.167</td> <td>   -7.427</td> <td>   42.867</td>\n",
       "</tr>\n",
       "<tr>\n",
       "  <th>loc_og_t2m_mou_8</th>             <td>   28.2867</td> <td>   14.994</td> <td>    1.887</td> <td> 0.059</td> <td>   -1.101</td> <td>   57.674</td>\n",
       "</tr>\n",
       "<tr>\n",
       "  <th>loc_og_t2f_mou_8</th>             <td>    3.5844</td> <td>    1.320</td> <td>    2.716</td> <td> 0.007</td> <td>    0.998</td> <td>    6.171</td>\n",
       "</tr>\n",
       "<tr>\n",
       "  <th>loc_og_t2c_mou_8</th>             <td>    1.6747</td> <td>    0.388</td> <td>    4.321</td> <td> 0.000</td> <td>    0.915</td> <td>    2.434</td>\n",
       "</tr>\n",
       "<tr>\n",
       "  <th>std_og_t2t_mou_8</th>             <td>   47.2250</td> <td>   26.756</td> <td>    1.765</td> <td> 0.078</td> <td>   -5.215</td> <td>   99.665</td>\n",
       "</tr>\n",
       "<tr>\n",
       "  <th>std_og_t2m_mou_8</th>             <td>   61.5396</td> <td>   26.119</td> <td>    2.356</td> <td> 0.018</td> <td>   10.347</td> <td>  112.732</td>\n",
       "</tr>\n",
       "<tr>\n",
       "  <th>std_og_t2f_mou_8</th>             <td>    0.5370</td> <td>    0.750</td> <td>    0.716</td> <td> 0.474</td> <td>   -0.933</td> <td>    2.007</td>\n",
       "</tr>\n",
       "<tr>\n",
       "  <th>isd_og_mou_8</th>                 <td>    1.2896</td> <td>    0.646</td> <td>    1.998</td> <td> 0.046</td> <td>    0.024</td> <td>    2.555</td>\n",
       "</tr>\n",
       "<tr>\n",
       "  <th>spl_og_mou_8</th>                 <td>    0.5279</td> <td>    0.806</td> <td>    0.655</td> <td> 0.513</td> <td>   -1.052</td> <td>    2.108</td>\n",
       "</tr>\n",
       "<tr>\n",
       "  <th>og_others_8</th>                  <td>-6.805e-12</td> <td> 2.63e-12</td> <td>   -2.587</td> <td> 0.010</td> <td> -1.2e-11</td> <td>-1.65e-12</td>\n",
       "</tr>\n",
       "<tr>\n",
       "  <th>loc_ic_t2t_mou_8</th>             <td>   -6.1622</td> <td>    0.854</td> <td>   -7.214</td> <td> 0.000</td> <td>   -7.836</td> <td>   -4.488</td>\n",
       "</tr>\n",
       "<tr>\n",
       "  <th>loc_ic_t2m_mou_8</th>             <td>  -20.6994</td> <td>    0.987</td> <td>  -20.968</td> <td> 0.000</td> <td>  -22.634</td> <td>  -18.765</td>\n",
       "</tr>\n",
       "<tr>\n",
       "  <th>loc_ic_t2f_mou_8</th>             <td>   -5.4451</td> <td>    0.843</td> <td>   -6.458</td> <td> 0.000</td> <td>   -7.098</td> <td>   -3.792</td>\n",
       "</tr>\n",
       "<tr>\n",
       "  <th>std_ic_t2t_mou_8</th>             <td>   -7.0912</td> <td>    0.713</td> <td>   -9.946</td> <td> 0.000</td> <td>   -8.489</td> <td>   -5.694</td>\n",
       "</tr>\n",
       "<tr>\n",
       "  <th>std_ic_t2m_mou_8</th>             <td>   -5.7572</td> <td>    0.676</td> <td>   -8.523</td> <td> 0.000</td> <td>   -7.081</td> <td>   -4.433</td>\n",
       "</tr>\n",
       "<tr>\n",
       "  <th>std_ic_t2f_mou_8</th>             <td>   -7.6727</td> <td>    0.881</td> <td>   -8.711</td> <td> 0.000</td> <td>   -9.399</td> <td>   -5.946</td>\n",
       "</tr>\n",
       "<tr>\n",
       "  <th>spl_ic_mou_8</th>                 <td>   -8.4155</td> <td>    0.511</td> <td>  -16.477</td> <td> 0.000</td> <td>   -9.417</td> <td>   -7.414</td>\n",
       "</tr>\n",
       "<tr>\n",
       "  <th>isd_ic_mou_8</th>                 <td>   -1.7993</td> <td>    0.597</td> <td>   -3.012</td> <td> 0.003</td> <td>   -2.970</td> <td>   -0.629</td>\n",
       "</tr>\n",
       "<tr>\n",
       "  <th>ic_others_8</th>                  <td>   -0.6343</td> <td>    0.435</td> <td>   -1.458</td> <td> 0.145</td> <td>   -1.487</td> <td>    0.218</td>\n",
       "</tr>\n",
       "<tr>\n",
       "  <th>total_rech_num_8</th>             <td>   -8.1279</td> <td>    0.498</td> <td>  -16.318</td> <td> 0.000</td> <td>   -9.104</td> <td>   -7.152</td>\n",
       "</tr>\n",
       "<tr>\n",
       "  <th>total_rech_amt_8</th>             <td>   -0.9557</td> <td>    0.777</td> <td>   -1.230</td> <td> 0.219</td> <td>   -2.479</td> <td>    0.567</td>\n",
       "</tr>\n",
       "<tr>\n",
       "  <th>max_rech_amt_8</th>               <td>    0.4480</td> <td>    0.449</td> <td>    0.998</td> <td> 0.318</td> <td>   -0.431</td> <td>    1.328</td>\n",
       "</tr>\n",
       "<tr>\n",
       "  <th>last_day_rch_amt_8</th>           <td>   -3.4047</td> <td>    0.242</td> <td>  -14.070</td> <td> 0.000</td> <td>   -3.879</td> <td>   -2.930</td>\n",
       "</tr>\n",
       "<tr>\n",
       "  <th>total_rech_data_8</th>            <td>   -6.1842</td> <td>    0.346</td> <td>  -17.887</td> <td> 0.000</td> <td>   -6.862</td> <td>   -5.507</td>\n",
       "</tr>\n",
       "<tr>\n",
       "  <th>max_rech_data_8</th>              <td>   -1.9145</td> <td>    0.568</td> <td>   -3.369</td> <td> 0.001</td> <td>   -3.028</td> <td>   -0.801</td>\n",
       "</tr>\n",
       "<tr>\n",
       "  <th>av_rech_amt_data_8</th>           <td>    2.4084</td> <td>    1.088</td> <td>    2.215</td> <td> 0.027</td> <td>    0.277</td> <td>    4.540</td>\n",
       "</tr>\n",
       "<tr>\n",
       "  <th>vol_2g_mb_8</th>                  <td>   -7.6896</td> <td>    0.651</td> <td>  -11.814</td> <td> 0.000</td> <td>   -8.965</td> <td>   -6.414</td>\n",
       "</tr>\n",
       "<tr>\n",
       "  <th>vol_3g_mb_8</th>                  <td>   -2.1874</td> <td>    0.666</td> <td>   -3.283</td> <td> 0.001</td> <td>   -3.493</td> <td>   -0.882</td>\n",
       "</tr>\n",
       "<tr>\n",
       "  <th>monthly_2g_8</th>                 <td>   -5.7314</td> <td>    0.494</td> <td>  -11.612</td> <td> 0.000</td> <td>   -6.699</td> <td>   -4.764</td>\n",
       "</tr>\n",
       "<tr>\n",
       "  <th>sachet_2g_8</th>                  <td>   -3.8369</td> <td>    0.318</td> <td>  -12.054</td> <td> 0.000</td> <td>   -4.461</td> <td>   -3.213</td>\n",
       "</tr>\n",
       "<tr>\n",
       "  <th>monthly_3g_8</th>                 <td>   -4.3663</td> <td>    0.606</td> <td>   -7.208</td> <td> 0.000</td> <td>   -5.554</td> <td>   -3.179</td>\n",
       "</tr>\n",
       "<tr>\n",
       "  <th>sachet_3g_8</th>                  <td>   -2.8035</td> <td>    0.485</td> <td>   -5.784</td> <td> 0.000</td> <td>   -3.753</td> <td>   -1.854</td>\n",
       "</tr>\n",
       "<tr>\n",
       "  <th>aon</th>                          <td>   -1.2561</td> <td>    0.088</td> <td>  -14.264</td> <td> 0.000</td> <td>   -1.429</td> <td>   -1.083</td>\n",
       "</tr>\n",
       "<tr>\n",
       "  <th>vbc_3g_8</th>                     <td>   -3.6863</td> <td>    0.519</td> <td>   -7.099</td> <td> 0.000</td> <td>   -4.704</td> <td>   -2.669</td>\n",
       "</tr>\n",
       "<tr>\n",
       "  <th>total_rech_amt_data_8</th>        <td>    4.3444</td> <td>    1.160</td> <td>    3.744</td> <td> 0.000</td> <td>    2.070</td> <td>    6.618</td>\n",
       "</tr>\n",
       "<tr>\n",
       "  <th>avg_arpu_av67</th>                <td>    2.6481</td> <td>    0.764</td> <td>    3.468</td> <td> 0.001</td> <td>    1.152</td> <td>    4.145</td>\n",
       "</tr>\n",
       "<tr>\n",
       "  <th>avg_onnet_mou_av67</th>           <td>  -29.9051</td> <td>   27.332</td> <td>   -1.094</td> <td> 0.274</td> <td>  -83.475</td> <td>   23.665</td>\n",
       "</tr>\n",
       "<tr>\n",
       "  <th>avg_offnet_mou_av67</th>          <td>  -20.1089</td> <td>   29.320</td> <td>   -0.686</td> <td> 0.493</td> <td>  -77.574</td> <td>   37.356</td>\n",
       "</tr>\n",
       "<tr>\n",
       "  <th>avg_roam_ic_mou_av67</th>         <td>    0.0048</td> <td>    0.369</td> <td>    0.013</td> <td> 0.990</td> <td>   -0.718</td> <td>    0.728</td>\n",
       "</tr>\n",
       "<tr>\n",
       "  <th>avg_roam_og_mou_av67</th>         <td>    6.1820</td> <td>    5.885</td> <td>    1.051</td> <td> 0.293</td> <td>   -5.351</td> <td>   17.715</td>\n",
       "</tr>\n",
       "<tr>\n",
       "  <th>avg_loc_og_t2t_mou_av67</th>      <td>   19.3000</td> <td>   14.164</td> <td>    1.363</td> <td> 0.173</td> <td>   -8.462</td> <td>   47.062</td>\n",
       "</tr>\n",
       "<tr>\n",
       "  <th>avg_loc_og_t2m_mou_av67</th>      <td>   11.1947</td> <td>   16.503</td> <td>    0.678</td> <td> 0.498</td> <td>  -21.150</td> <td>   43.540</td>\n",
       "</tr>\n",
       "<tr>\n",
       "  <th>avg_loc_og_t2f_mou_av67</th>      <td>   -1.4204</td> <td>    1.379</td> <td>   -1.030</td> <td> 0.303</td> <td>   -4.123</td> <td>    1.282</td>\n",
       "</tr>\n",
       "<tr>\n",
       "  <th>avg_loc_og_t2c_mou_av67</th>      <td>   -1.6464</td> <td>    0.301</td> <td>   -5.464</td> <td> 0.000</td> <td>   -2.237</td> <td>   -1.056</td>\n",
       "</tr>\n",
       "<tr>\n",
       "  <th>avg_std_og_t2t_mou_av67</th>      <td>   30.6448</td> <td>   26.827</td> <td>    1.142</td> <td> 0.253</td> <td>  -21.936</td> <td>   83.225</td>\n",
       "</tr>\n",
       "<tr>\n",
       "  <th>avg_std_og_t2m_mou_av67</th>      <td>   21.8924</td> <td>   28.505</td> <td>    0.768</td> <td> 0.442</td> <td>  -33.976</td> <td>   77.761</td>\n",
       "</tr>\n",
       "<tr>\n",
       "  <th>avg_std_og_t2f_mou_av67</th>      <td>    0.6155</td> <td>    0.605</td> <td>    1.018</td> <td> 0.309</td> <td>   -0.570</td> <td>    1.801</td>\n",
       "</tr>\n",
       "<tr>\n",
       "  <th>avg_isd_og_mou_av67</th>          <td>   -0.1612</td> <td>    0.369</td> <td>   -0.437</td> <td> 0.662</td> <td>   -0.884</td> <td>    0.561</td>\n",
       "</tr>\n",
       "<tr>\n",
       "  <th>avg_spl_og_mou_av67</th>          <td>    0.7020</td> <td>    0.762</td> <td>    0.921</td> <td> 0.357</td> <td>   -0.791</td> <td>    2.195</td>\n",
       "</tr>\n",
       "<tr>\n",
       "  <th>avg_og_others_av67</th>           <td>   -1.3205</td> <td>    0.231</td> <td>   -5.714</td> <td> 0.000</td> <td>   -1.773</td> <td>   -0.868</td>\n",
       "</tr>\n",
       "<tr>\n",
       "  <th>avg_loc_ic_t2t_mou_av67</th>      <td>    1.0733</td> <td>    0.538</td> <td>    1.994</td> <td> 0.046</td> <td>    0.018</td> <td>    2.128</td>\n",
       "</tr>\n",
       "<tr>\n",
       "  <th>avg_loc_ic_t2m_mou_av67</th>      <td>    7.7657</td> <td>    0.601</td> <td>   12.916</td> <td> 0.000</td> <td>    6.587</td> <td>    8.944</td>\n",
       "</tr>\n",
       "<tr>\n",
       "  <th>avg_loc_ic_t2f_mou_av67</th>      <td>   -0.7394</td> <td>    0.496</td> <td>   -1.491</td> <td> 0.136</td> <td>   -1.711</td> <td>    0.233</td>\n",
       "</tr>\n",
       "<tr>\n",
       "  <th>avg_std_ic_t2t_mou_av67</th>      <td>    1.8913</td> <td>    0.366</td> <td>    5.166</td> <td> 0.000</td> <td>    1.174</td> <td>    2.609</td>\n",
       "</tr>\n",
       "<tr>\n",
       "  <th>avg_std_ic_t2m_mou_av67</th>      <td>    0.9028</td> <td>    0.394</td> <td>    2.292</td> <td> 0.022</td> <td>    0.131</td> <td>    1.675</td>\n",
       "</tr>\n",
       "<tr>\n",
       "  <th>avg_std_ic_t2f_mou_av67</th>      <td>    2.0065</td> <td>    0.363</td> <td>    5.531</td> <td> 0.000</td> <td>    1.295</td> <td>    2.718</td>\n",
       "</tr>\n",
       "<tr>\n",
       "  <th>avg_spl_ic_mou_av67</th>          <td>    0.1739</td> <td>    0.161</td> <td>    1.078</td> <td> 0.281</td> <td>   -0.142</td> <td>    0.490</td>\n",
       "</tr>\n",
       "<tr>\n",
       "  <th>avg_isd_ic_mou_av67</th>          <td>    2.4014</td> <td>    0.373</td> <td>    6.437</td> <td> 0.000</td> <td>    1.670</td> <td>    3.133</td>\n",
       "</tr>\n",
       "<tr>\n",
       "  <th>avg_ic_others_av67</th>           <td>   -0.4133</td> <td>    0.305</td> <td>   -1.353</td> <td> 0.176</td> <td>   -1.012</td> <td>    0.185</td>\n",
       "</tr>\n",
       "<tr>\n",
       "  <th>avg_total_rech_num_av67</th>      <td>    2.4315</td> <td>    0.373</td> <td>    6.514</td> <td> 0.000</td> <td>    1.700</td> <td>    3.163</td>\n",
       "</tr>\n",
       "<tr>\n",
       "  <th>avg_total_rech_amt_av67</th>      <td>   -0.8905</td> <td>    0.744</td> <td>   -1.198</td> <td> 0.231</td> <td>   -2.348</td> <td>    0.567</td>\n",
       "</tr>\n",
       "<tr>\n",
       "  <th>avg_max_rech_amt_av67</th>        <td>    1.7779</td> <td>    0.389</td> <td>    4.569</td> <td> 0.000</td> <td>    1.015</td> <td>    2.541</td>\n",
       "</tr>\n",
       "<tr>\n",
       "  <th>avg_last_day_rch_amt_av67</th>    <td>   -0.3776</td> <td>    0.278</td> <td>   -1.360</td> <td> 0.174</td> <td>   -0.921</td> <td>    0.166</td>\n",
       "</tr>\n",
       "<tr>\n",
       "  <th>avg_total_rech_data_av67</th>     <td>    0.9438</td> <td>    0.264</td> <td>    3.579</td> <td> 0.000</td> <td>    0.427</td> <td>    1.461</td>\n",
       "</tr>\n",
       "<tr>\n",
       "  <th>avg_max_rech_data_av67</th>       <td>    3.2971</td> <td>    0.540</td> <td>    6.108</td> <td> 0.000</td> <td>    2.239</td> <td>    4.355</td>\n",
       "</tr>\n",
       "<tr>\n",
       "  <th>avg_av_rech_amt_data_av67</th>    <td>   -6.2252</td> <td>    0.920</td> <td>   -6.763</td> <td> 0.000</td> <td>   -8.029</td> <td>   -4.421</td>\n",
       "</tr>\n",
       "<tr>\n",
       "  <th>avg_vol_2g_mb_av67</th>           <td>    2.4181</td> <td>    0.343</td> <td>    7.057</td> <td> 0.000</td> <td>    1.746</td> <td>    3.090</td>\n",
       "</tr>\n",
       "<tr>\n",
       "  <th>avg_vol_3g_mb_av67</th>           <td>    0.9460</td> <td>    0.522</td> <td>    1.813</td> <td> 0.070</td> <td>   -0.077</td> <td>    1.969</td>\n",
       "</tr>\n",
       "<tr>\n",
       "  <th>avg_monthly_2g_av67</th>          <td>   -1.3150</td> <td>    0.245</td> <td>   -5.357</td> <td> 0.000</td> <td>   -1.796</td> <td>   -0.834</td>\n",
       "</tr>\n",
       "<tr>\n",
       "  <th>avg_sachet_2g_av67</th>           <td>    0.0696</td> <td>    0.209</td> <td>    0.333</td> <td> 0.739</td> <td>   -0.340</td> <td>    0.480</td>\n",
       "</tr>\n",
       "<tr>\n",
       "  <th>avg_monthly_3g_av67</th>          <td>    1.4387</td> <td>    0.473</td> <td>    3.041</td> <td> 0.002</td> <td>    0.511</td> <td>    2.366</td>\n",
       "</tr>\n",
       "<tr>\n",
       "  <th>avg_sachet_3g_av67</th>           <td>    1.9806</td> <td>    0.313</td> <td>    6.327</td> <td> 0.000</td> <td>    1.367</td> <td>    2.594</td>\n",
       "</tr>\n",
       "<tr>\n",
       "  <th>avg_vbc_3g_av67</th>              <td>    0.6638</td> <td>    0.429</td> <td>    1.546</td> <td> 0.122</td> <td>   -0.178</td> <td>    1.505</td>\n",
       "</tr>\n",
       "<tr>\n",
       "  <th>avg_total_rech_amt_data_av67</th> <td>    1.8697</td> <td>    0.770</td> <td>    2.427</td> <td> 0.015</td> <td>    0.360</td> <td>    3.380</td>\n",
       "</tr>\n",
       "</table>"
      ],
      "text/plain": [
       "<class 'statsmodels.iolib.summary.Summary'>\n",
       "\"\"\"\n",
       "                 Generalized Linear Model Regression Results                  \n",
       "==============================================================================\n",
       "Dep. Variable:                  churn   No. Observations:                35514\n",
       "Model:                            GLM   Df Residuals:                    35437\n",
       "Model Family:                Binomial   Df Model:                           76\n",
       "Link Function:                  logit   Scale:                          1.0000\n",
       "Method:                          IRLS   Log-Likelihood:                -12688.\n",
       "Date:                Wed, 28 Jul 2021   Deviance:                       25376.\n",
       "Time:                        22:31:37   Pearson chi2:                 9.14e+04\n",
       "No. Iterations:                    26                                         \n",
       "Covariance Type:            nonrobust                                         \n",
       "================================================================================================\n",
       "                                   coef    std err          z      P>|z|      [0.025      0.975]\n",
       "------------------------------------------------------------------------------------------------\n",
       "const                            1.0148      0.123      8.270      0.000       0.774       1.255\n",
       "arpu_8                           3.2739      0.755      4.335      0.000       1.794       4.754\n",
       "onnet_mou_8                    -50.8666     27.082     -1.878      0.060    -103.946       2.213\n",
       "offnet_mou_8                   -73.6541     29.353     -2.509      0.012    -131.186     -16.123\n",
       "roam_ic_mou_8                   -1.1550      0.380     -3.036      0.002      -1.901      -0.409\n",
       "roam_og_mou_8                   13.0887      5.314      2.463      0.014       2.673      23.504\n",
       "loc_og_t2t_mou_8                17.7200     12.830      1.381      0.167      -7.427      42.867\n",
       "loc_og_t2m_mou_8                28.2867     14.994      1.887      0.059      -1.101      57.674\n",
       "loc_og_t2f_mou_8                 3.5844      1.320      2.716      0.007       0.998       6.171\n",
       "loc_og_t2c_mou_8                 1.6747      0.388      4.321      0.000       0.915       2.434\n",
       "std_og_t2t_mou_8                47.2250     26.756      1.765      0.078      -5.215      99.665\n",
       "std_og_t2m_mou_8                61.5396     26.119      2.356      0.018      10.347     112.732\n",
       "std_og_t2f_mou_8                 0.5370      0.750      0.716      0.474      -0.933       2.007\n",
       "isd_og_mou_8                     1.2896      0.646      1.998      0.046       0.024       2.555\n",
       "spl_og_mou_8                     0.5279      0.806      0.655      0.513      -1.052       2.108\n",
       "og_others_8                  -6.805e-12   2.63e-12     -2.587      0.010    -1.2e-11   -1.65e-12\n",
       "loc_ic_t2t_mou_8                -6.1622      0.854     -7.214      0.000      -7.836      -4.488\n",
       "loc_ic_t2m_mou_8               -20.6994      0.987    -20.968      0.000     -22.634     -18.765\n",
       "loc_ic_t2f_mou_8                -5.4451      0.843     -6.458      0.000      -7.098      -3.792\n",
       "std_ic_t2t_mou_8                -7.0912      0.713     -9.946      0.000      -8.489      -5.694\n",
       "std_ic_t2m_mou_8                -5.7572      0.676     -8.523      0.000      -7.081      -4.433\n",
       "std_ic_t2f_mou_8                -7.6727      0.881     -8.711      0.000      -9.399      -5.946\n",
       "spl_ic_mou_8                    -8.4155      0.511    -16.477      0.000      -9.417      -7.414\n",
       "isd_ic_mou_8                    -1.7993      0.597     -3.012      0.003      -2.970      -0.629\n",
       "ic_others_8                     -0.6343      0.435     -1.458      0.145      -1.487       0.218\n",
       "total_rech_num_8                -8.1279      0.498    -16.318      0.000      -9.104      -7.152\n",
       "total_rech_amt_8                -0.9557      0.777     -1.230      0.219      -2.479       0.567\n",
       "max_rech_amt_8                   0.4480      0.449      0.998      0.318      -0.431       1.328\n",
       "last_day_rch_amt_8              -3.4047      0.242    -14.070      0.000      -3.879      -2.930\n",
       "total_rech_data_8               -6.1842      0.346    -17.887      0.000      -6.862      -5.507\n",
       "max_rech_data_8                 -1.9145      0.568     -3.369      0.001      -3.028      -0.801\n",
       "av_rech_amt_data_8               2.4084      1.088      2.215      0.027       0.277       4.540\n",
       "vol_2g_mb_8                     -7.6896      0.651    -11.814      0.000      -8.965      -6.414\n",
       "vol_3g_mb_8                     -2.1874      0.666     -3.283      0.001      -3.493      -0.882\n",
       "monthly_2g_8                    -5.7314      0.494    -11.612      0.000      -6.699      -4.764\n",
       "sachet_2g_8                     -3.8369      0.318    -12.054      0.000      -4.461      -3.213\n",
       "monthly_3g_8                    -4.3663      0.606     -7.208      0.000      -5.554      -3.179\n",
       "sachet_3g_8                     -2.8035      0.485     -5.784      0.000      -3.753      -1.854\n",
       "aon                             -1.2561      0.088    -14.264      0.000      -1.429      -1.083\n",
       "vbc_3g_8                        -3.6863      0.519     -7.099      0.000      -4.704      -2.669\n",
       "total_rech_amt_data_8            4.3444      1.160      3.744      0.000       2.070       6.618\n",
       "avg_arpu_av67                    2.6481      0.764      3.468      0.001       1.152       4.145\n",
       "avg_onnet_mou_av67             -29.9051     27.332     -1.094      0.274     -83.475      23.665\n",
       "avg_offnet_mou_av67            -20.1089     29.320     -0.686      0.493     -77.574      37.356\n",
       "avg_roam_ic_mou_av67             0.0048      0.369      0.013      0.990      -0.718       0.728\n",
       "avg_roam_og_mou_av67             6.1820      5.885      1.051      0.293      -5.351      17.715\n",
       "avg_loc_og_t2t_mou_av67         19.3000     14.164      1.363      0.173      -8.462      47.062\n",
       "avg_loc_og_t2m_mou_av67         11.1947     16.503      0.678      0.498     -21.150      43.540\n",
       "avg_loc_og_t2f_mou_av67         -1.4204      1.379     -1.030      0.303      -4.123       1.282\n",
       "avg_loc_og_t2c_mou_av67         -1.6464      0.301     -5.464      0.000      -2.237      -1.056\n",
       "avg_std_og_t2t_mou_av67         30.6448     26.827      1.142      0.253     -21.936      83.225\n",
       "avg_std_og_t2m_mou_av67         21.8924     28.505      0.768      0.442     -33.976      77.761\n",
       "avg_std_og_t2f_mou_av67          0.6155      0.605      1.018      0.309      -0.570       1.801\n",
       "avg_isd_og_mou_av67             -0.1612      0.369     -0.437      0.662      -0.884       0.561\n",
       "avg_spl_og_mou_av67              0.7020      0.762      0.921      0.357      -0.791       2.195\n",
       "avg_og_others_av67              -1.3205      0.231     -5.714      0.000      -1.773      -0.868\n",
       "avg_loc_ic_t2t_mou_av67          1.0733      0.538      1.994      0.046       0.018       2.128\n",
       "avg_loc_ic_t2m_mou_av67          7.7657      0.601     12.916      0.000       6.587       8.944\n",
       "avg_loc_ic_t2f_mou_av67         -0.7394      0.496     -1.491      0.136      -1.711       0.233\n",
       "avg_std_ic_t2t_mou_av67          1.8913      0.366      5.166      0.000       1.174       2.609\n",
       "avg_std_ic_t2m_mou_av67          0.9028      0.394      2.292      0.022       0.131       1.675\n",
       "avg_std_ic_t2f_mou_av67          2.0065      0.363      5.531      0.000       1.295       2.718\n",
       "avg_spl_ic_mou_av67              0.1739      0.161      1.078      0.281      -0.142       0.490\n",
       "avg_isd_ic_mou_av67              2.4014      0.373      6.437      0.000       1.670       3.133\n",
       "avg_ic_others_av67              -0.4133      0.305     -1.353      0.176      -1.012       0.185\n",
       "avg_total_rech_num_av67          2.4315      0.373      6.514      0.000       1.700       3.163\n",
       "avg_total_rech_amt_av67         -0.8905      0.744     -1.198      0.231      -2.348       0.567\n",
       "avg_max_rech_amt_av67            1.7779      0.389      4.569      0.000       1.015       2.541\n",
       "avg_last_day_rch_amt_av67       -0.3776      0.278     -1.360      0.174      -0.921       0.166\n",
       "avg_total_rech_data_av67         0.9438      0.264      3.579      0.000       0.427       1.461\n",
       "avg_max_rech_data_av67           3.2971      0.540      6.108      0.000       2.239       4.355\n",
       "avg_av_rech_amt_data_av67       -6.2252      0.920     -6.763      0.000      -8.029      -4.421\n",
       "avg_vol_2g_mb_av67               2.4181      0.343      7.057      0.000       1.746       3.090\n",
       "avg_vol_3g_mb_av67               0.9460      0.522      1.813      0.070      -0.077       1.969\n",
       "avg_monthly_2g_av67             -1.3150      0.245     -5.357      0.000      -1.796      -0.834\n",
       "avg_sachet_2g_av67               0.0696      0.209      0.333      0.739      -0.340       0.480\n",
       "avg_monthly_3g_av67              1.4387      0.473      3.041      0.002       0.511       2.366\n",
       "avg_sachet_3g_av67               1.9806      0.313      6.327      0.000       1.367       2.594\n",
       "avg_vbc_3g_av67                  0.6638      0.429      1.546      0.122      -0.178       1.505\n",
       "avg_total_rech_amt_data_av67     1.8697      0.770      2.427      0.015       0.360       3.380\n",
       "================================================================================================\n",
       "\"\"\""
      ]
     },
     "execution_count": 146,
     "metadata": {},
     "output_type": "execute_result"
    }
   ],
   "source": [
    "# Logistic regression model\n",
    "logm1 = sm.GLM(y_smote,(sm.add_constant(X_smote)), family = sm.families.Binomial())\n",
    "logm1.fit().summary()"
   ]
  },
  {
   "cell_type": "markdown",
   "id": "3a6f73fd",
   "metadata": {},
   "source": [
    "### Using RFE to reduce the feature"
   ]
  },
  {
   "cell_type": "code",
   "execution_count": 147,
   "id": "76dfcd1c",
   "metadata": {},
   "outputs": [],
   "source": [
    "from sklearn.linear_model import LogisticRegression\n",
    "logreg = LogisticRegression()\n",
    "\n",
    "from sklearn.feature_selection import RFE\n",
    "\n",
    "# running RFE with 20 variables as output\n",
    "rfe = RFE(logreg, 20)             \n",
    "rfe = rfe.fit(X_smote, y_smote)"
   ]
  },
  {
   "cell_type": "code",
   "execution_count": 148,
   "id": "5b22f1d1",
   "metadata": {},
   "outputs": [
    {
     "data": {
      "text/plain": [
       "array([False, False, False, False, False,  True,  True, False, False,\n",
       "       False, False, False, False, False, False,  True,  True,  True,\n",
       "        True,  True,  True,  True, False, False,  True, False, False,\n",
       "        True,  True, False, False,  True, False,  True,  True,  True,\n",
       "       False, False,  True, False,  True, False, False, False, False,\n",
       "       False, False, False, False, False, False, False, False, False,\n",
       "       False, False,  True, False, False, False, False, False, False,\n",
       "       False,  True, False, False, False, False, False, False, False,\n",
       "       False, False, False, False, False, False, False])"
      ]
     },
     "execution_count": 148,
     "metadata": {},
     "output_type": "execute_result"
    }
   ],
   "source": [
    "rfe.support_"
   ]
  },
  {
   "cell_type": "code",
   "execution_count": 149,
   "id": "6f1e46fd",
   "metadata": {
    "scrolled": false
   },
   "outputs": [
    {
     "name": "stdout",
     "output_type": "stream",
     "text": [
      "The selected columns by RFE for modelling are: \n",
      "\n",
      " Index(['loc_og_t2t_mou_8', 'loc_og_t2m_mou_8', 'loc_ic_t2t_mou_8',\n",
      "       'loc_ic_t2m_mou_8', 'loc_ic_t2f_mou_8', 'std_ic_t2t_mou_8',\n",
      "       'std_ic_t2m_mou_8', 'std_ic_t2f_mou_8', 'spl_ic_mou_8',\n",
      "       'total_rech_num_8', 'last_day_rch_amt_8', 'total_rech_data_8',\n",
      "       'vol_2g_mb_8', 'monthly_2g_8', 'sachet_2g_8', 'monthly_3g_8',\n",
      "       'vbc_3g_8', 'avg_arpu_av67', 'avg_loc_ic_t2m_mou_av67',\n",
      "       'avg_total_rech_num_av67'],\n",
      "      dtype='object')\n"
     ]
    }
   ],
   "source": [
    "rfe_columns=X_smote.columns[rfe.support_]\n",
    "print(\"The selected columns by RFE for modelling are: \\n\\n\",rfe_columns)"
   ]
  },
  {
   "cell_type": "code",
   "execution_count": 150,
   "id": "2b90bc60",
   "metadata": {},
   "outputs": [],
   "source": [
    "# Creating X_train_rfe dataframe with RFE selected variables\n",
    "X_train_rfe = X_smote[rfe_columns]"
   ]
  },
  {
   "cell_type": "code",
   "execution_count": 151,
   "id": "8febc36e",
   "metadata": {
    "scrolled": true
   },
   "outputs": [
    {
     "data": {
      "text/html": [
       "<div>\n",
       "<style scoped>\n",
       "    .dataframe tbody tr th:only-of-type {\n",
       "        vertical-align: middle;\n",
       "    }\n",
       "\n",
       "    .dataframe tbody tr th {\n",
       "        vertical-align: top;\n",
       "    }\n",
       "\n",
       "    .dataframe thead th {\n",
       "        text-align: right;\n",
       "    }\n",
       "</style>\n",
       "<table border=\"1\" class=\"dataframe\">\n",
       "  <thead>\n",
       "    <tr style=\"text-align: right;\">\n",
       "      <th></th>\n",
       "      <th>loc_og_t2t_mou_8</th>\n",
       "      <th>loc_og_t2m_mou_8</th>\n",
       "      <th>loc_ic_t2t_mou_8</th>\n",
       "      <th>loc_ic_t2m_mou_8</th>\n",
       "      <th>loc_ic_t2f_mou_8</th>\n",
       "      <th>std_ic_t2t_mou_8</th>\n",
       "      <th>std_ic_t2m_mou_8</th>\n",
       "      <th>std_ic_t2f_mou_8</th>\n",
       "      <th>spl_ic_mou_8</th>\n",
       "      <th>total_rech_num_8</th>\n",
       "      <th>last_day_rch_amt_8</th>\n",
       "      <th>total_rech_data_8</th>\n",
       "      <th>vol_2g_mb_8</th>\n",
       "      <th>monthly_2g_8</th>\n",
       "      <th>sachet_2g_8</th>\n",
       "      <th>monthly_3g_8</th>\n",
       "      <th>vbc_3g_8</th>\n",
       "      <th>avg_arpu_av67</th>\n",
       "      <th>avg_loc_ic_t2m_mou_av67</th>\n",
       "      <th>avg_total_rech_num_av67</th>\n",
       "    </tr>\n",
       "  </thead>\n",
       "  <tbody>\n",
       "    <tr>\n",
       "      <th>0</th>\n",
       "      <td>0.000000</td>\n",
       "      <td>0.000049</td>\n",
       "      <td>0.000000</td>\n",
       "      <td>0.001310</td>\n",
       "      <td>0.000000</td>\n",
       "      <td>0.122715</td>\n",
       "      <td>0.041086</td>\n",
       "      <td>0.000000</td>\n",
       "      <td>0.000000</td>\n",
       "      <td>0.020833</td>\n",
       "      <td>0.091075</td>\n",
       "      <td>0.000000</td>\n",
       "      <td>0.000000</td>\n",
       "      <td>0.0</td>\n",
       "      <td>0.000000</td>\n",
       "      <td>0.0</td>\n",
       "      <td>0.033945</td>\n",
       "      <td>0.221218</td>\n",
       "      <td>0.000303</td>\n",
       "      <td>0.021858</td>\n",
       "    </tr>\n",
       "    <tr>\n",
       "      <th>1</th>\n",
       "      <td>0.000000</td>\n",
       "      <td>0.000000</td>\n",
       "      <td>0.000000</td>\n",
       "      <td>0.016445</td>\n",
       "      <td>0.004094</td>\n",
       "      <td>0.000000</td>\n",
       "      <td>0.000000</td>\n",
       "      <td>0.000000</td>\n",
       "      <td>0.087302</td>\n",
       "      <td>0.041667</td>\n",
       "      <td>0.022769</td>\n",
       "      <td>0.068966</td>\n",
       "      <td>0.009718</td>\n",
       "      <td>0.2</td>\n",
       "      <td>0.041667</td>\n",
       "      <td>0.0</td>\n",
       "      <td>0.074335</td>\n",
       "      <td>0.189029</td>\n",
       "      <td>0.008814</td>\n",
       "      <td>0.027322</td>\n",
       "    </tr>\n",
       "    <tr>\n",
       "      <th>2</th>\n",
       "      <td>0.000606</td>\n",
       "      <td>0.203375</td>\n",
       "      <td>0.002290</td>\n",
       "      <td>0.058599</td>\n",
       "      <td>0.004094</td>\n",
       "      <td>0.000000</td>\n",
       "      <td>0.000000</td>\n",
       "      <td>0.000000</td>\n",
       "      <td>0.000000</td>\n",
       "      <td>0.083333</td>\n",
       "      <td>0.006375</td>\n",
       "      <td>0.000000</td>\n",
       "      <td>0.000000</td>\n",
       "      <td>0.0</td>\n",
       "      <td>0.000000</td>\n",
       "      <td>0.0</td>\n",
       "      <td>0.000000</td>\n",
       "      <td>0.258735</td>\n",
       "      <td>0.070953</td>\n",
       "      <td>0.092896</td>\n",
       "    </tr>\n",
       "    <tr>\n",
       "      <th>3</th>\n",
       "      <td>0.011742</td>\n",
       "      <td>0.061746</td>\n",
       "      <td>0.039671</td>\n",
       "      <td>0.114988</td>\n",
       "      <td>0.136738</td>\n",
       "      <td>0.000000</td>\n",
       "      <td>0.002712</td>\n",
       "      <td>0.039204</td>\n",
       "      <td>0.000000</td>\n",
       "      <td>0.229167</td>\n",
       "      <td>0.027322</td>\n",
       "      <td>0.137931</td>\n",
       "      <td>0.088142</td>\n",
       "      <td>0.0</td>\n",
       "      <td>0.166667</td>\n",
       "      <td>0.0</td>\n",
       "      <td>0.000000</td>\n",
       "      <td>0.317378</td>\n",
       "      <td>0.205637</td>\n",
       "      <td>0.267760</td>\n",
       "    </tr>\n",
       "    <tr>\n",
       "      <th>4</th>\n",
       "      <td>0.007181</td>\n",
       "      <td>0.013094</td>\n",
       "      <td>0.025821</td>\n",
       "      <td>0.005361</td>\n",
       "      <td>0.000000</td>\n",
       "      <td>0.000000</td>\n",
       "      <td>0.000000</td>\n",
       "      <td>0.000000</td>\n",
       "      <td>0.000000</td>\n",
       "      <td>0.031250</td>\n",
       "      <td>0.027322</td>\n",
       "      <td>0.034483</td>\n",
       "      <td>0.119772</td>\n",
       "      <td>0.2</td>\n",
       "      <td>0.000000</td>\n",
       "      <td>0.0</td>\n",
       "      <td>0.000000</td>\n",
       "      <td>0.191660</td>\n",
       "      <td>0.013988</td>\n",
       "      <td>0.076503</td>\n",
       "    </tr>\n",
       "    <tr>\n",
       "      <th>...</th>\n",
       "      <td>...</td>\n",
       "      <td>...</td>\n",
       "      <td>...</td>\n",
       "      <td>...</td>\n",
       "      <td>...</td>\n",
       "      <td>...</td>\n",
       "      <td>...</td>\n",
       "      <td>...</td>\n",
       "      <td>...</td>\n",
       "      <td>...</td>\n",
       "      <td>...</td>\n",
       "      <td>...</td>\n",
       "      <td>...</td>\n",
       "      <td>...</td>\n",
       "      <td>...</td>\n",
       "      <td>...</td>\n",
       "      <td>...</td>\n",
       "      <td>...</td>\n",
       "      <td>...</td>\n",
       "      <td>...</td>\n",
       "    </tr>\n",
       "    <tr>\n",
       "      <th>35509</th>\n",
       "      <td>0.000574</td>\n",
       "      <td>0.006800</td>\n",
       "      <td>0.000204</td>\n",
       "      <td>0.005461</td>\n",
       "      <td>0.002290</td>\n",
       "      <td>0.000000</td>\n",
       "      <td>0.000003</td>\n",
       "      <td>0.000000</td>\n",
       "      <td>0.000000</td>\n",
       "      <td>0.071270</td>\n",
       "      <td>0.000000</td>\n",
       "      <td>0.000000</td>\n",
       "      <td>0.000000</td>\n",
       "      <td>0.0</td>\n",
       "      <td>0.000000</td>\n",
       "      <td>0.0</td>\n",
       "      <td>0.000000</td>\n",
       "      <td>0.307090</td>\n",
       "      <td>0.016095</td>\n",
       "      <td>0.262586</td>\n",
       "    </tr>\n",
       "    <tr>\n",
       "      <th>35510</th>\n",
       "      <td>0.002546</td>\n",
       "      <td>0.001220</td>\n",
       "      <td>0.010975</td>\n",
       "      <td>0.000781</td>\n",
       "      <td>0.000000</td>\n",
       "      <td>0.031010</td>\n",
       "      <td>0.008556</td>\n",
       "      <td>0.000000</td>\n",
       "      <td>0.000000</td>\n",
       "      <td>0.074102</td>\n",
       "      <td>0.132554</td>\n",
       "      <td>0.000000</td>\n",
       "      <td>0.000000</td>\n",
       "      <td>0.0</td>\n",
       "      <td>0.000000</td>\n",
       "      <td>0.0</td>\n",
       "      <td>0.020881</td>\n",
       "      <td>0.301706</td>\n",
       "      <td>0.000804</td>\n",
       "      <td>0.073473</td>\n",
       "    </tr>\n",
       "    <tr>\n",
       "      <th>35511</th>\n",
       "      <td>0.001796</td>\n",
       "      <td>0.005787</td>\n",
       "      <td>0.003069</td>\n",
       "      <td>0.009700</td>\n",
       "      <td>0.000000</td>\n",
       "      <td>0.000000</td>\n",
       "      <td>0.001336</td>\n",
       "      <td>0.000000</td>\n",
       "      <td>0.000000</td>\n",
       "      <td>0.051427</td>\n",
       "      <td>0.000000</td>\n",
       "      <td>0.033397</td>\n",
       "      <td>0.000551</td>\n",
       "      <td>0.0</td>\n",
       "      <td>0.040355</td>\n",
       "      <td>0.0</td>\n",
       "      <td>0.000000</td>\n",
       "      <td>0.312276</td>\n",
       "      <td>0.043880</td>\n",
       "      <td>0.071726</td>\n",
       "    </tr>\n",
       "    <tr>\n",
       "      <th>35512</th>\n",
       "      <td>0.001823</td>\n",
       "      <td>0.000994</td>\n",
       "      <td>0.007847</td>\n",
       "      <td>0.006576</td>\n",
       "      <td>0.005378</td>\n",
       "      <td>0.028306</td>\n",
       "      <td>0.001868</td>\n",
       "      <td>0.007033</td>\n",
       "      <td>0.000000</td>\n",
       "      <td>0.036355</td>\n",
       "      <td>0.026357</td>\n",
       "      <td>0.000000</td>\n",
       "      <td>0.000000</td>\n",
       "      <td>0.0</td>\n",
       "      <td>0.000000</td>\n",
       "      <td>0.0</td>\n",
       "      <td>0.000000</td>\n",
       "      <td>0.305212</td>\n",
       "      <td>0.008063</td>\n",
       "      <td>0.092118</td>\n",
       "    </tr>\n",
       "    <tr>\n",
       "      <th>35513</th>\n",
       "      <td>0.126987</td>\n",
       "      <td>0.043590</td>\n",
       "      <td>0.064833</td>\n",
       "      <td>0.067750</td>\n",
       "      <td>0.000761</td>\n",
       "      <td>0.000000</td>\n",
       "      <td>0.003709</td>\n",
       "      <td>0.000000</td>\n",
       "      <td>0.000000</td>\n",
       "      <td>0.091703</td>\n",
       "      <td>0.044344</td>\n",
       "      <td>0.000000</td>\n",
       "      <td>0.000000</td>\n",
       "      <td>0.0</td>\n",
       "      <td>0.000000</td>\n",
       "      <td>0.0</td>\n",
       "      <td>0.000000</td>\n",
       "      <td>0.379449</td>\n",
       "      <td>0.072411</td>\n",
       "      <td>0.198869</td>\n",
       "    </tr>\n",
       "  </tbody>\n",
       "</table>\n",
       "<p>35514 rows × 20 columns</p>\n",
       "</div>"
      ],
      "text/plain": [
       "       loc_og_t2t_mou_8  loc_og_t2m_mou_8  loc_ic_t2t_mou_8  loc_ic_t2m_mou_8  \\\n",
       "0              0.000000          0.000049          0.000000          0.001310   \n",
       "1              0.000000          0.000000          0.000000          0.016445   \n",
       "2              0.000606          0.203375          0.002290          0.058599   \n",
       "3              0.011742          0.061746          0.039671          0.114988   \n",
       "4              0.007181          0.013094          0.025821          0.005361   \n",
       "...                 ...               ...               ...               ...   \n",
       "35509          0.000574          0.006800          0.000204          0.005461   \n",
       "35510          0.002546          0.001220          0.010975          0.000781   \n",
       "35511          0.001796          0.005787          0.003069          0.009700   \n",
       "35512          0.001823          0.000994          0.007847          0.006576   \n",
       "35513          0.126987          0.043590          0.064833          0.067750   \n",
       "\n",
       "       loc_ic_t2f_mou_8  std_ic_t2t_mou_8  std_ic_t2m_mou_8  std_ic_t2f_mou_8  \\\n",
       "0              0.000000          0.122715          0.041086          0.000000   \n",
       "1              0.004094          0.000000          0.000000          0.000000   \n",
       "2              0.004094          0.000000          0.000000          0.000000   \n",
       "3              0.136738          0.000000          0.002712          0.039204   \n",
       "4              0.000000          0.000000          0.000000          0.000000   \n",
       "...                 ...               ...               ...               ...   \n",
       "35509          0.002290          0.000000          0.000003          0.000000   \n",
       "35510          0.000000          0.031010          0.008556          0.000000   \n",
       "35511          0.000000          0.000000          0.001336          0.000000   \n",
       "35512          0.005378          0.028306          0.001868          0.007033   \n",
       "35513          0.000761          0.000000          0.003709          0.000000   \n",
       "\n",
       "       spl_ic_mou_8  total_rech_num_8  last_day_rch_amt_8  total_rech_data_8  \\\n",
       "0          0.000000          0.020833            0.091075           0.000000   \n",
       "1          0.087302          0.041667            0.022769           0.068966   \n",
       "2          0.000000          0.083333            0.006375           0.000000   \n",
       "3          0.000000          0.229167            0.027322           0.137931   \n",
       "4          0.000000          0.031250            0.027322           0.034483   \n",
       "...             ...               ...                 ...                ...   \n",
       "35509      0.000000          0.071270            0.000000           0.000000   \n",
       "35510      0.000000          0.074102            0.132554           0.000000   \n",
       "35511      0.000000          0.051427            0.000000           0.033397   \n",
       "35512      0.000000          0.036355            0.026357           0.000000   \n",
       "35513      0.000000          0.091703            0.044344           0.000000   \n",
       "\n",
       "       vol_2g_mb_8  monthly_2g_8  sachet_2g_8  monthly_3g_8  vbc_3g_8  \\\n",
       "0         0.000000           0.0     0.000000           0.0  0.033945   \n",
       "1         0.009718           0.2     0.041667           0.0  0.074335   \n",
       "2         0.000000           0.0     0.000000           0.0  0.000000   \n",
       "3         0.088142           0.0     0.166667           0.0  0.000000   \n",
       "4         0.119772           0.2     0.000000           0.0  0.000000   \n",
       "...            ...           ...          ...           ...       ...   \n",
       "35509     0.000000           0.0     0.000000           0.0  0.000000   \n",
       "35510     0.000000           0.0     0.000000           0.0  0.020881   \n",
       "35511     0.000551           0.0     0.040355           0.0  0.000000   \n",
       "35512     0.000000           0.0     0.000000           0.0  0.000000   \n",
       "35513     0.000000           0.0     0.000000           0.0  0.000000   \n",
       "\n",
       "       avg_arpu_av67  avg_loc_ic_t2m_mou_av67  avg_total_rech_num_av67  \n",
       "0           0.221218                 0.000303                 0.021858  \n",
       "1           0.189029                 0.008814                 0.027322  \n",
       "2           0.258735                 0.070953                 0.092896  \n",
       "3           0.317378                 0.205637                 0.267760  \n",
       "4           0.191660                 0.013988                 0.076503  \n",
       "...              ...                      ...                      ...  \n",
       "35509       0.307090                 0.016095                 0.262586  \n",
       "35510       0.301706                 0.000804                 0.073473  \n",
       "35511       0.312276                 0.043880                 0.071726  \n",
       "35512       0.305212                 0.008063                 0.092118  \n",
       "35513       0.379449                 0.072411                 0.198869  \n",
       "\n",
       "[35514 rows x 20 columns]"
      ]
     },
     "execution_count": 151,
     "metadata": {},
     "output_type": "execute_result"
    }
   ],
   "source": [
    "X_train_rfe"
   ]
  },
  {
   "cell_type": "code",
   "execution_count": 152,
   "id": "26115975",
   "metadata": {},
   "outputs": [],
   "source": [
    "# Adding a constant variable \n",
    "import statsmodels.api as sm  \n",
    "X_train_rfe = sm.add_constant(X_train_rfe)"
   ]
  },
  {
   "cell_type": "code",
   "execution_count": 153,
   "id": "6b0ff5d5",
   "metadata": {},
   "outputs": [],
   "source": [
    "lm = sm.OLS(y_smote,X_train_rfe).fit()"
   ]
  },
  {
   "cell_type": "code",
   "execution_count": 154,
   "id": "c5c56d32",
   "metadata": {},
   "outputs": [
    {
     "name": "stdout",
     "output_type": "stream",
     "text": [
      "                            OLS Regression Results                            \n",
      "==============================================================================\n",
      "Dep. Variable:                  churn   R-squared:                       0.438\n",
      "Model:                            OLS   Adj. R-squared:                  0.437\n",
      "Method:                 Least Squares   F-statistic:                     1381.\n",
      "Date:                Wed, 28 Jul 2021   Prob (F-statistic):               0.00\n",
      "Time:                        22:31:54   Log-Likelihood:                -15555.\n",
      "No. Observations:               35514   AIC:                         3.115e+04\n",
      "Df Residuals:                   35493   BIC:                         3.133e+04\n",
      "Df Model:                          20                                         \n",
      "Covariance Type:            nonrobust                                         \n",
      "===========================================================================================\n",
      "                              coef    std err          t      P>|t|      [0.025      0.975]\n",
      "-------------------------------------------------------------------------------------------\n",
      "const                       0.6103      0.007     82.377      0.000       0.596       0.625\n",
      "loc_og_t2t_mou_8           -0.3978      0.042     -9.525      0.000      -0.480      -0.316\n",
      "loc_og_t2m_mou_8           -0.9362      0.040    -23.143      0.000      -1.015      -0.857\n",
      "loc_ic_t2t_mou_8           -0.6816      0.043    -15.883      0.000      -0.766      -0.597\n",
      "loc_ic_t2m_mou_8           -1.1902      0.052    -22.769      0.000      -1.293      -1.088\n",
      "loc_ic_t2f_mou_8           -0.5053      0.039    -13.029      0.000      -0.581      -0.429\n",
      "std_ic_t2t_mou_8           -0.5427      0.046    -11.869      0.000      -0.632      -0.453\n",
      "std_ic_t2m_mou_8           -0.5628      0.042    -13.374      0.000      -0.645      -0.480\n",
      "std_ic_t2f_mou_8           -0.3521      0.043     -8.244      0.000      -0.436      -0.268\n",
      "spl_ic_mou_8               -0.7320      0.031    -23.503      0.000      -0.793      -0.671\n",
      "total_rech_num_8           -1.6578      0.036    -46.540      0.000      -1.728      -1.588\n",
      "last_day_rch_amt_8         -0.7100      0.023    -31.257      0.000      -0.755      -0.665\n",
      "total_rech_data_8          -0.7203      0.107     -6.741      0.000      -0.930      -0.511\n",
      "vol_2g_mb_8                -0.5426      0.039    -13.935      0.000      -0.619      -0.466\n",
      "monthly_2g_8               -0.8928      0.040    -22.270      0.000      -0.971      -0.814\n",
      "sachet_2g_8                -0.1438      0.097     -1.488      0.137      -0.333       0.046\n",
      "monthly_3g_8               -0.4260      0.044     -9.622      0.000      -0.513      -0.339\n",
      "vbc_3g_8                   -0.3745      0.037    -10.219      0.000      -0.446      -0.303\n",
      "avg_arpu_av67               0.5911      0.027     21.668      0.000       0.538       0.645\n",
      "avg_loc_ic_t2m_mou_av67     0.3956      0.043      9.288      0.000       0.312       0.479\n",
      "avg_total_rech_num_av67     0.5657      0.031     18.215      0.000       0.505       0.627\n",
      "==============================================================================\n",
      "Omnibus:                     1435.935   Durbin-Watson:                   1.062\n",
      "Prob(Omnibus):                  0.000   Jarque-Bera (JB):              799.626\n",
      "Skew:                          -0.208   Prob(JB):                    2.31e-174\n",
      "Kurtosis:                       2.394   Cond. No.                         77.8\n",
      "==============================================================================\n",
      "\n",
      "Notes:\n",
      "[1] Standard Errors assume that the covariance matrix of the errors is correctly specified.\n"
     ]
    }
   ],
   "source": [
    "#Let's see the summary of our linear model\n",
    "print(lm.summary())"
   ]
  },
  {
   "cell_type": "markdown",
   "id": "18a1f2b7",
   "metadata": {},
   "source": [
    "### VIF"
   ]
  },
  {
   "cell_type": "code",
   "execution_count": 155,
   "id": "08735596",
   "metadata": {
    "scrolled": true
   },
   "outputs": [
    {
     "data": {
      "text/html": [
       "<div>\n",
       "<style scoped>\n",
       "    .dataframe tbody tr th:only-of-type {\n",
       "        vertical-align: middle;\n",
       "    }\n",
       "\n",
       "    .dataframe tbody tr th {\n",
       "        vertical-align: top;\n",
       "    }\n",
       "\n",
       "    .dataframe thead th {\n",
       "        text-align: right;\n",
       "    }\n",
       "</style>\n",
       "<table border=\"1\" class=\"dataframe\">\n",
       "  <thead>\n",
       "    <tr style=\"text-align: right;\">\n",
       "      <th></th>\n",
       "      <th>Features</th>\n",
       "      <th>VIF</th>\n",
       "    </tr>\n",
       "  </thead>\n",
       "  <tbody>\n",
       "    <tr>\n",
       "      <th>12</th>\n",
       "      <td>total_rech_data_8</td>\n",
       "      <td>14.94</td>\n",
       "    </tr>\n",
       "    <tr>\n",
       "      <th>15</th>\n",
       "      <td>sachet_2g_8</td>\n",
       "      <td>14.19</td>\n",
       "    </tr>\n",
       "    <tr>\n",
       "      <th>0</th>\n",
       "      <td>const</td>\n",
       "      <td>13.86</td>\n",
       "    </tr>\n",
       "    <tr>\n",
       "      <th>4</th>\n",
       "      <td>loc_ic_t2m_mou_8</td>\n",
       "      <td>3.25</td>\n",
       "    </tr>\n",
       "    <tr>\n",
       "      <th>19</th>\n",
       "      <td>avg_loc_ic_t2m_mou_av67</td>\n",
       "      <td>2.45</td>\n",
       "    </tr>\n",
       "    <tr>\n",
       "      <th>16</th>\n",
       "      <td>monthly_3g_8</td>\n",
       "      <td>2.17</td>\n",
       "    </tr>\n",
       "    <tr>\n",
       "      <th>10</th>\n",
       "      <td>total_rech_num_8</td>\n",
       "      <td>2.09</td>\n",
       "    </tr>\n",
       "    <tr>\n",
       "      <th>20</th>\n",
       "      <td>avg_total_rech_num_av67</td>\n",
       "      <td>2.00</td>\n",
       "    </tr>\n",
       "    <tr>\n",
       "      <th>2</th>\n",
       "      <td>loc_og_t2m_mou_8</td>\n",
       "      <td>1.89</td>\n",
       "    </tr>\n",
       "    <tr>\n",
       "      <th>14</th>\n",
       "      <td>monthly_2g_8</td>\n",
       "      <td>1.62</td>\n",
       "    </tr>\n",
       "    <tr>\n",
       "      <th>3</th>\n",
       "      <td>loc_ic_t2t_mou_8</td>\n",
       "      <td>1.48</td>\n",
       "    </tr>\n",
       "    <tr>\n",
       "      <th>17</th>\n",
       "      <td>vbc_3g_8</td>\n",
       "      <td>1.48</td>\n",
       "    </tr>\n",
       "    <tr>\n",
       "      <th>18</th>\n",
       "      <td>avg_arpu_av67</td>\n",
       "      <td>1.46</td>\n",
       "    </tr>\n",
       "    <tr>\n",
       "      <th>1</th>\n",
       "      <td>loc_og_t2t_mou_8</td>\n",
       "      <td>1.41</td>\n",
       "    </tr>\n",
       "    <tr>\n",
       "      <th>13</th>\n",
       "      <td>vol_2g_mb_8</td>\n",
       "      <td>1.29</td>\n",
       "    </tr>\n",
       "    <tr>\n",
       "      <th>11</th>\n",
       "      <td>last_day_rch_amt_8</td>\n",
       "      <td>1.27</td>\n",
       "    </tr>\n",
       "    <tr>\n",
       "      <th>5</th>\n",
       "      <td>loc_ic_t2f_mou_8</td>\n",
       "      <td>1.21</td>\n",
       "    </tr>\n",
       "    <tr>\n",
       "      <th>7</th>\n",
       "      <td>std_ic_t2m_mou_8</td>\n",
       "      <td>1.19</td>\n",
       "    </tr>\n",
       "    <tr>\n",
       "      <th>6</th>\n",
       "      <td>std_ic_t2t_mou_8</td>\n",
       "      <td>1.15</td>\n",
       "    </tr>\n",
       "    <tr>\n",
       "      <th>8</th>\n",
       "      <td>std_ic_t2f_mou_8</td>\n",
       "      <td>1.10</td>\n",
       "    </tr>\n",
       "    <tr>\n",
       "      <th>9</th>\n",
       "      <td>spl_ic_mou_8</td>\n",
       "      <td>1.04</td>\n",
       "    </tr>\n",
       "  </tbody>\n",
       "</table>\n",
       "</div>"
      ],
      "text/plain": [
       "                   Features    VIF\n",
       "12        total_rech_data_8  14.94\n",
       "15              sachet_2g_8  14.19\n",
       "0                     const  13.86\n",
       "4          loc_ic_t2m_mou_8   3.25\n",
       "19  avg_loc_ic_t2m_mou_av67   2.45\n",
       "16             monthly_3g_8   2.17\n",
       "10         total_rech_num_8   2.09\n",
       "20  avg_total_rech_num_av67   2.00\n",
       "2          loc_og_t2m_mou_8   1.89\n",
       "14             monthly_2g_8   1.62\n",
       "3          loc_ic_t2t_mou_8   1.48\n",
       "17                 vbc_3g_8   1.48\n",
       "18            avg_arpu_av67   1.46\n",
       "1          loc_og_t2t_mou_8   1.41\n",
       "13              vol_2g_mb_8   1.29\n",
       "11       last_day_rch_amt_8   1.27\n",
       "5          loc_ic_t2f_mou_8   1.21\n",
       "7          std_ic_t2m_mou_8   1.19\n",
       "6          std_ic_t2t_mou_8   1.15\n",
       "8          std_ic_t2f_mou_8   1.10\n",
       "9              spl_ic_mou_8   1.04"
      ]
     },
     "execution_count": 155,
     "metadata": {},
     "output_type": "execute_result"
    }
   ],
   "source": [
    "from statsmodels.stats.outliers_influence import variance_inflation_factor\n",
    "\n",
    "vif = pd.DataFrame()\n",
    "X = X_train_rfe\n",
    "vif['Features'] = X.columns\n",
    "vif['VIF'] = [variance_inflation_factor(X.values, i) for i in range(X.shape[1])]\n",
    "vif['VIF'] = round(vif['VIF'], 2)\n",
    "vif = vif.sort_values(by = \"VIF\", ascending = False)\n",
    "vif"
   ]
  },
  {
   "cell_type": "markdown",
   "id": "1bde4dfc",
   "metadata": {},
   "source": [
    "#### Removing \"total_rech_data_8\", 'const' columns due to high VIF"
   ]
  },
  {
   "cell_type": "code",
   "execution_count": 156,
   "id": "f5d2a118",
   "metadata": {},
   "outputs": [],
   "source": [
    "X_train_new = X_train_rfe.drop([\"total_rech_data_8\", 'const'], axis = 1)"
   ]
  },
  {
   "cell_type": "code",
   "execution_count": 157,
   "id": "05d203eb",
   "metadata": {},
   "outputs": [
    {
     "data": {
      "text/html": [
       "<div>\n",
       "<style scoped>\n",
       "    .dataframe tbody tr th:only-of-type {\n",
       "        vertical-align: middle;\n",
       "    }\n",
       "\n",
       "    .dataframe tbody tr th {\n",
       "        vertical-align: top;\n",
       "    }\n",
       "\n",
       "    .dataframe thead th {\n",
       "        text-align: right;\n",
       "    }\n",
       "</style>\n",
       "<table border=\"1\" class=\"dataframe\">\n",
       "  <thead>\n",
       "    <tr style=\"text-align: right;\">\n",
       "      <th></th>\n",
       "      <th>Features</th>\n",
       "      <th>VIF</th>\n",
       "    </tr>\n",
       "  </thead>\n",
       "  <tbody>\n",
       "    <tr>\n",
       "      <th>18</th>\n",
       "      <td>avg_total_rech_num_av67</td>\n",
       "      <td>5.72</td>\n",
       "    </tr>\n",
       "    <tr>\n",
       "      <th>16</th>\n",
       "      <td>avg_arpu_av67</td>\n",
       "      <td>5.35</td>\n",
       "    </tr>\n",
       "    <tr>\n",
       "      <th>3</th>\n",
       "      <td>loc_ic_t2m_mou_8</td>\n",
       "      <td>4.21</td>\n",
       "    </tr>\n",
       "    <tr>\n",
       "      <th>9</th>\n",
       "      <td>total_rech_num_8</td>\n",
       "      <td>3.96</td>\n",
       "    </tr>\n",
       "    <tr>\n",
       "      <th>17</th>\n",
       "      <td>avg_loc_ic_t2m_mou_av67</td>\n",
       "      <td>3.68</td>\n",
       "    </tr>\n",
       "    <tr>\n",
       "      <th>1</th>\n",
       "      <td>loc_og_t2m_mou_8</td>\n",
       "      <td>2.33</td>\n",
       "    </tr>\n",
       "    <tr>\n",
       "      <th>2</th>\n",
       "      <td>loc_ic_t2t_mou_8</td>\n",
       "      <td>1.75</td>\n",
       "    </tr>\n",
       "    <tr>\n",
       "      <th>10</th>\n",
       "      <td>last_day_rch_amt_8</td>\n",
       "      <td>1.67</td>\n",
       "    </tr>\n",
       "    <tr>\n",
       "      <th>15</th>\n",
       "      <td>vbc_3g_8</td>\n",
       "      <td>1.63</td>\n",
       "    </tr>\n",
       "    <tr>\n",
       "      <th>14</th>\n",
       "      <td>monthly_3g_8</td>\n",
       "      <td>1.57</td>\n",
       "    </tr>\n",
       "    <tr>\n",
       "      <th>0</th>\n",
       "      <td>loc_og_t2t_mou_8</td>\n",
       "      <td>1.57</td>\n",
       "    </tr>\n",
       "    <tr>\n",
       "      <th>13</th>\n",
       "      <td>sachet_2g_8</td>\n",
       "      <td>1.44</td>\n",
       "    </tr>\n",
       "    <tr>\n",
       "      <th>12</th>\n",
       "      <td>monthly_2g_8</td>\n",
       "      <td>1.43</td>\n",
       "    </tr>\n",
       "    <tr>\n",
       "      <th>11</th>\n",
       "      <td>vol_2g_mb_8</td>\n",
       "      <td>1.40</td>\n",
       "    </tr>\n",
       "    <tr>\n",
       "      <th>6</th>\n",
       "      <td>std_ic_t2m_mou_8</td>\n",
       "      <td>1.33</td>\n",
       "    </tr>\n",
       "    <tr>\n",
       "      <th>4</th>\n",
       "      <td>loc_ic_t2f_mou_8</td>\n",
       "      <td>1.32</td>\n",
       "    </tr>\n",
       "    <tr>\n",
       "      <th>5</th>\n",
       "      <td>std_ic_t2t_mou_8</td>\n",
       "      <td>1.23</td>\n",
       "    </tr>\n",
       "    <tr>\n",
       "      <th>7</th>\n",
       "      <td>std_ic_t2f_mou_8</td>\n",
       "      <td>1.14</td>\n",
       "    </tr>\n",
       "    <tr>\n",
       "      <th>8</th>\n",
       "      <td>spl_ic_mou_8</td>\n",
       "      <td>1.07</td>\n",
       "    </tr>\n",
       "  </tbody>\n",
       "</table>\n",
       "</div>"
      ],
      "text/plain": [
       "                   Features   VIF\n",
       "18  avg_total_rech_num_av67  5.72\n",
       "16            avg_arpu_av67  5.35\n",
       "3          loc_ic_t2m_mou_8  4.21\n",
       "9          total_rech_num_8  3.96\n",
       "17  avg_loc_ic_t2m_mou_av67  3.68\n",
       "1          loc_og_t2m_mou_8  2.33\n",
       "2          loc_ic_t2t_mou_8  1.75\n",
       "10       last_day_rch_amt_8  1.67\n",
       "15                 vbc_3g_8  1.63\n",
       "14             monthly_3g_8  1.57\n",
       "0          loc_og_t2t_mou_8  1.57\n",
       "13              sachet_2g_8  1.44\n",
       "12             monthly_2g_8  1.43\n",
       "11              vol_2g_mb_8  1.40\n",
       "6          std_ic_t2m_mou_8  1.33\n",
       "4          loc_ic_t2f_mou_8  1.32\n",
       "5          std_ic_t2t_mou_8  1.23\n",
       "7          std_ic_t2f_mou_8  1.14\n",
       "8              spl_ic_mou_8  1.07"
      ]
     },
     "execution_count": 157,
     "metadata": {},
     "output_type": "execute_result"
    }
   ],
   "source": [
    "# checking VIF again\n",
    "from statsmodels.stats.outliers_influence import variance_inflation_factor\n",
    "\n",
    "vif = pd.DataFrame()\n",
    "X = X_train_new\n",
    "vif['Features'] = X.columns\n",
    "vif['VIF'] = [variance_inflation_factor(X.values, i) for i in range(X.shape[1])]\n",
    "vif['VIF'] = round(vif['VIF'], 2)\n",
    "vif = vif.sort_values(by = \"VIF\", ascending = False)\n",
    "vif"
   ]
  },
  {
   "cell_type": "markdown",
   "id": "e9067808",
   "metadata": {},
   "source": [
    "#### Removing 'avg_total_rech_num_av67' due to VIF greater than 5"
   ]
  },
  {
   "cell_type": "code",
   "execution_count": 158,
   "id": "77f246a6",
   "metadata": {},
   "outputs": [],
   "source": [
    "X_train_new1 = X_train_new.drop(['avg_total_rech_num_av67'], axis = 1)"
   ]
  },
  {
   "cell_type": "code",
   "execution_count": 159,
   "id": "104c8b5b",
   "metadata": {
    "scrolled": true
   },
   "outputs": [
    {
     "data": {
      "text/html": [
       "<div>\n",
       "<style scoped>\n",
       "    .dataframe tbody tr th:only-of-type {\n",
       "        vertical-align: middle;\n",
       "    }\n",
       "\n",
       "    .dataframe tbody tr th {\n",
       "        vertical-align: top;\n",
       "    }\n",
       "\n",
       "    .dataframe thead th {\n",
       "        text-align: right;\n",
       "    }\n",
       "</style>\n",
       "<table border=\"1\" class=\"dataframe\">\n",
       "  <thead>\n",
       "    <tr style=\"text-align: right;\">\n",
       "      <th></th>\n",
       "      <th>Features</th>\n",
       "      <th>VIF</th>\n",
       "    </tr>\n",
       "  </thead>\n",
       "  <tbody>\n",
       "    <tr>\n",
       "      <th>3</th>\n",
       "      <td>loc_ic_t2m_mou_8</td>\n",
       "      <td>4.17</td>\n",
       "    </tr>\n",
       "    <tr>\n",
       "      <th>17</th>\n",
       "      <td>avg_loc_ic_t2m_mou_av67</td>\n",
       "      <td>3.60</td>\n",
       "    </tr>\n",
       "    <tr>\n",
       "      <th>16</th>\n",
       "      <td>avg_arpu_av67</td>\n",
       "      <td>3.06</td>\n",
       "    </tr>\n",
       "    <tr>\n",
       "      <th>9</th>\n",
       "      <td>total_rech_num_8</td>\n",
       "      <td>2.68</td>\n",
       "    </tr>\n",
       "    <tr>\n",
       "      <th>1</th>\n",
       "      <td>loc_og_t2m_mou_8</td>\n",
       "      <td>2.30</td>\n",
       "    </tr>\n",
       "    <tr>\n",
       "      <th>2</th>\n",
       "      <td>loc_ic_t2t_mou_8</td>\n",
       "      <td>1.74</td>\n",
       "    </tr>\n",
       "    <tr>\n",
       "      <th>15</th>\n",
       "      <td>vbc_3g_8</td>\n",
       "      <td>1.63</td>\n",
       "    </tr>\n",
       "    <tr>\n",
       "      <th>10</th>\n",
       "      <td>last_day_rch_amt_8</td>\n",
       "      <td>1.61</td>\n",
       "    </tr>\n",
       "    <tr>\n",
       "      <th>0</th>\n",
       "      <td>loc_og_t2t_mou_8</td>\n",
       "      <td>1.57</td>\n",
       "    </tr>\n",
       "    <tr>\n",
       "      <th>14</th>\n",
       "      <td>monthly_3g_8</td>\n",
       "      <td>1.55</td>\n",
       "    </tr>\n",
       "    <tr>\n",
       "      <th>13</th>\n",
       "      <td>sachet_2g_8</td>\n",
       "      <td>1.44</td>\n",
       "    </tr>\n",
       "    <tr>\n",
       "      <th>12</th>\n",
       "      <td>monthly_2g_8</td>\n",
       "      <td>1.43</td>\n",
       "    </tr>\n",
       "    <tr>\n",
       "      <th>11</th>\n",
       "      <td>vol_2g_mb_8</td>\n",
       "      <td>1.40</td>\n",
       "    </tr>\n",
       "    <tr>\n",
       "      <th>4</th>\n",
       "      <td>loc_ic_t2f_mou_8</td>\n",
       "      <td>1.32</td>\n",
       "    </tr>\n",
       "    <tr>\n",
       "      <th>6</th>\n",
       "      <td>std_ic_t2m_mou_8</td>\n",
       "      <td>1.32</td>\n",
       "    </tr>\n",
       "    <tr>\n",
       "      <th>5</th>\n",
       "      <td>std_ic_t2t_mou_8</td>\n",
       "      <td>1.23</td>\n",
       "    </tr>\n",
       "    <tr>\n",
       "      <th>7</th>\n",
       "      <td>std_ic_t2f_mou_8</td>\n",
       "      <td>1.14</td>\n",
       "    </tr>\n",
       "    <tr>\n",
       "      <th>8</th>\n",
       "      <td>spl_ic_mou_8</td>\n",
       "      <td>1.07</td>\n",
       "    </tr>\n",
       "  </tbody>\n",
       "</table>\n",
       "</div>"
      ],
      "text/plain": [
       "                   Features   VIF\n",
       "3          loc_ic_t2m_mou_8  4.17\n",
       "17  avg_loc_ic_t2m_mou_av67  3.60\n",
       "16            avg_arpu_av67  3.06\n",
       "9          total_rech_num_8  2.68\n",
       "1          loc_og_t2m_mou_8  2.30\n",
       "2          loc_ic_t2t_mou_8  1.74\n",
       "15                 vbc_3g_8  1.63\n",
       "10       last_day_rch_amt_8  1.61\n",
       "0          loc_og_t2t_mou_8  1.57\n",
       "14             monthly_3g_8  1.55\n",
       "13              sachet_2g_8  1.44\n",
       "12             monthly_2g_8  1.43\n",
       "11              vol_2g_mb_8  1.40\n",
       "4          loc_ic_t2f_mou_8  1.32\n",
       "6          std_ic_t2m_mou_8  1.32\n",
       "5          std_ic_t2t_mou_8  1.23\n",
       "7          std_ic_t2f_mou_8  1.14\n",
       "8              spl_ic_mou_8  1.07"
      ]
     },
     "execution_count": 159,
     "metadata": {},
     "output_type": "execute_result"
    }
   ],
   "source": [
    "from statsmodels.stats.outliers_influence import variance_inflation_factor\n",
    "\n",
    "vif = pd.DataFrame()\n",
    "X = X_train_new1\n",
    "vif['Features'] = X.columns\n",
    "vif['VIF'] = [variance_inflation_factor(X.values, i) for i in range(X.shape[1])]\n",
    "vif['VIF'] = round(vif['VIF'], 2)\n",
    "vif = vif.sort_values(by = \"VIF\", ascending = False)\n",
    "vif"
   ]
  },
  {
   "cell_type": "markdown",
   "id": "1564049b",
   "metadata": {},
   "source": [
    "#### Now VIF of all variables are less than 5"
   ]
  },
  {
   "cell_type": "code",
   "execution_count": 160,
   "id": "5330583c",
   "metadata": {},
   "outputs": [],
   "source": [
    "import statsmodels.api as sm  \n",
    "X_train_lm = sm.add_constant(X_train_new1)"
   ]
  },
  {
   "cell_type": "code",
   "execution_count": 161,
   "id": "783659ae",
   "metadata": {},
   "outputs": [],
   "source": [
    "lm = sm.OLS(y_smote,X_train_lm).fit()"
   ]
  },
  {
   "cell_type": "code",
   "execution_count": 162,
   "id": "582d94e6",
   "metadata": {},
   "outputs": [
    {
     "name": "stdout",
     "output_type": "stream",
     "text": [
      "                            OLS Regression Results                            \n",
      "==============================================================================\n",
      "Dep. Variable:                  churn   R-squared:                       0.432\n",
      "Model:                            OLS   Adj. R-squared:                  0.431\n",
      "Method:                 Least Squares   F-statistic:                     1497.\n",
      "Date:                Wed, 28 Jul 2021   Prob (F-statistic):               0.00\n",
      "Time:                        22:31:56   Log-Likelihood:                -15746.\n",
      "No. Observations:               35514   AIC:                         3.153e+04\n",
      "Df Residuals:                   35495   BIC:                         3.169e+04\n",
      "Df Model:                          18                                         \n",
      "Covariance Type:            nonrobust                                         \n",
      "===========================================================================================\n",
      "                              coef    std err          t      P>|t|      [0.025      0.975]\n",
      "-------------------------------------------------------------------------------------------\n",
      "const                       0.6060      0.007     81.498      0.000       0.591       0.621\n",
      "loc_og_t2t_mou_8           -0.4246      0.042    -10.120      0.000      -0.507      -0.342\n",
      "loc_og_t2m_mou_8           -1.0215      0.040    -25.318      0.000      -1.101      -0.942\n",
      "loc_ic_t2t_mou_8           -0.7101      0.043    -16.468      0.000      -0.795      -0.626\n",
      "loc_ic_t2m_mou_8           -1.2770      0.052    -24.397      0.000      -1.380      -1.174\n",
      "loc_ic_t2f_mou_8           -0.5181      0.039    -13.290      0.000      -0.594      -0.442\n",
      "std_ic_t2t_mou_8           -0.5794      0.046    -12.617      0.000      -0.669      -0.489\n",
      "std_ic_t2m_mou_8           -0.5980      0.042    -14.153      0.000      -0.681      -0.515\n",
      "std_ic_t2f_mou_8           -0.3637      0.043     -8.472      0.000      -0.448      -0.280\n",
      "spl_ic_mou_8               -0.7568      0.031    -24.190      0.000      -0.818      -0.695\n",
      "total_rech_num_8           -1.3092      0.029    -44.667      0.000      -1.367      -1.252\n",
      "last_day_rch_amt_8         -0.7906      0.022    -35.265      0.000      -0.835      -0.747\n",
      "vol_2g_mb_8                -0.5536      0.039    -14.145      0.000      -0.630      -0.477\n",
      "monthly_2g_8               -1.0418      0.037    -28.457      0.000      -1.114      -0.970\n",
      "sachet_2g_8                -0.7804      0.030    -26.016      0.000      -0.839      -0.722\n",
      "monthly_3g_8               -0.6645      0.036    -18.353      0.000      -0.735      -0.594\n",
      "vbc_3g_8                   -0.4119      0.037    -11.213      0.000      -0.484      -0.340\n",
      "avg_arpu_av67               0.7823      0.025     30.685      0.000       0.732       0.832\n",
      "avg_loc_ic_t2m_mou_av67     0.5036      0.042     11.877      0.000       0.420       0.587\n",
      "==============================================================================\n",
      "Omnibus:                     1558.787   Durbin-Watson:                   1.052\n",
      "Prob(Omnibus):                  0.000   Jarque-Bera (JB):              862.112\n",
      "Skew:                          -0.222   Prob(JB):                    6.24e-188\n",
      "Kurtosis:                       2.380   Cond. No.                         33.5\n",
      "==============================================================================\n",
      "\n",
      "Notes:\n",
      "[1] Standard Errors assume that the covariance matrix of the errors is correctly specified.\n"
     ]
    }
   ],
   "source": [
    "#Let's see the summary of our linear model\n",
    "print(lm.summary())"
   ]
  },
  {
   "cell_type": "markdown",
   "id": "0c1b8838",
   "metadata": {},
   "source": [
    "### Here after RFE and VIF, R-square value is still 0.43 which can be improved by using classification model"
   ]
  },
  {
   "cell_type": "markdown",
   "id": "b83be333",
   "metadata": {},
   "source": [
    "### XGBoost Model"
   ]
  },
  {
   "cell_type": "code",
   "execution_count": 163,
   "id": "b9039849",
   "metadata": {},
   "outputs": [],
   "source": [
    "from sklearn.ensemble import RandomForestClassifier, GradientBoostingClassifier\n",
    "from sklearn.linear_model import LogisticRegression\n",
    "from sklearn.metrics import accuracy_score, log_loss\n",
    "from imblearn.over_sampling import SMOTE\n",
    "\n",
    "import xgboost as xgb  # Load this xgboost\n",
    "\n",
    "from sklearn.model_selection import train_test_split\n",
    "\n",
    "\n",
    "# Import and suppress warnings\n",
    "import warnings\n",
    "warnings.filterwarnings('ignore')\n",
    "\n",
    "\n",
    "from sklearn.model_selection import GridSearchCV, RandomizedSearchCV, cross_val_score, learning_curve, train_test_split\n"
   ]
  },
  {
   "cell_type": "code",
   "execution_count": 164,
   "id": "f9a3d5b5",
   "metadata": {},
   "outputs": [
    {
     "data": {
      "text/plain": [
       "{'objective': 'binary:logistic',\n",
       " 'use_label_encoder': True,\n",
       " 'base_score': None,\n",
       " 'booster': None,\n",
       " 'colsample_bylevel': None,\n",
       " 'colsample_bynode': None,\n",
       " 'colsample_bytree': None,\n",
       " 'gamma': None,\n",
       " 'gpu_id': None,\n",
       " 'importance_type': 'gain',\n",
       " 'interaction_constraints': None,\n",
       " 'learning_rate': None,\n",
       " 'max_delta_step': None,\n",
       " 'max_depth': None,\n",
       " 'min_child_weight': None,\n",
       " 'missing': nan,\n",
       " 'monotone_constraints': None,\n",
       " 'n_estimators': 100,\n",
       " 'n_jobs': -1,\n",
       " 'num_parallel_tree': None,\n",
       " 'random_state': None,\n",
       " 'reg_alpha': None,\n",
       " 'reg_lambda': None,\n",
       " 'scale_pos_weight': None,\n",
       " 'subsample': None,\n",
       " 'tree_method': None,\n",
       " 'validate_parameters': None,\n",
       " 'verbosity': None}"
      ]
     },
     "execution_count": 164,
     "metadata": {},
     "output_type": "execute_result"
    }
   ],
   "source": [
    "xgb_cfl = xgb.XGBClassifier(n_jobs = -1,objective = 'binary:logistic')\n",
    "xgb_cfl.get_params()"
   ]
  },
  {
   "cell_type": "code",
   "execution_count": 165,
   "id": "48761de8",
   "metadata": {},
   "outputs": [
    {
     "name": "stdout",
     "output_type": "stream",
     "text": [
      "[22:31:56] WARNING: ..\\src\\learner.cc:1095: Starting in XGBoost 1.3.0, the default evaluation metric used with the objective 'binary:logistic' was changed from 'error' to 'logloss'. Explicitly set eval_metric if you'd like to restore the old behavior.\n"
     ]
    }
   ],
   "source": [
    "# Fit the model to our train and target\n",
    "xgb_cfl.fit(X_smote, y_smote)  # default \n",
    "# Get our predictions\n",
    "xgb_predictions = xgb_cfl.predict(X_test)"
   ]
  },
  {
   "cell_type": "code",
   "execution_count": 166,
   "id": "c1e21211",
   "metadata": {},
   "outputs": [
    {
     "data": {
      "text/plain": [
       "array([[9.9345744e-01, 6.5425397e-03],\n",
       "       [1.4445871e-01, 8.5554129e-01],\n",
       "       [9.4657350e-01, 5.3426523e-02],\n",
       "       ...,\n",
       "       [9.9714547e-01, 2.8545232e-03],\n",
       "       [9.1714323e-01, 8.2856767e-02],\n",
       "       [9.9974293e-01, 2.5709587e-04]], dtype=float32)"
      ]
     },
     "execution_count": 166,
     "metadata": {},
     "output_type": "execute_result"
    }
   ],
   "source": [
    "xgb_predictions_prob = xgb_cfl.predict_proba(X_test)\n",
    "xgb_predictions_prob"
   ]
  },
  {
   "cell_type": "code",
   "execution_count": 167,
   "id": "778e3257",
   "metadata": {},
   "outputs": [
    {
     "data": {
      "text/plain": [
       "0.9373191899710704"
      ]
     },
     "execution_count": 167,
     "metadata": {},
     "output_type": "execute_result"
    }
   ],
   "source": [
    "accuracy_score(y_test, xgb_predictions)"
   ]
  },
  {
   "cell_type": "markdown",
   "id": "4fe11b51",
   "metadata": {},
   "source": [
    "### XGBoost model has given good improvement in the accuracy which is 93%"
   ]
  },
  {
   "cell_type": "markdown",
   "id": "95acb250",
   "metadata": {},
   "source": [
    "### Strategies to manage customer churn"
   ]
  },
  {
   "cell_type": "markdown",
   "id": "3c59ff7b",
   "metadata": {},
   "source": [
    "1. Less number of **high value customer** are churing but for last **6 month** no new high valued cusotmer is onboarded which is concerning and company should concentrate on that aspect.\n",
    "2. Customers with less than 4 years of tenure are more likely to churn and company should concentrate more on that segment by rolling out new schems to that group.\n",
    "3. Average revenue per user seems to be most important feature in determining churn prediction.\n",
    "4. Incoming and Outgoing Calls on romaing for 8th month are strong indicators of churn behaviour.\n",
    "5. Local Outgoing calls made to landline , fixedline , mobile and call center provides a strong indicator of churn behaviour.\n",
    "6. Better 2G/3G area coverage where 2G/3G services are not good, it's strong indicator of churn behaviour."
   ]
  },
  {
   "cell_type": "markdown",
   "id": "0caf7cf2",
   "metadata": {},
   "source": [
    "### Results and Analysis"
   ]
  },
  {
   "cell_type": "markdown",
   "id": "1e2c7683",
   "metadata": {},
   "source": [
    "- I have chosen accuracy as metric evaluation technique to compare results of different models. \n",
    "- PCA dimentionality technique has been used to reduce the features.\n",
    "- SMOTE has been used to handle class imbalance problem. The same has been presented using pie chart.\n",
    "- Logistic Rgression with PCA has given 79% accuracy.\n",
    "- Linear Regression after handling class imbalance problem and RFE is used to reduce the features has given 43% accuracy.\n",
    "- XGBoost has given approx 94% accuracy and outperformed the other models."
   ]
  }
 ],
 "metadata": {
  "kernelspec": {
   "display_name": "Python 3",
   "language": "python",
   "name": "python3"
  },
  "language_info": {
   "codemirror_mode": {
    "name": "ipython",
    "version": 3
   },
   "file_extension": ".py",
   "mimetype": "text/x-python",
   "name": "python",
   "nbconvert_exporter": "python",
   "pygments_lexer": "ipython3",
   "version": "3.8.8"
  }
 },
 "nbformat": 4,
 "nbformat_minor": 5
}
